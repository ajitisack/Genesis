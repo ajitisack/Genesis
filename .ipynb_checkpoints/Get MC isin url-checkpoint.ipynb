{
 "cells": [
  {
   "cell_type": "code",
   "execution_count": 11,
   "metadata": {},
   "outputs": [],
   "source": [
    "import pandas as pd\n",
    "from tqdm import tqdm\n",
    "from concurrent.futures import ThreadPoolExecutor\n",
    "from selenium.webdriver import Firefox\n",
    "from selenium.webdriver.firefox.options import Options"
   ]
  },
  {
   "cell_type": "code",
   "execution_count": 2,
   "metadata": {},
   "outputs": [
    {
     "name": "stderr",
     "output_type": "stream",
     "text": [
      "<ipython-input-2-d7121187a9f6>:2: DeprecationWarning: use setter for headless property instead of set_headless\n",
      "  opts.set_headless()\n"
     ]
    }
   ],
   "source": [
    "opts = Options()\n",
    "opts.set_headless()"
   ]
  },
  {
   "cell_type": "code",
   "execution_count": 16,
   "metadata": {},
   "outputs": [
    {
     "data": {
      "text/plain": [
       "99"
      ]
     },
     "execution_count": 16,
     "metadata": {},
     "output_type": "execute_result"
    }
   ],
   "source": [
    "isins = ['INE455C01014', 'INE07LH01016', 'INE510B01018', 'INE01GR01018', 'INE956B01013', 'INE615R01011', 'INE758D01027', 'INE313G01016', 'INE506Z01015', 'INE972E01014', 'INE780E01011', 'INE942P01013', 'INE183R01010', 'INE0B1K01014', 'INE871Z01013', 'INE158R01012', 'INE746V01016', 'INE579N01018', 'INE193D01019', 'INE919M01018', 'INE397G01019', 'INE138B01018', 'INE109Y01011', 'INE706N01017', 'INE771C01014', 'INE315F01013', 'INE482Z01019', 'INE906L01025', 'INE594D01018', 'INE927X01018', 'INE152E01013', 'INE095B01010', 'INE669R01018', 'INE560T01015', 'INE279D01016', 'INE030Q01015', 'INE044N01013', 'INE649L01013', 'INE073C01015', 'INE993I01011', 'INE552Q01018', 'INE439G01019', 'INE932F01015', 'INE308B01017', 'INE953W01016', 'INE328F01016', 'INE546I01017', 'INE958A01011', 'INE535P01015', 'INE06TD01010', 'INE339D01034', 'INE229N01010', 'INE335G01019', 'INE207D01017', 'INE138D01014', 'INE617C01027', 'INE087E01011', 'INE734I01027', 'INE771F01025', 'INE161F01011', 'INE108T01013', 'INE399S01010', 'INE789R01014', 'INE977E01013', 'INE092D01013', 'INE836C01015', 'INE180Z01019', 'INE365H01014', 'INE241F01011', 'INE425D01015', 'INE076D01016', 'INE868G01019', 'INE282D01010', 'INE906Y01010', 'INE255C01018', 'INE243E01010', 'INE803L01016', 'INE755J01012', 'INE278O01015', 'INE615T01017', 'INE932M01011', 'INE162L01017', 'INE721C01019', 'INE194E01015', 'INE653S01010', 'INE797D01017', 'INE236P01010', 'INE925D01014', 'INE340D01016', 'INE052E01015', 'INE003Q01012', 'INE191P01017', 'INE200P01016', 'INE168O01026', 'INE545E01018', 'INE713N01013', 'INE721X01015', 'INE503D01027', 'INE165F01020', 'INE194N01016', 'INE06H201014', 'INE256D01014', 'INE00WY01013', 'INE631D01026', 'INE063Z01017', 'INE063601012', 'INE918C01011', 'INE776O01018', 'INE131D01019', 'INE05QJ01015', 'INE580D01017', 'INE804Q01013', 'INE03CM01014', 'INE062C01034', 'INE064L01015', 'INE207H01018', 'INE492Z01018', 'INE832C01014', 'INE642I01014', 'INE595D01015', 'INE634J01019', 'INE505D01014', 'INE222U01010', 'INE427D01011', 'INE327C01031', 'INE641H01018', 'INE136C01036', 'INE792J01015', 'INE538G01018', 'INE225G01012', 'INE912B01032', 'INE545R01010', 'INE915E01013', 'INE214F01026', 'INE791H01011', 'INE343C01012', 'INE721D01017', 'INE910R01016', 'INE541F01022', 'INE218N01013', 'INE276I01011', 'INE372D01019', 'INE373D01017', 'INE636P01011', 'INE499G01013', 'INE574D01010', 'INE487G01018', 'INE661K01010', 'INE115S01010', 'INE982Q01017', 'INE626Z01011', 'INE772B01014', 'INE167F01018', 'INE01K301012', 'INE681F01018', 'INE219D01012', 'INE671D01014', 'INE02PC01019', 'INE549B01016', 'INE345Q01017', 'INE691J01019', 'INE160N01017', 'INE025D01013', 'INE738P01015', 'INE930A01010', 'INE319M01011', 'INE302R01016', 'INE966Q01010', 'INE552N01015', 'INE723D01021', 'INE464C01024', 'INE02XD01011', 'INE724D01011', 'INE832D01020', 'INE727Q01016', 'INE963A01011', 'INE258Z01013', 'INE689E01014', 'INE173V01013', 'INE309B01023', 'INF346A01034', 'INE0AU701018', 'INE682B01023', 'INE088P01015', 'INE649R01010', 'INE474O01010', 'INE064T01018', 'INE714U01016', 'INE898B01017', 'INE099S01016', 'INE684U01011', 'INE373V01019', 'INE818R01011', 'INE786E01018', 'INE874A01010', 'INE224C01014', 'INE507D01010', 'INE115E01010', 'INE429D01017', 'INE146H01018', 'INE628F01019', 'INE954M01031', 'INE333C01013', 'INE807A01010', 'INE456B01014', 'INE147D01015', 'INE319N01019', 'INE400S01016', 'INE250Z01010', 'INE314N01010']\n",
    "len(isins)"
   ]
  },
  {
   "cell_type": "code",
   "execution_count": 17,
   "metadata": {},
   "outputs": [],
   "source": [
    "def geturl(isin):\n",
    "    try:\n",
    "        browser = Firefox(options=opts, executable_path=r'C:\\geckodriver\\geckodriver.exe')\n",
    "        browser.get('https://www.moneycontrol.com/')\n",
    "        browser.find_element_by_id('companyname').send_keys(isin)\n",
    "        browser.find_element_by_class_name('ico_srh').click()\n",
    "        url = browser.current_url\n",
    "        browser.close()\n",
    "        return (isin, url)\n",
    "    except:\n",
    "        return (isin, '')"
   ]
  },
  {
   "cell_type": "code",
   "execution_count": null,
   "metadata": {},
   "outputs": [
    {
     "name": "stderr",
     "output_type": "stream",
     "text": [
      " 85%|█████████████████████████████████████████████████████████████████████▌            | 84/99 [37:14<07:49, 31.33s/it]"
     ]
    }
   ],
   "source": [
    "%%time\n",
    "x = [geturl(i) for i in tqdm(isins)]"
   ]
  },
  {
   "cell_type": "code",
   "execution_count": 13,
   "metadata": {},
   "outputs": [],
   "source": [
    "isin, url = [], []\n",
    "for i in x:\n",
    "    isin.append(i[0])\n",
    "    url.append(i[1])\n",
    "df = pd.DataFrame({'isin':isin, 'url':url})\n",
    "df.to_csv('a.csv')"
   ]
  },
  {
   "cell_type": "code",
   "execution_count": 14,
   "metadata": {},
   "outputs": [
    {
     "data": {
      "text/html": [
       "<div>\n",
       "<style scoped>\n",
       "    .dataframe tbody tr th:only-of-type {\n",
       "        vertical-align: middle;\n",
       "    }\n",
       "\n",
       "    .dataframe tbody tr th {\n",
       "        vertical-align: top;\n",
       "    }\n",
       "\n",
       "    .dataframe thead th {\n",
       "        text-align: right;\n",
       "    }\n",
       "</style>\n",
       "<table border=\"1\" class=\"dataframe\">\n",
       "  <thead>\n",
       "    <tr style=\"text-align: right;\">\n",
       "      <th></th>\n",
       "      <th>isin</th>\n",
       "      <th>url</th>\n",
       "    </tr>\n",
       "  </thead>\n",
       "  <tbody>\n",
       "    <tr>\n",
       "      <th>0</th>\n",
       "      <td>INE578R01011</td>\n",
       "      <td>https://www.moneycontrol.com/stocks/cptmarket/...</td>\n",
       "    </tr>\n",
       "    <tr>\n",
       "      <th>1</th>\n",
       "      <td>INE948Q01018</td>\n",
       "      <td>https://www.moneycontrol.com/stocks/cptmarket/...</td>\n",
       "    </tr>\n",
       "    <tr>\n",
       "      <th>2</th>\n",
       "      <td>INE986W01016</td>\n",
       "      <td>https://www.moneycontrol.com/india/stockpriceq...</td>\n",
       "    </tr>\n",
       "    <tr>\n",
       "      <th>3</th>\n",
       "      <td>INE958L01018</td>\n",
       "      <td>https://www.moneycontrol.com/india/stockpriceq...</td>\n",
       "    </tr>\n",
       "    <tr>\n",
       "      <th>4</th>\n",
       "      <td>INE106G01014</td>\n",
       "      <td>https://www.moneycontrol.com/india/stockpriceq...</td>\n",
       "    </tr>\n",
       "    <tr>\n",
       "      <th>5</th>\n",
       "      <td>INE026I01010</td>\n",
       "      <td>https://www.moneycontrol.com/india/stockpriceq...</td>\n",
       "    </tr>\n",
       "    <tr>\n",
       "      <th>6</th>\n",
       "      <td>INE336Q01016</td>\n",
       "      <td>https://www.moneycontrol.com/india/stockpriceq...</td>\n",
       "    </tr>\n",
       "    <tr>\n",
       "      <th>7</th>\n",
       "      <td>INE972C01018</td>\n",
       "      <td>https://www.moneycontrol.com/india/stockpriceq...</td>\n",
       "    </tr>\n",
       "    <tr>\n",
       "      <th>8</th>\n",
       "      <td>INE341Z01017</td>\n",
       "      <td>https://www.moneycontrol.com/india/stockpriceq...</td>\n",
       "    </tr>\n",
       "    <tr>\n",
       "      <th>9</th>\n",
       "      <td>INE436C01014</td>\n",
       "      <td>https://www.moneycontrol.com/</td>\n",
       "    </tr>\n",
       "    <tr>\n",
       "      <th>10</th>\n",
       "      <td>INE491D01017</td>\n",
       "      <td>https://www.moneycontrol.com/stocks/cptmarket/...</td>\n",
       "    </tr>\n",
       "    <tr>\n",
       "      <th>11</th>\n",
       "      <td>INE564V01013</td>\n",
       "      <td>https://www.moneycontrol.com/india/stockpriceq...</td>\n",
       "    </tr>\n",
       "    <tr>\n",
       "      <th>12</th>\n",
       "      <td>INE160L01011</td>\n",
       "      <td>https://www.moneycontrol.com/india/stockpriceq...</td>\n",
       "    </tr>\n",
       "    <tr>\n",
       "      <th>13</th>\n",
       "      <td>INE830N01015</td>\n",
       "      <td>https://www.moneycontrol.com/india/stockpriceq...</td>\n",
       "    </tr>\n",
       "    <tr>\n",
       "      <th>14</th>\n",
       "      <td>INE962P01011</td>\n",
       "      <td>https://www.moneycontrol.com/india/stockpriceq...</td>\n",
       "    </tr>\n",
       "    <tr>\n",
       "      <th>15</th>\n",
       "      <td>INE373E01015</td>\n",
       "      <td>https://www.moneycontrol.com/india/stockpriceq...</td>\n",
       "    </tr>\n",
       "    <tr>\n",
       "      <th>16</th>\n",
       "      <td>INE253C01013</td>\n",
       "      <td>https://www.moneycontrol.com/india/stockpriceq...</td>\n",
       "    </tr>\n",
       "    <tr>\n",
       "      <th>17</th>\n",
       "      <td>INE373T01039</td>\n",
       "      <td>https://www.moneycontrol.com/stocks/cptmarket/...</td>\n",
       "    </tr>\n",
       "    <tr>\n",
       "      <th>18</th>\n",
       "      <td>INE583M01012</td>\n",
       "      <td>https://www.moneycontrol.com/india/stockpriceq...</td>\n",
       "    </tr>\n",
       "  </tbody>\n",
       "</table>\n",
       "</div>"
      ],
      "text/plain": [
       "            isin                                                url\n",
       "0   INE578R01011  https://www.moneycontrol.com/stocks/cptmarket/...\n",
       "1   INE948Q01018  https://www.moneycontrol.com/stocks/cptmarket/...\n",
       "2   INE986W01016  https://www.moneycontrol.com/india/stockpriceq...\n",
       "3   INE958L01018  https://www.moneycontrol.com/india/stockpriceq...\n",
       "4   INE106G01014  https://www.moneycontrol.com/india/stockpriceq...\n",
       "5   INE026I01010  https://www.moneycontrol.com/india/stockpriceq...\n",
       "6   INE336Q01016  https://www.moneycontrol.com/india/stockpriceq...\n",
       "7   INE972C01018  https://www.moneycontrol.com/india/stockpriceq...\n",
       "8   INE341Z01017  https://www.moneycontrol.com/india/stockpriceq...\n",
       "9   INE436C01014                      https://www.moneycontrol.com/\n",
       "10  INE491D01017  https://www.moneycontrol.com/stocks/cptmarket/...\n",
       "11  INE564V01013  https://www.moneycontrol.com/india/stockpriceq...\n",
       "12  INE160L01011  https://www.moneycontrol.com/india/stockpriceq...\n",
       "13  INE830N01015  https://www.moneycontrol.com/india/stockpriceq...\n",
       "14  INE962P01011  https://www.moneycontrol.com/india/stockpriceq...\n",
       "15  INE373E01015  https://www.moneycontrol.com/india/stockpriceq...\n",
       "16  INE253C01013  https://www.moneycontrol.com/india/stockpriceq...\n",
       "17  INE373T01039  https://www.moneycontrol.com/stocks/cptmarket/...\n",
       "18  INE583M01012  https://www.moneycontrol.com/india/stockpriceq..."
      ]
     },
     "execution_count": 14,
     "metadata": {},
     "output_type": "execute_result"
    }
   ],
   "source": [
    "df"
   ]
  }
 ],
 "metadata": {
  "kernelspec": {
   "display_name": "Python 3",
   "language": "python",
   "name": "python3"
  },
  "language_info": {
   "codemirror_mode": {
    "name": "ipython",
    "version": 3
   },
   "file_extension": ".py",
   "mimetype": "text/x-python",
   "name": "python",
   "nbconvert_exporter": "python",
   "pygments_lexer": "ipython3",
   "version": "3.8.3"
  }
 },
 "nbformat": 4,
 "nbformat_minor": 4
}
