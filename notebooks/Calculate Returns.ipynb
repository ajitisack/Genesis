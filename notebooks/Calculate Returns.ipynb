{
 "cells": [
  {
   "cell_type": "code",
   "execution_count": null,
   "metadata": {},
   "outputs": [],
   "source": [
    "from IPython.core.interactiveshell import InteractiveShell\n",
    "InteractiveShell.ast_node_interactivity = \"all\""
   ]
  },
  {
   "cell_type": "code",
   "execution_count": null,
   "metadata": {},
   "outputs": [],
   "source": [
    "import stockdata as sd\n",
    "import pandas as pd\n",
    "import arrow"
   ]
  },
  {
   "cell_type": "markdown",
   "metadata": {},
   "source": [
    "#### Function to fetch previous days, months & years close values of given symbol"
   ]
  },
  {
   "cell_type": "code",
   "execution_count": null,
   "metadata": {},
   "outputs": [],
   "source": [
    "def getprevclosevalues(df, date=None):\n",
    "    dt = df.index[df.index <= arrow.get(date).format('YYYY-MM-DD')].max() or df.index.max()\n",
    "    close = df.loc[dt,'close']\n",
    "    ddts = [arrow.get(dt).shift(days=-i) for i in range(1,21)]\n",
    "    mdts = [arrow.get(dt).shift(months=-i) for i in [1,2,3,4,5,6,9]]\n",
    "    ydts = [arrow.get(dt).shift(years=-i) for i in range(1,11)]\n",
    "    dates = [df.index[df.index <= dt.format('YYYY-MM-DD')].max() for dt in ddts+mdts+ydts]\n",
    "    values = [dt, close] + [0 if pd.isna(dt) else df.loc[dt,'close'] for dt in dates]\n",
    "    return values"
   ]
  },
  {
   "cell_type": "markdown",
   "metadata": {},
   "source": [
    "#### Read close price from database and Calculate previous close prices(days/months/years) of all symbols"
   ]
  },
  {
   "cell_type": "code",
   "execution_count": null,
   "metadata": {},
   "outputs": [],
   "source": [
    "%%time\n",
    "date = None\n",
    "df = sd.getdata(\"select date, symbol, close from nsehistprice where year>=2009\")\n",
    "df['date'] = pd.to_datetime(df['date'])\n",
    "df.set_index('date', inplace=True)\n",
    "close_values = df.groupby('symbol').apply(lambda x: getprevclosevalues(x, date))\n",
    "data = [value for value in close_values]\n",
    "cols = ['date','close'\n",
    "        ,'close1d','close2d','close3d','close4d','close5d','close6d','close7d','close8d','close9d','close10d'\n",
    "        ,'close11d','close12d','close13d','close14d','close15d','close16d','close17d','close18d','close19d','close20d'\n",
    "        ,'close1m','close2m','close3m','close4m', 'close5m','close6m','close9m'\n",
    "        ,'close1y','close2y','close3y','close4y','close5y','close6y','close7y','close8y','close9y','close10y']\n",
    "df = pd.DataFrame(data, index=close_values.index, columns=cols).reset_index()\n",
    "del(close_values)"
   ]
  },
  {
   "cell_type": "code",
   "execution_count": null,
   "metadata": {},
   "outputs": [],
   "source": [
    "df.head()"
   ]
  },
  {
   "cell_type": "markdown",
   "metadata": {},
   "source": [
    "#### Calculate Average Return"
   ]
  },
  {
   "cell_type": "code",
   "execution_count": null,
   "metadata": {},
   "outputs": [],
   "source": [
    "ar = lambda y, x: 0 if y==0 else round((y - x)/y, 4)"
   ]
  },
  {
   "cell_type": "code",
   "execution_count": null,
   "metadata": {},
   "outputs": [],
   "source": [
    "%%time\n",
    "df_ardly = pd.DataFrame()\n",
    "df_ardly['symbol'] = df['symbol']\n",
    "df_ardly['date']   = df['date']\n",
    "df_ardly['currentprice'] = df['close']\n",
    "for i in range(1,21):\n",
    "    df_ardly[f'ar{i}d'] = df.apply(lambda x: ar(x['close'], x[f'close{i}d']), axis=1)\n",
    "df_ardly.head()"
   ]
  },
  {
   "cell_type": "code",
   "execution_count": null,
   "metadata": {},
   "outputs": [],
   "source": [
    "%%time\n",
    "df_ar = pd.DataFrame()\n",
    "df_ar['symbol'] = df['symbol']\n",
    "df_ar['date']   = df['date']\n",
    "df_ar['currentprice'] = df['close']\n",
    "ar_list = ['1d', '5d', '10d', '15d'] + list(map(lambda x: x.replace('close', ''), cols[17:]))\n",
    "for i in ar_list:\n",
    "    df_ar[f'ar{i}'] = df.apply(lambda x: ar(x['close'], x[f'close{i}']), axis=1)\n",
    "df_ar.head()"
   ]
  },
  {
   "cell_type": "markdown",
   "metadata": {},
   "source": [
    "#### Compunded Annual Growth Retrun(CAGR)"
   ]
  },
  {
   "cell_type": "code",
   "execution_count": null,
   "metadata": {},
   "outputs": [],
   "source": [
    "cagr = lambda y, x, n: 0 if x==0 or n==0 else round((pow((y/x), (1/n)) - 1), 4)"
   ]
  },
  {
   "cell_type": "code",
   "execution_count": null,
   "metadata": {},
   "outputs": [],
   "source": [
    "%%time\n",
    "df_cagr = pd.DataFrame()\n",
    "df_cagr['symbol']  = df['symbol']\n",
    "df_cagr['date']    = df['date']\n",
    "df_cagr['currentprice'] = df['close']\n",
    "for i in range(1,11):\n",
    "    df_cagr[f'cagr{i}y']  = df.apply(lambda x: cagr(x['close'], x[f'close{i}y'], 1), axis=1)\n",
    "df_cagr.head()"
   ]
  },
  {
   "cell_type": "markdown",
   "metadata": {},
   "source": [
    "#### Write dfs to excel"
   ]
  },
  {
   "cell_type": "code",
   "execution_count": null,
   "metadata": {},
   "outputs": [],
   "source": [
    "%%time\n",
    "with pd.ExcelWriter('Returns.xlsx') as writer:\n",
    "    df_ardly.to_excel(writer, sheet_name='Daily Avg. Retrun', index=False, freeze_panes=(1,0))\n",
    "    df_ar.to_excel(writer, sheet_name='Avg. Retrun', index=False, freeze_panes=(1,0))\n",
    "    df_cagr.to_excel(writer, sheet_name='CAGR', index=False, freeze_panes=(1,0))"
   ]
  },
  {
   "cell_type": "code",
   "execution_count": null,
   "metadata": {},
   "outputs": [],
   "source": [
    "df_ardly.head()"
   ]
  },
  {
   "cell_type": "code",
   "execution_count": null,
   "metadata": {},
   "outputs": [],
   "source": [
    "dfx = df_ardly.iloc[:,3:]\n",
    "dfx.index = df_ardly.symbol\n",
    "dfx.head()"
   ]
  },
  {
   "cell_type": "code",
   "execution_count": null,
   "metadata": {},
   "outputs": [],
   "source": [
    "dfx[dfx.iloc[:,:]>0].to_csv('a.csv')"
   ]
  }
 ],
 "metadata": {
  "kernelspec": {
   "display_name": "Python 3",
   "language": "python",
   "name": "python3"
  },
  "language_info": {
   "codemirror_mode": {
    "name": "ipython",
    "version": 3
   },
   "file_extension": ".py",
   "mimetype": "text/x-python",
   "name": "python",
   "nbconvert_exporter": "python",
   "pygments_lexer": "ipython3",
   "version": "3.8.3"
  }
 },
 "nbformat": 4,
 "nbformat_minor": 4
}
