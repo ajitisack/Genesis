{
 "cells": [
  {
   "cell_type": "code",
   "execution_count": 1,
   "metadata": {},
   "outputs": [
    {
     "name": "stderr",
     "output_type": "stream",
     "text": [
      "Using TensorFlow backend.\n"
     ]
    }
   ],
   "source": [
    "import stockdata as sd\n",
    "import pandas as pd\n",
    "import numpy as np\n",
    "from math import sqrt\n",
    "import matplotlib.pyplot as plt\n",
    "from sklearn.metrics import mean_squared_error\n",
    "from sklearn.preprocessing import MinMaxScaler\n",
    "from keras.preprocessing.sequence import TimeseriesGenerator\n",
    "from keras.models import Sequential\n",
    "from keras.layers import Dense, Dropout, LSTM"
   ]
  },
  {
   "cell_type": "code",
   "execution_count": null,
   "metadata": {},
   "outputs": [],
   "source": [
    "df = sd.getdata(\"select date, close from nsehistprice where symbol = 'INDUSINDBK'\")"
   ]
  },
  {
   "cell_type": "code",
   "execution_count": null,
   "metadata": {},
   "outputs": [],
   "source": [
    "\n",
    "df['date'] = pd.to_datetime(df.date)\n",
    "df.set_index('date', inplace=True)\n",
    "\n",
    "n_test_days = 5\n",
    "train, test = df[:-n_test_days], df[-n_test_days:]\n",
    "\n",
    "len(train)\n",
    "len(test)\n",
    "\n",
    "scaler = MinMaxScaler()\n",
    "xtrain = scaler.fit_transform(train)\n",
    "xtest  = scaler.fit_transform(test)\n",
    "\n",
    "n_input    = 1\n",
    "n_features = 1\n",
    "xtrain = TimeseriesGenerator(xtrain, xtrain, length=n_input, batch_size=1)\n",
    "xtest  = TimeseriesGenerator(xtest, xtest, length=n_input, batch_size=1)"
   ]
  },
  {
   "cell_type": "code",
   "execution_count": null,
   "metadata": {},
   "outputs": [],
   "source": [
    "model = Sequential()\n",
    "model.add(LSTM(100, activation='relu', input_shape=(n_input, n_features)))\n",
    "model.add(Dense(1))\n",
    "model.compile(optimizer='adam', loss='mean_squared_error')\n",
    "\n",
    "model.fit_generator(xtrain, epochs=10, verbose=2)"
   ]
  },
  {
   "cell_type": "code",
   "execution_count": null,
   "metadata": {},
   "outputs": [],
   "source": [
    "preds = model.predict(xtest)\n",
    "preds = np.round(scaler.inverse_transform(preds),2)\n",
    "test['pred_close'] = np.append(preds, 0)"
   ]
  },
  {
   "cell_type": "code",
   "execution_count": null,
   "metadata": {},
   "outputs": [],
   "source": [
    "# Predict Test incrementally\n",
    "pred_list = []\n",
    "batch = xtrain[-n_input:]\n",
    "for i in range(n_test_days):\n",
    "    batch = batch.reshape((1, n_input, n_features))\n",
    "    pred_val = model.predict(batch)[0]\n",
    "    pred_list.append(pred_val)\n",
    "    batch = pred_val\n",
    "test['sequence_pred'] = np.round(scaler.inverse_transform(pred_list), 2)"
   ]
  }
 ],
 "metadata": {
  "kernelspec": {
   "display_name": "Python 3",
   "language": "python",
   "name": "python3"
  },
  "language_info": {
   "codemirror_mode": {
    "name": "ipython",
    "version": 3
   },
   "file_extension": ".py",
   "mimetype": "text/x-python",
   "name": "python",
   "nbconvert_exporter": "python",
   "pygments_lexer": "ipython3",
   "version": "3.8.3"
  }
 },
 "nbformat": 4,
 "nbformat_minor": 4
}
