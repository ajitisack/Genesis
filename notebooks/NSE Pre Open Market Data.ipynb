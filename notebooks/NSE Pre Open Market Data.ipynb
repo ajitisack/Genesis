{
 "cells": [
  {
   "cell_type": "code",
   "execution_count": 1,
   "metadata": {},
   "outputs": [],
   "source": [
    "import requests\n",
    "import json"
   ]
  },
  {
   "cell_type": "code",
   "execution_count": 44,
   "metadata": {},
   "outputs": [],
   "source": [
    "url = 'https://www.nseindia.com/api/market-data-pre-open?key=ALL'\n",
    "headers = {\n",
    "    \"User-Agent\": \"Mozilla/5.0 (Windows NT 10.0; Win64; x64; rv:66.0) Gecko/20100101 Firefox/66.0\",\n",
    "    \"Accept-Encoding\": \"*\",\n",
    "    \"Connection\": \"keep-alive\"\n",
    "}\n",
    "response = requests.get(url, headers=headers)\n",
    "json_str = json.loads(response.text)\n",
    "with open('nse-pre-open-20200528.json', 'w') as outfile: json.dump(json_str, outfile)"
   ]
  },
  {
   "cell_type": "code",
   "execution_count": 8,
   "metadata": {},
   "outputs": [
    {
     "name": "stdout",
     "output_type": "stream",
     "text": [
      "Help on function get in module requests.api:\n",
      "\n",
      "get(url, params=None, **kwargs)\n",
      "    Sends a GET request.\n",
      "    \n",
      "    :param url: URL for the new :class:`Request` object.\n",
      "    :param params: (optional) Dictionary, list of tuples or bytes to send\n",
      "        in the query string for the :class:`Request`.\n",
      "    :param \\*\\*kwargs: Optional arguments that ``request`` takes.\n",
      "    :return: :class:`Response <Response>` object\n",
      "    :rtype: requests.Response\n",
      "\n"
     ]
    }
   ],
   "source": [
    "help(requests.get)"
   ]
  },
  {
   "cell_type": "code",
   "execution_count": 33,
   "metadata": {},
   "outputs": [],
   "source": [
    "data = json_str['data']"
   ]
  },
  {
   "cell_type": "code",
   "execution_count": 37,
   "metadata": {},
   "outputs": [],
   "source": [
    "x= data[0]"
   ]
  },
  {
   "cell_type": "code",
   "execution_count": 40,
   "metadata": {},
   "outputs": [
    {
     "data": {
      "text/plain": [
       "{'symbol': 'KOTARISUG',\n",
       " 'identifier': 'KOTARISUGEQN',\n",
       " 'purpose': ' ANNUAL GENERAL MEETING/DIVIDEND - RS 0.50 PER SHARE',\n",
       " 'lastPrice': 13.5,\n",
       " 'change': 2.0999999999999996,\n",
       " 'pChange': 18.421052631578945,\n",
       " 'previousClose': 11.4,\n",
       " 'finalQuantity': 48507,\n",
       " 'totalTurnover': 654844.5,\n",
       " 'marketCap': '-',\n",
       " 'yearHigh': 17.1,\n",
       " 'yearLow': 7.25,\n",
       " 'iep': 13.5,\n",
       " 'chartTodayPath': 'https://static.nseindia.com/sparklines/today/preOpen_KOTARISUGEQN.jpg'}"
      ]
     },
     "execution_count": 40,
     "metadata": {},
     "output_type": "execute_result"
    }
   ],
   "source": [
    "x['metadata]"
   ]
  },
  {
   "cell_type": "code",
   "execution_count": 42,
   "metadata": {},
   "outputs": [
    {
     "data": {
      "text/plain": [
       "{'preOpenMarket': {'preopen': [{'price': 11.4, 'buyQty': 0, 'sellQty': 51},\n",
       "   {'price': 11.5, 'buyQty': 0, 'sellQty': 100},\n",
       "   {'price': 11.65, 'buyQty': 0, 'sellQty': 300},\n",
       "   {'price': 12.65, 'buyQty': 0, 'sellQty': 150},\n",
       "   {'price': 13.1, 'buyQty': 1526, 'sellQty': 0},\n",
       "   {'price': 13.4, 'buyQty': 120, 'sellQty': 0},\n",
       "   {'price': 13.5, 'buyQty': 500, 'sellQty': 0, 'iep': True},\n",
       "   {'price': 13.65, 'buyQty': 16120, 'sellQty': 0}],\n",
       "  'ato': {'totalBuyQuantity': 32312, 'totalSellQuantity': 1},\n",
       "  'IEP': 13.5,\n",
       "  'totalTradedVolume': 48507,\n",
       "  'finalPrice': 13.5,\n",
       "  'finalQuantity': 48507,\n",
       "  'lastUpdateTime': '28-May-2020 09:07:24',\n",
       "  'totalSellQuantity': 39901,\n",
       "  'totalBuyQuantity': 190415,\n",
       "  'atoBuyQty': 32312,\n",
       "  'atoSellQty': 1}}"
      ]
     },
     "execution_count": 42,
     "metadata": {},
     "output_type": "execute_result"
    }
   ],
   "source": [
    "x['detail']"
   ]
  }
 ],
 "metadata": {
  "kernelspec": {
   "display_name": "Python 3",
   "language": "python",
   "name": "python3"
  },
  "language_info": {
   "codemirror_mode": {
    "name": "ipython",
    "version": 3
   },
   "file_extension": ".py",
   "mimetype": "text/x-python",
   "name": "python",
   "nbconvert_exporter": "python",
   "pygments_lexer": "ipython3",
   "version": "3.8.3"
  }
 },
 "nbformat": 4,
 "nbformat_minor": 4
}
