{
 "cells": [
  {
   "cell_type": "code",
   "execution_count": 1,
   "metadata": {},
   "outputs": [],
   "source": [
    "import pandas as pd\n",
    "import stockdata as sd"
   ]
  },
  {
   "cell_type": "code",
   "execution_count": 2,
   "metadata": {},
   "outputs": [
    {
     "name": "stdout",
     "output_type": "stream",
     "text": [
      "Refreshing table [NSE_MyWatchlistCurrentPrice] with 30 records...Completed\n",
      "Finished [download] in 16.4285 secs\n"
     ]
    }
   ],
   "source": [
    "sd.downloadmylistcurrentprice()"
   ]
  },
  {
   "cell_type": "code",
   "execution_count": null,
   "metadata": {},
   "outputs": [],
   "source": [
    "query = \"\"\"\n",
    "select c.indexname, c.industry, b.name, b.symbol, d.marketcap, b.dateoflisting, a.date, a.close\n",
    "from symbols b\n",
    "    left outer join histprice a on a.symbol = b.symbol\n",
    "\tleft outer join indices c on a.symbol = c.symbol\n",
    "\tleft outer join profilemc d on a.symbol = d.symbol\n",
    "where 1 =1 \n",
    "and indexname in ('Nifty 50', 'Nifty Next 50', 'Nifty Midcap 100', 'Nifty Smallcap 100')\n",
    "and date in ( \n",
    "  '2020-01-01'\n",
    ", '2020-03-02'\n",
    ", '2020-04-16'\n",
    ", '2020-06-01'\n",
    ", '2020-08-16'\n",
    ", '2020-09-01'\n",
    ", '2020-09-18'\n",
    ", '2020-09-25'\n",
    ");\n",
    "\"\"\""
   ]
  },
  {
   "cell_type": "code",
   "execution_count": null,
   "metadata": {},
   "outputs": [],
   "source": [
    "df = sd.getdata(query)\n",
    "df.fillna(0, inplace=True)\n",
    "df = pd.pivot_table(df, index=['indexname', 'industry', 'name', 'symbol', 'marketcap'], columns='date')\n",
    "df.columns = df.columns.droplevel()\n",
    "df.reset_index(inplace=True)\n",
    "df = df.sort_values(by=['industry', 'marketcap'])\n",
    "df.to_csv('new_inv_plan.csv', index=False)"
   ]
  }
 ],
 "metadata": {
  "kernelspec": {
   "display_name": "Python 3",
   "language": "python",
   "name": "python3"
  },
  "language_info": {
   "codemirror_mode": {
    "name": "ipython",
    "version": 3
   },
   "file_extension": ".py",
   "mimetype": "text/x-python",
   "name": "python",
   "nbconvert_exporter": "python",
   "pygments_lexer": "ipython3",
   "version": "3.8.5"
  }
 },
 "nbformat": 4,
 "nbformat_minor": 4
}
