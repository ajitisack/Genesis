{
 "cells": [
  {
   "cell_type": "code",
   "execution_count": 68,
   "metadata": {},
   "outputs": [],
   "source": [
    "import stockdata as sd\n",
    "import pandas as pd"
   ]
  },
  {
   "cell_type": "code",
   "execution_count": 62,
   "metadata": {},
   "outputs": [],
   "source": [
    "def readindexweighatge(indexname, url):\n",
    "    df = pd.read_html(url)[1]\n",
    "    df = df[['Company Name', 'Weightage']]\n",
    "    df.insert(0, 'Index Name', indexname)\n",
    "    return df\n",
    "\n",
    "def processdf(df):\n",
    "    df['Company Name'] = df['Company Name'].apply(lambda x: x.replace('Ltd.', '').replace('Limited', ''))\n",
    "    df['Weightage'] = df['Weightage'].apply(lambda x: x.replace('%', ''))\n",
    "    df['Weightage'] = pd.to_numeric(df['Weightage'])\n",
    "    return df"
   ]
  },
  {
   "cell_type": "code",
   "execution_count": 63,
   "metadata": {},
   "outputs": [],
   "source": [
    "df = readindexweighatge('Nifty 50', 'https://www.moneyworks4me.com/best-index/nse-stocks/top-nifty50-companies-list/')\n",
    "df = readindexweighatge('Nifty 100', 'https://www.moneyworks4me.com/best-index/nse-stocks/top-nse100-companies-list/')\n",
    "df = readindexweighatge('Nifty Bank', 'https://www.moneyworks4me.com/nse-index/top-nse-bank-companies-list/')\n",
    "df = processdf(df)"
   ]
  },
  {
   "cell_type": "code",
   "execution_count": 65,
   "metadata": {},
   "outputs": [
    {
     "data": {
      "text/plain": [
       "Index Name       object\n",
       "Company Name     object\n",
       "Weightage       float64\n",
       "dtype: object"
      ]
     },
     "execution_count": 65,
     "metadata": {},
     "output_type": "execute_result"
    }
   ],
   "source": [
    "df.dtypes"
   ]
  },
  {
   "cell_type": "code",
   "execution_count": 64,
   "metadata": {},
   "outputs": [
    {
     "data": {
      "text/html": [
       "<div>\n",
       "<style scoped>\n",
       "    .dataframe tbody tr th:only-of-type {\n",
       "        vertical-align: middle;\n",
       "    }\n",
       "\n",
       "    .dataframe tbody tr th {\n",
       "        vertical-align: top;\n",
       "    }\n",
       "\n",
       "    .dataframe thead th {\n",
       "        text-align: right;\n",
       "    }\n",
       "</style>\n",
       "<table border=\"1\" class=\"dataframe\">\n",
       "  <thead>\n",
       "    <tr style=\"text-align: right;\">\n",
       "      <th></th>\n",
       "      <th>Index Name</th>\n",
       "      <th>Company Name</th>\n",
       "      <th>Weightage</th>\n",
       "    </tr>\n",
       "  </thead>\n",
       "  <tbody>\n",
       "    <tr>\n",
       "      <th>0</th>\n",
       "      <td>Nifty 50</td>\n",
       "      <td>Reliance Industries</td>\n",
       "      <td>12.46</td>\n",
       "    </tr>\n",
       "    <tr>\n",
       "      <th>1</th>\n",
       "      <td>Nifty 50</td>\n",
       "      <td>HDFC Bank</td>\n",
       "      <td>10.66</td>\n",
       "    </tr>\n",
       "    <tr>\n",
       "      <th>2</th>\n",
       "      <td>Nifty 50</td>\n",
       "      <td>Housing Development Fin. Corp. £</td>\n",
       "      <td>7.00</td>\n",
       "    </tr>\n",
       "    <tr>\n",
       "      <th>3</th>\n",
       "      <td>Nifty 50</td>\n",
       "      <td>Infosys</td>\n",
       "      <td>6.22</td>\n",
       "    </tr>\n",
       "    <tr>\n",
       "      <th>4</th>\n",
       "      <td>Nifty 50</td>\n",
       "      <td>ICICI Bank</td>\n",
       "      <td>5.25</td>\n",
       "    </tr>\n",
       "  </tbody>\n",
       "</table>\n",
       "</div>"
      ],
      "text/plain": [
       "  Index Name                      Company Name  Weightage\n",
       "0   Nifty 50              Reliance Industries       12.46\n",
       "1   Nifty 50                        HDFC Bank       10.66\n",
       "2   Nifty 50  Housing Development Fin. Corp. £       7.00\n",
       "3   Nifty 50                          Infosys        6.22\n",
       "4   Nifty 50                       ICICI Bank        5.25"
      ]
     },
     "execution_count": 64,
     "metadata": {},
     "output_type": "execute_result"
    }
   ],
   "source": [
    "df.head()"
   ]
  },
  {
   "cell_type": "code",
   "execution_count": 2,
   "metadata": {},
   "outputs": [],
   "source": [
    "import pandas as pd\n",
    "df = pd.read_excel(r'C:\\ajit\\stockanalysis\\stockdata\\indices\\indices.xlsx', sheet_name='NSE')"
   ]
  },
  {
   "cell_type": "code",
   "execution_count": 7,
   "metadata": {},
   "outputs": [
    {
     "data": {
      "text/plain": [
       "(35, 6)"
      ]
     },
     "execution_count": 7,
     "metadata": {},
     "output_type": "execute_result"
    }
   ],
   "source": [
    "df[df.url.notna()].shape"
   ]
  }
 ],
 "metadata": {
  "kernelspec": {
   "display_name": "Python 3",
   "language": "python",
   "name": "python3"
  },
  "language_info": {
   "codemirror_mode": {
    "name": "ipython",
    "version": 3
   },
   "file_extension": ".py",
   "mimetype": "text/x-python",
   "name": "python",
   "nbconvert_exporter": "python",
   "pygments_lexer": "ipython3",
   "version": "3.8.3"
  }
 },
 "nbformat": 4,
 "nbformat_minor": 4
}
