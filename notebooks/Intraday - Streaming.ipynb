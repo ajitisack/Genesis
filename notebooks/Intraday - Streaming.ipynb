{
 "cells": [
  {
   "cell_type": "markdown",
   "metadata": {},
   "source": [
    "### **Download NSE Intraday data**"
   ]
  },
  {
   "cell_type": "code",
   "execution_count": 1,
   "metadata": {},
   "outputs": [],
   "source": [
    "from IPython.core.interactiveshell import InteractiveShell\n",
    "InteractiveShell.ast_node_interactivity = \"all\"\n",
    "\n",
    "import stockdata as sd\n",
    "import pandas as pd\n",
    "import arrow\n",
    "import json\n",
    "import requests"
   ]
  },
  {
   "cell_type": "markdown",
   "metadata": {},
   "source": [
    "**Class & Functions**"
   ]
  },
  {
   "cell_type": "code",
   "execution_count": 2,
   "metadata": {},
   "outputs": [],
   "source": [
    "class IntraDayDataDict():\n",
    "    \n",
    "    def __init__(self):\n",
    "        self.request_max_retries = 5\n",
    "        self.yfqueryurl = 'https://query1.finance.yahoo.com/v8/finance/chart'\n",
    "        \n",
    "    def getquotes(self, data):\n",
    "        try:\n",
    "            quotes = data.get('indicators').get('quote')[0]\n",
    "            if quotes == {}: return {}\n",
    "            hist = {}\n",
    "            hist['timestamp'] = data.get('timestamp')\n",
    "            hist['symbol'] = data.get('meta').get('symbol')\n",
    "            hist['open'] = quotes.get('open')\n",
    "            hist['low'] = quotes.get('low')\n",
    "            hist['high'] = quotes.get('high')\n",
    "            hist['close'] = quotes.get('close')\n",
    "            hist['volume'] = quotes.get('volume')\n",
    "            return hist\n",
    "        except:\n",
    "            return {}\n",
    "\n",
    "    def getchartresult(self, symbol, date):\n",
    "        try:\n",
    "            params = {}\n",
    "            params['period1']  = arrow.get(date).timestamp\n",
    "            params['period2']  = arrow.get(date).shift(days=1).timestamp\n",
    "            params['interval'] = '1m'\n",
    "            url = f'{self.yfqueryurl}/{symbol}'\n",
    "            print(url, params)\n",
    "            with requests.Session() as session:\n",
    "                session.mount(url, HTTPAdapter(max_retries=self.request_max_retries))\n",
    "                response = session.get(url, params=params)\n",
    "            chartdata = json.loads(response.text).get('chart').get('result')[0]\n",
    "            return chartdata\n",
    "        except:\n",
    "            return None\n",
    "\n",
    "    def getintradaydata(self, symbol, date):\n",
    "        quotes = []\n",
    "        symbol = symbol.upper()\n",
    "        data = self.getchartresult(symbol, date)\n",
    "        quotes = self.getquotes(data)\n",
    "        return quotes"
   ]
  },
  {
   "cell_type": "code",
   "execution_count": 5,
   "metadata": {},
   "outputs": [],
   "source": [
    "x = IntraDayDataDict()"
   ]
  },
  {
   "cell_type": "code",
   "execution_count": 7,
   "metadata": {},
   "outputs": [
    {
     "name": "stdout",
     "output_type": "stream",
     "text": [
      "https://query1.finance.yahoo.com/v8/finance/chart/AXISBANK.NS {'period1': 1595203200, 'period2': 1595289600, 'interval': '1m'}\n"
     ]
    },
    {
     "data": {
      "text/plain": [
       "{}"
      ]
     },
     "execution_count": 7,
     "metadata": {},
     "output_type": "execute_result"
    }
   ],
   "source": [
    "x.getintradaydata('AXISBANK.NS', '2020-07-20')"
   ]
  }
 ],
 "metadata": {
  "kernelspec": {
   "display_name": "Python 3",
   "language": "python",
   "name": "python3"
  },
  "language_info": {
   "codemirror_mode": {
    "name": "ipython",
    "version": 3
   },
   "file_extension": ".py",
   "mimetype": "text/x-python",
   "name": "python",
   "nbconvert_exporter": "python",
   "pygments_lexer": "ipython3",
   "version": "3.8.3"
  }
 },
 "nbformat": 4,
 "nbformat_minor": 4
}
