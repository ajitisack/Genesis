{
 "cells": [
  {
   "cell_type": "code",
   "execution_count": 1,
   "metadata": {},
   "outputs": [],
   "source": [
    "from IPython.core.interactiveshell import InteractiveShell\n",
    "InteractiveShell.ast_node_interactivity = \"all\"\n",
    "\n",
    "import pandas as pd\n",
    "import stockdata as sd"
   ]
  },
  {
   "cell_type": "code",
   "execution_count": 12,
   "metadata": {},
   "outputs": [],
   "source": [
    "def getindexsymbolsinsectors(indexname):\n",
    "    query = f\"\"\"\n",
    "    SELECT indexname, name, a.symbol, 1 x\n",
    "    from indices a\n",
    "        join symbols b on a.symbol = b.symbol\n",
    "    where 1 = 1\n",
    "    and (indextype = 'Sector' or indexname = '{indexname}')\n",
    "    \"\"\"\n",
    "    df = sd.getdata(query)\n",
    "    df = pd.pivot_table(df, index=['symbol', 'name'], columns='indexname')\n",
    "    df.columns = df.columns.droplevel()\n",
    "    df.reset_index(inplace=True)\n",
    "    df.fillna(0, inplace=True)\n",
    "    cols = df.columns[df.dtypes.eq('float64')]\n",
    "    df[cols] = df[cols].apply(pd.to_numeric, errors='ignore', axis=1, downcast='integer')\n",
    "    df.columns = map(lambda x: x.replace('Nifty ', '') if x != indexname else x, df.columns)\n",
    "    return df"
   ]
  },
  {
   "cell_type": "code",
   "execution_count": 13,
   "metadata": {},
   "outputs": [],
   "source": [
    "df1 = getindexsymbolsinsectors('Nifty 50')\n",
    "df2 = getindexsymbolsinsectors('Nifty 100')\n",
    "df3 = getindexsymbolsinsectors('Nifty Midcap 50')\n",
    "df4 = getindexsymbolsinsectors('Nifty Smallcap 50')\n",
    "with pd.ExcelWriter('Nifty Index Symbols.xlsx',) as writer:\n",
    "    df1.to_excel(writer, sheet_name='Nifty 50', index=False, freeze_panes=(1,3))\n",
    "    df2.to_excel(writer, sheet_name='Nifty 100', index=False, freeze_panes=(1,3))\n",
    "    df3.to_excel(writer, sheet_name='Nifty Midcap 50', index=False, freeze_panes=(1,3))\n",
    "    df4.to_excel(writer, sheet_name='Nifty Smallcap 50', index=False, freeze_panes=(1,3))"
   ]
  }
 ],
 "metadata": {
  "kernelspec": {
   "display_name": "Python 3",
   "language": "python",
   "name": "python3"
  },
  "language_info": {
   "codemirror_mode": {
    "name": "ipython",
    "version": 3
   },
   "file_extension": ".py",
   "mimetype": "text/x-python",
   "name": "python",
   "nbconvert_exporter": "python",
   "pygments_lexer": "ipython3",
   "version": "3.8.5"
  }
 },
 "nbformat": 4,
 "nbformat_minor": 4
}
