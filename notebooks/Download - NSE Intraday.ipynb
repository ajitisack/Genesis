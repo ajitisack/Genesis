{
 "cells": [
  {
   "cell_type": "markdown",
   "metadata": {},
   "source": [
    "### **Download NSE Intraday data**"
   ]
  },
  {
   "cell_type": "code",
   "execution_count": 1,
   "metadata": {},
   "outputs": [],
   "source": [
    "from IPython.core.interactiveshell import InteractiveShell\n",
    "InteractiveShell.ast_node_interactivity = \"all\"\n",
    "\n",
    "import stockdata as sd"
   ]
  },
  {
   "cell_type": "markdown",
   "metadata": {},
   "source": [
    "**Download NSE symbols**"
   ]
  },
  {
   "cell_type": "code",
   "execution_count": 2,
   "metadata": {},
   "outputs": [
    {
     "name": "stdout",
     "output_type": "stream",
     "text": [
      "Fetching list of all NSE Equities...Completed\n",
      "Refreshing table [NSE_EquitySymbols] with 1684 records...Completed\n",
      "Finished [download] in 0.7436 secs\n"
     ]
    }
   ],
   "source": [
    "sd.downloadsymbols()"
   ]
  },
  {
   "cell_type": "markdown",
   "metadata": {},
   "source": [
    "**Download NSE Market Pre-Open Data**"
   ]
  },
  {
   "cell_type": "code",
   "execution_count": null,
   "metadata": {},
   "outputs": [],
   "source": [
    "sd.downloadnsepreopendata()"
   ]
  },
  {
   "cell_type": "markdown",
   "metadata": {},
   "source": [
    "**Download current price of NSE FnO stocks**"
   ]
  },
  {
   "cell_type": "code",
   "execution_count": null,
   "metadata": {},
   "outputs": [],
   "source": [
    "sd.downloadnsefnostockscurrentprice()"
   ]
  },
  {
   "cell_type": "markdown",
   "metadata": {},
   "source": [
    "**Download current price of NSE Indices**"
   ]
  },
  {
   "cell_type": "code",
   "execution_count": null,
   "metadata": {},
   "outputs": [],
   "source": [
    "sd.downloadnseallindicescurrentprice()"
   ]
  },
  {
   "cell_type": "markdown",
   "metadata": {},
   "source": [
    "**Download intraday data for given date of F&O Symbols**"
   ]
  },
  {
   "cell_type": "code",
   "execution_count": null,
   "metadata": {},
   "outputs": [],
   "source": [
    "sd.downloadnseintradaytoday()"
   ]
  },
  {
   "cell_type": "markdown",
   "metadata": {},
   "source": [
    "**Download intraday file**"
   ]
  },
  {
   "cell_type": "code",
   "execution_count": 7,
   "metadata": {},
   "outputs": [
    {
     "name": "stdout",
     "output_type": "stream",
     "text": [
      "Downloading intraday prices from yahoo finance for 2021-02-08 NSE 1684 symbols...Completed!\n",
      "Finished [download] in 55.3577 secs\n",
      "Downloading intraday prices from yahoo finance for 2021-02-09 NSE 1684 symbols...Completed!\n",
      "Finished [download] in 155.8181 secs\n",
      "Downloading intraday prices from yahoo finance for 2021-02-10 NSE 1684 symbols...Completed!\n",
      "Finished [download] in 149.5994 secs\n",
      "Downloading intraday prices from yahoo finance for 2021-02-11 NSE 1684 symbols...Completed!\n",
      "Finished [download] in 148.2253 secs\n",
      "Downloading intraday prices from yahoo finance for 2021-02-12 NSE 1684 symbols...Completed!\n",
      "Finished [download] in 150.5277 secs\n"
     ]
    }
   ],
   "source": [
    "sd.downloadnseintradaydata('2021-02-08')\n",
    "sd.downloadnseintradaydata('2021-02-09')\n",
    "sd.downloadnseintradaydata('2021-02-10')\n",
    "sd.downloadnseintradaydata('2021-02-11')\n",
    "sd.downloadnseintradaydata('2021-02-12')"
   ]
  },
  {
   "cell_type": "markdown",
   "metadata": {},
   "source": [
    "**Combine daily files into single file for a month**"
   ]
  },
  {
   "cell_type": "code",
   "execution_count": 5,
   "metadata": {},
   "outputs": [
    {
     "name": "stdout",
     "output_type": "stream",
     "text": [
      "Combining NSE intraday daily files for month 202101...Completed!\n",
      "Finished [processmonthlyfiles] in 78.8878 secs\n"
     ]
    }
   ],
   "source": [
    "sd.createnseintradaymonthlyfile('2021-01')"
   ]
  },
  {
   "cell_type": "markdown",
   "metadata": {},
   "source": [
    "**Load month end intraday file into table**"
   ]
  },
  {
   "cell_type": "code",
   "execution_count": null,
   "metadata": {},
   "outputs": [],
   "source": [
    "sd.loadnseintradayfile('2020-08')"
   ]
  }
 ],
 "metadata": {
  "kernelspec": {
   "display_name": "Python 3",
   "language": "python",
   "name": "python3"
  },
  "language_info": {
   "codemirror_mode": {
    "name": "ipython",
    "version": 3
   },
   "file_extension": ".py",
   "mimetype": "text/x-python",
   "name": "python",
   "nbconvert_exporter": "python",
   "pygments_lexer": "ipython3",
   "version": "3.8.5"
  }
 },
 "nbformat": 4,
 "nbformat_minor": 4
}
