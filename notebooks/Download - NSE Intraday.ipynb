{
 "cells": [
  {
   "cell_type": "markdown",
   "metadata": {},
   "source": [
    "### **Download NSE Intraday data**"
   ]
  },
  {
   "cell_type": "code",
   "execution_count": 4,
   "metadata": {},
   "outputs": [],
   "source": [
    "from IPython.core.interactiveshell import InteractiveShell\n",
    "InteractiveShell.ast_node_interactivity = \"all\"\n",
    "\n",
    "import stockdata as sd"
   ]
  },
  {
   "cell_type": "markdown",
   "metadata": {},
   "source": [
    "**Download NSE and BSE symbols**"
   ]
  },
  {
   "cell_type": "code",
   "execution_count": 5,
   "metadata": {},
   "outputs": [
    {
     "name": "stdout",
     "output_type": "stream",
     "text": [
      "Fetching list of all NSE Equities...Completed\n",
      "Refreshing table [NSE_EquitySymbols] with 1630 records...Completed\n",
      "Finished [download] in 10.2209 secs\n"
     ]
    }
   ],
   "source": [
    "sd.downloadsymbols()"
   ]
  },
  {
   "cell_type": "markdown",
   "metadata": {},
   "source": [
    "**Download NSE Market Pre-Open Data**"
   ]
  },
  {
   "cell_type": "code",
   "execution_count": 15,
   "metadata": {},
   "outputs": [
    {
     "name": "stdout",
     "output_type": "stream",
     "text": [
      "Downloading NSE Pre-open prices...Completed [20200904]\n",
      "Refreshing table [NSE_EquityMarketPreOpen] with 1267 records...Completed\n",
      "Finished [download] in 7.2583 secs\n"
     ]
    }
   ],
   "source": [
    "sd.downloadnsepreopendata()"
   ]
  },
  {
   "cell_type": "markdown",
   "metadata": {},
   "source": [
    "**Download current price of NSE FnO stocks**"
   ]
  },
  {
   "cell_type": "code",
   "execution_count": 11,
   "metadata": {},
   "outputs": [
    {
     "name": "stdout",
     "output_type": "stream",
     "text": [
      "Downloading Current Price of NSE SECURITIES IN F&O...Completed\n",
      "Refreshing table [NSE_EquityFNOCurrentPrice] with 136 records...Completed\n",
      "Finished [download] in 1.4018 secs\n"
     ]
    }
   ],
   "source": [
    "sd.downloadnsefnostockscurrentprice()"
   ]
  },
  {
   "cell_type": "markdown",
   "metadata": {},
   "source": [
    "**Download current price of NSE Indices**"
   ]
  },
  {
   "cell_type": "code",
   "execution_count": 12,
   "metadata": {},
   "outputs": [
    {
     "name": "stdout",
     "output_type": "stream",
     "text": [
      "Downloading Current Price of All NSE Indices...Completed\n",
      "Refreshing table [NSE_IndicesCurrentPrice] with 57 records...Completed\n",
      "Finished [download] in 0.5379 secs\n"
     ]
    }
   ],
   "source": [
    "sd.downloadnseallindicescurrentprice()"
   ]
  },
  {
   "cell_type": "markdown",
   "metadata": {},
   "source": [
    "**Download intraday data for given date of F&O Symbols**"
   ]
  },
  {
   "cell_type": "code",
   "execution_count": 13,
   "metadata": {},
   "outputs": [
    {
     "name": "stdout",
     "output_type": "stream",
     "text": [
      "Downloading intraday prices from yahoo finance for 2020-09-02 NSE 136 symbols...Completed!\n",
      "Refreshing table [NSE_EquityIntradayPrices] with 50091 records...Completed\n",
      "Finished [stream] in 14.6318 secs\n"
     ]
    }
   ],
   "source": [
    "sd.downloadnseintradaytoday()"
   ]
  },
  {
   "cell_type": "markdown",
   "metadata": {},
   "source": [
    "**Download intraday file**"
   ]
  },
  {
   "cell_type": "code",
   "execution_count": 14,
   "metadata": {},
   "outputs": [
    {
     "name": "stdout",
     "output_type": "stream",
     "text": [
      "Downloading intraday prices from yahoo finance for 2020-09-03 NSE 1630 symbols...Completed!\n",
      "Finished [download] in 133.9055 secs\n"
     ]
    }
   ],
   "source": [
    "sd.downloadnseintradaydata('2020-09-03')"
   ]
  },
  {
   "cell_type": "markdown",
   "metadata": {},
   "source": [
    "**Combine daily files into single file for a month**"
   ]
  },
  {
   "cell_type": "code",
   "execution_count": null,
   "metadata": {},
   "outputs": [],
   "source": [
    "sd.createnseintradaymonthlyfile('2020-08')"
   ]
  },
  {
   "cell_type": "markdown",
   "metadata": {},
   "source": [
    "**Load month end intraday file into table**"
   ]
  },
  {
   "cell_type": "code",
   "execution_count": null,
   "metadata": {},
   "outputs": [],
   "source": [
    "sd.loadnseintradayfile('2020-08')"
   ]
  }
 ],
 "metadata": {
  "kernelspec": {
   "display_name": "Python 3",
   "language": "python",
   "name": "python3"
  },
  "language_info": {
   "codemirror_mode": {
    "name": "ipython",
    "version": 3
   },
   "file_extension": ".py",
   "mimetype": "text/x-python",
   "name": "python",
   "nbconvert_exporter": "python",
   "pygments_lexer": "ipython3",
   "version": "3.8.3"
  }
 },
 "nbformat": 4,
 "nbformat_minor": 4
}
