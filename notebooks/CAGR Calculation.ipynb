{
 "cells": [
  {
   "cell_type": "code",
   "execution_count": 78,
   "metadata": {},
   "outputs": [],
   "source": [
    "from IPython.core.interactiveshell import InteractiveShell\n",
    "InteractiveShell.ast_node_interactivity = \"all\"\n",
    "\n",
    "import stockdata as sd\n",
    "import pandas as pd\n",
    "import numpy as np"
   ]
  },
  {
   "cell_type": "code",
   "execution_count": 230,
   "metadata": {},
   "outputs": [],
   "source": [
    "sql = '''\n",
    "select * \n",
    "from histprice\n",
    "where 1 = 1\n",
    "and freq in ('w', 'm')\n",
    "and (symbol like '%ETF%' or symbol like '%100%' or symbol like '%BEES%')\n",
    "'''\n",
    "df = sd.getdata(sql)"
   ]
  },
  {
   "cell_type": "code",
   "execution_count": 299,
   "metadata": {},
   "outputs": [
    {
     "data": {
      "text/plain": [
       "(3792, 16)"
      ]
     },
     "execution_count": 299,
     "metadata": {},
     "output_type": "execute_result"
    },
    {
     "data": {
      "text/html": [
       "<div>\n",
       "<style scoped>\n",
       "    .dataframe tbody tr th:only-of-type {\n",
       "        vertical-align: middle;\n",
       "    }\n",
       "\n",
       "    .dataframe tbody tr th {\n",
       "        vertical-align: top;\n",
       "    }\n",
       "\n",
       "    .dataframe thead th {\n",
       "        text-align: right;\n",
       "    }\n",
       "</style>\n",
       "<table border=\"1\" class=\"dataframe\">\n",
       "  <thead>\n",
       "    <tr style=\"text-align: right;\">\n",
       "      <th></th>\n",
       "      <th>freq</th>\n",
       "      <th>date</th>\n",
       "      <th>symbol</th>\n",
       "      <th>open</th>\n",
       "      <th>low</th>\n",
       "      <th>high</th>\n",
       "      <th>close</th>\n",
       "      <th>adjclose</th>\n",
       "      <th>volume</th>\n",
       "      <th>year</th>\n",
       "      <th>month</th>\n",
       "      <th>day</th>\n",
       "      <th>wkday</th>\n",
       "      <th>wknr</th>\n",
       "      <th>qrtr</th>\n",
       "      <th>runts</th>\n",
       "    </tr>\n",
       "  </thead>\n",
       "  <tbody>\n",
       "    <tr>\n",
       "      <th>0</th>\n",
       "      <td>w</td>\n",
       "      <td>2008-12-29</td>\n",
       "      <td>NIFTYBEES</td>\n",
       "      <td>29.90</td>\n",
       "      <td>29.76</td>\n",
       "      <td>31.37</td>\n",
       "      <td>31.17</td>\n",
       "      <td>31.17</td>\n",
       "      <td>4656630</td>\n",
       "      <td>2008</td>\n",
       "      <td>12</td>\n",
       "      <td>29</td>\n",
       "      <td>1</td>\n",
       "      <td>1</td>\n",
       "      <td>4</td>\n",
       "      <td>Tue Feb-23-2021 11:00</td>\n",
       "    </tr>\n",
       "    <tr>\n",
       "      <th>1</th>\n",
       "      <td>w</td>\n",
       "      <td>2009-01-05</td>\n",
       "      <td>NIFTYBEES</td>\n",
       "      <td>31.10</td>\n",
       "      <td>27.56</td>\n",
       "      <td>31.50</td>\n",
       "      <td>27.73</td>\n",
       "      <td>27.73</td>\n",
       "      <td>10809220</td>\n",
       "      <td>2009</td>\n",
       "      <td>1</td>\n",
       "      <td>5</td>\n",
       "      <td>1</td>\n",
       "      <td>2</td>\n",
       "      <td>1</td>\n",
       "      <td>Tue Feb-23-2021 11:00</td>\n",
       "    </tr>\n",
       "    <tr>\n",
       "      <th>2</th>\n",
       "      <td>w</td>\n",
       "      <td>2009-01-12</td>\n",
       "      <td>NIFTYBEES</td>\n",
       "      <td>27.70</td>\n",
       "      <td>27.30</td>\n",
       "      <td>28.80</td>\n",
       "      <td>28.45</td>\n",
       "      <td>28.45</td>\n",
       "      <td>5327900</td>\n",
       "      <td>2009</td>\n",
       "      <td>1</td>\n",
       "      <td>12</td>\n",
       "      <td>1</td>\n",
       "      <td>3</td>\n",
       "      <td>1</td>\n",
       "      <td>Tue Feb-23-2021 11:00</td>\n",
       "    </tr>\n",
       "    <tr>\n",
       "      <th>3</th>\n",
       "      <td>w</td>\n",
       "      <td>2009-01-19</td>\n",
       "      <td>NIFTYBEES</td>\n",
       "      <td>28.39</td>\n",
       "      <td>27.04</td>\n",
       "      <td>28.55</td>\n",
       "      <td>27.21</td>\n",
       "      <td>27.21</td>\n",
       "      <td>3815280</td>\n",
       "      <td>2009</td>\n",
       "      <td>1</td>\n",
       "      <td>19</td>\n",
       "      <td>1</td>\n",
       "      <td>4</td>\n",
       "      <td>1</td>\n",
       "      <td>Tue Feb-23-2021 11:00</td>\n",
       "    </tr>\n",
       "    <tr>\n",
       "      <th>4</th>\n",
       "      <td>w</td>\n",
       "      <td>2009-01-26</td>\n",
       "      <td>NIFTYBEES</td>\n",
       "      <td>27.30</td>\n",
       "      <td>27.25</td>\n",
       "      <td>29.10</td>\n",
       "      <td>28.17</td>\n",
       "      <td>28.17</td>\n",
       "      <td>4828900</td>\n",
       "      <td>2009</td>\n",
       "      <td>1</td>\n",
       "      <td>26</td>\n",
       "      <td>1</td>\n",
       "      <td>5</td>\n",
       "      <td>1</td>\n",
       "      <td>Tue Feb-23-2021 11:00</td>\n",
       "    </tr>\n",
       "  </tbody>\n",
       "</table>\n",
       "</div>"
      ],
      "text/plain": [
       "  freq        date     symbol   open    low   high  close  adjclose    volume  \\\n",
       "0    w  2008-12-29  NIFTYBEES  29.90  29.76  31.37  31.17     31.17   4656630   \n",
       "1    w  2009-01-05  NIFTYBEES  31.10  27.56  31.50  27.73     27.73  10809220   \n",
       "2    w  2009-01-12  NIFTYBEES  27.70  27.30  28.80  28.45     28.45   5327900   \n",
       "3    w  2009-01-19  NIFTYBEES  28.39  27.04  28.55  27.21     27.21   3815280   \n",
       "4    w  2009-01-26  NIFTYBEES  27.30  27.25  29.10  28.17     28.17   4828900   \n",
       "\n",
       "   year  month  day  wkday  wknr  qrtr                  runts  \n",
       "0  2008     12   29      1     1     4  Tue Feb-23-2021 11:00  \n",
       "1  2009      1    5      1     2     1  Tue Feb-23-2021 11:00  \n",
       "2  2009      1   12      1     3     1  Tue Feb-23-2021 11:00  \n",
       "3  2009      1   19      1     4     1  Tue Feb-23-2021 11:00  \n",
       "4  2009      1   26      1     5     1  Tue Feb-23-2021 11:00  "
      ]
     },
     "execution_count": 299,
     "metadata": {},
     "output_type": "execute_result"
    },
    {
     "data": {
      "text/plain": [
       "symbol     freq\n",
       "NIFTYBEES  w       635\n",
       "           m       147\n",
       "dtype: int64"
      ]
     },
     "execution_count": 299,
     "metadata": {},
     "output_type": "execute_result"
    },
    {
     "data": {
      "text/plain": [
       "symbol    freq\n",
       "BANKBEES  w       635\n",
       "          m       147\n",
       "dtype: int64"
      ]
     },
     "execution_count": 299,
     "metadata": {},
     "output_type": "execute_result"
    },
    {
     "data": {
      "text/plain": [
       "symbol      freq\n",
       "JUNIORBEES  w       635\n",
       "            m       147\n",
       "dtype: int64"
      ]
     },
     "execution_count": 299,
     "metadata": {},
     "output_type": "execute_result"
    },
    {
     "data": {
      "text/plain": [
       "symbol    freq\n",
       "GOLDBEES  w       635\n",
       "          m       147\n",
       "dtype: int64"
      ]
     },
     "execution_count": 299,
     "metadata": {},
     "output_type": "execute_result"
    },
    {
     "data": {
      "text/plain": [
       "symbol  freq\n",
       "NETFIT  w       23\n",
       "        m        6\n",
       "dtype: int64"
      ]
     },
     "execution_count": 299,
     "metadata": {},
     "output_type": "execute_result"
    },
    {
     "data": {
      "text/plain": [
       "symbol  freq\n",
       "N100    w       516\n",
       "        m       119\n",
       "dtype: int64"
      ]
     },
     "execution_count": 299,
     "metadata": {},
     "output_type": "execute_result"
    },
    {
     "data": {
      "text/plain": [
       "['w', 'm']"
      ]
     },
     "execution_count": 299,
     "metadata": {},
     "output_type": "execute_result"
    },
    {
     "data": {
      "text/plain": [
       "['NIFTYBEES', 'BANKBEES', 'GOLDBEES', 'NETFIT', 'N100', 'JUNIORBEES']"
      ]
     },
     "execution_count": 299,
     "metadata": {},
     "output_type": "execute_result"
    }
   ],
   "source": [
    "df.shape\n",
    "df.head()\n",
    "df[df.symbol == 'NIFTYBEES'][['symbol', 'freq']].value_counts()\n",
    "df[df.symbol == 'BANKBEES'][['symbol', 'freq']].value_counts()\n",
    "df[df.symbol == 'JUNIORBEES'][['symbol', 'freq']].value_counts()\n",
    "df[df.symbol == 'GOLDBEES'][['symbol', 'freq']].value_counts()\n",
    "df[df.symbol == 'NETFIT'][['symbol', 'freq']].value_counts()\n",
    "df[df.symbol == 'N100'][['symbol', 'freq']].value_counts()\n",
    "freq    = list(df.freq.unique())\n",
    "symbols = list(df.symbol.unique())\n",
    "freq\n",
    "symbols"
   ]
  },
  {
   "cell_type": "code",
   "execution_count": 292,
   "metadata": {},
   "outputs": [],
   "source": [
    "def CalculateCAGR(start, end, periods):\n",
    "    return np.round((((end/start)**(1/periods)) - 1)*100, 2)\n",
    "\n",
    "def CAGR(df, symbol, startyr, endyr):\n",
    "    df = df[(df.symbol == symbol) & (df.freq == 'm') & (df.year >= startyr) & (df.year <= endyr)]\n",
    "    start_price = df.close.iloc[0]\n",
    "    final_price = df.close.iloc[-1]\n",
    "    periods = endyr - startyr + 1\n",
    "    cagr = CalculateCAGR(start_price, final_price, periods)\n",
    "    return cagr"
   ]
  },
  {
   "cell_type": "code",
   "execution_count": 294,
   "metadata": {},
   "outputs": [
    {
     "data": {
      "text/plain": [
       "8.57"
      ]
     },
     "execution_count": 294,
     "metadata": {},
     "output_type": "execute_result"
    }
   ],
   "source": [
    "CAGR(df, 'NIFTYBEES', 2015, 2020)"
   ]
  },
  {
   "cell_type": "code",
   "execution_count": 298,
   "metadata": {},
   "outputs": [
    {
     "data": {
      "text/html": [
       "<div>\n",
       "<style scoped>\n",
       "    .dataframe tbody tr th:only-of-type {\n",
       "        vertical-align: middle;\n",
       "    }\n",
       "\n",
       "    .dataframe tbody tr th {\n",
       "        vertical-align: top;\n",
       "    }\n",
       "\n",
       "    .dataframe thead tr th {\n",
       "        text-align: left;\n",
       "    }\n",
       "</style>\n",
       "<table border=\"1\" class=\"dataframe\">\n",
       "  <thead>\n",
       "    <tr>\n",
       "      <th></th>\n",
       "      <th>symbol</th>\n",
       "      <th colspan=\"3\" halign=\"left\">year</th>\n",
       "    </tr>\n",
       "    <tr>\n",
       "      <th></th>\n",
       "      <th></th>\n",
       "      <th>min</th>\n",
       "      <th>max</th>\n",
       "      <th>count</th>\n",
       "    </tr>\n",
       "  </thead>\n",
       "  <tbody>\n",
       "    <tr>\n",
       "      <th>0</th>\n",
       "      <td>BANKBEES</td>\n",
       "      <td>2008</td>\n",
       "      <td>2021</td>\n",
       "      <td>782</td>\n",
       "    </tr>\n",
       "    <tr>\n",
       "      <th>1</th>\n",
       "      <td>GOLDBEES</td>\n",
       "      <td>2008</td>\n",
       "      <td>2021</td>\n",
       "      <td>782</td>\n",
       "    </tr>\n",
       "    <tr>\n",
       "      <th>2</th>\n",
       "      <td>JUNIORBEES</td>\n",
       "      <td>2008</td>\n",
       "      <td>2021</td>\n",
       "      <td>782</td>\n",
       "    </tr>\n",
       "    <tr>\n",
       "      <th>3</th>\n",
       "      <td>N100</td>\n",
       "      <td>2011</td>\n",
       "      <td>2021</td>\n",
       "      <td>635</td>\n",
       "    </tr>\n",
       "    <tr>\n",
       "      <th>4</th>\n",
       "      <td>NETFIT</td>\n",
       "      <td>2020</td>\n",
       "      <td>2021</td>\n",
       "      <td>29</td>\n",
       "    </tr>\n",
       "    <tr>\n",
       "      <th>5</th>\n",
       "      <td>NIFTYBEES</td>\n",
       "      <td>2008</td>\n",
       "      <td>2021</td>\n",
       "      <td>782</td>\n",
       "    </tr>\n",
       "  </tbody>\n",
       "</table>\n",
       "</div>"
      ],
      "text/plain": [
       "       symbol  year            \n",
       "                min   max count\n",
       "0    BANKBEES  2008  2021   782\n",
       "1    GOLDBEES  2008  2021   782\n",
       "2  JUNIORBEES  2008  2021   782\n",
       "3        N100  2011  2021   635\n",
       "4      NETFIT  2020  2021    29\n",
       "5   NIFTYBEES  2008  2021   782"
      ]
     },
     "execution_count": 298,
     "metadata": {},
     "output_type": "execute_result"
    }
   ],
   "source": [
    "df.groupby('symbol').agg({'year' : ['min', 'max', 'count']}).reset_index()"
   ]
  },
  {
   "cell_type": "code",
   "execution_count": 314,
   "metadata": {},
   "outputs": [
    {
     "data": {
      "text/html": [
       "<div>\n",
       "<style scoped>\n",
       "    .dataframe tbody tr th:only-of-type {\n",
       "        vertical-align: middle;\n",
       "    }\n",
       "\n",
       "    .dataframe tbody tr th {\n",
       "        vertical-align: top;\n",
       "    }\n",
       "\n",
       "    .dataframe thead th {\n",
       "        text-align: right;\n",
       "    }\n",
       "</style>\n",
       "<table border=\"1\" class=\"dataframe\">\n",
       "  <thead>\n",
       "    <tr style=\"text-align: right;\">\n",
       "      <th></th>\n",
       "      <th>symbols</th>\n",
       "      <th>cagr_2y</th>\n",
       "      <th>cagr_3y</th>\n",
       "      <th>cagr_5y</th>\n",
       "      <th>cagr_10y</th>\n",
       "    </tr>\n",
       "  </thead>\n",
       "  <tbody>\n",
       "    <tr>\n",
       "      <th>0</th>\n",
       "      <td>NIFTYBEES</td>\n",
       "      <td>13.53</td>\n",
       "      <td>10.37</td>\n",
       "      <td>15.58</td>\n",
       "      <td>10.43</td>\n",
       "    </tr>\n",
       "    <tr>\n",
       "      <th>1</th>\n",
       "      <td>BANKBEES</td>\n",
       "      <td>5.94</td>\n",
       "      <td>6.44</td>\n",
       "      <td>16.88</td>\n",
       "      <td>11.37</td>\n",
       "    </tr>\n",
       "    <tr>\n",
       "      <th>2</th>\n",
       "      <td>JUNIORBEES</td>\n",
       "      <td>10.33</td>\n",
       "      <td>3.50</td>\n",
       "      <td>14.04</td>\n",
       "      <td>12.33</td>\n",
       "    </tr>\n",
       "    <tr>\n",
       "      <th>3</th>\n",
       "      <td>GOLDBEES</td>\n",
       "      <td>20.24</td>\n",
       "      <td>16.03</td>\n",
       "      <td>9.99</td>\n",
       "      <td>7.76</td>\n",
       "    </tr>\n",
       "    <tr>\n",
       "      <th>4</th>\n",
       "      <td>NETFIT</td>\n",
       "      <td>8.59</td>\n",
       "      <td>5.65</td>\n",
       "      <td>3.35</td>\n",
       "      <td>1.66</td>\n",
       "    </tr>\n",
       "    <tr>\n",
       "      <th>5</th>\n",
       "      <td>N100</td>\n",
       "      <td>36.98</td>\n",
       "      <td>21.92</td>\n",
       "      <td>26.66</td>\n",
       "      <td>24.73</td>\n",
       "    </tr>\n",
       "  </tbody>\n",
       "</table>\n",
       "</div>"
      ],
      "text/plain": [
       "      symbols  cagr_2y  cagr_3y  cagr_5y  cagr_10y\n",
       "0   NIFTYBEES    13.53    10.37    15.58     10.43\n",
       "1    BANKBEES     5.94     6.44    16.88     11.37\n",
       "2  JUNIORBEES    10.33     3.50    14.04     12.33\n",
       "3    GOLDBEES    20.24    16.03     9.99      7.76\n",
       "4      NETFIT     8.59     5.65     3.35      1.66\n",
       "5        N100    36.98    21.92    26.66     24.73"
      ]
     },
     "execution_count": 314,
     "metadata": {},
     "output_type": "execute_result"
    }
   ],
   "source": [
    "symbols = ['NIFTYBEES', 'BANKBEES', 'JUNIORBEES', 'GOLDBEES', 'NETFIT', 'N100']\n",
    "cagr_2y  = [CAGR(df, s, 2019, 2020) for s in symbols]\n",
    "cagr_3y  = [CAGR(df, s, 2018, 2020) for s in symbols]\n",
    "cagr_5y  = [CAGR(df, s, 2016, 2020) for s in symbols]\n",
    "cagr_10y = [CAGR(df, s, 2011, 2020) for s in symbols]\n",
    "x = pd.DataFrame({'symbols':symbols, 'cagr_2y':cagr_2y, 'cagr_3y':cagr_3y, 'cagr_5y':cagr_5y, 'cagr_10y':cagr_10y})\n",
    "x\n",
    "# x.to_csv('ETS_CAGR.csv')"
   ]
  }
 ],
 "metadata": {
  "kernelspec": {
   "display_name": "Python 3",
   "language": "python",
   "name": "python3"
  },
  "language_info": {
   "codemirror_mode": {
    "name": "ipython",
    "version": 3
   },
   "file_extension": ".py",
   "mimetype": "text/x-python",
   "name": "python",
   "nbconvert_exporter": "python",
   "pygments_lexer": "ipython3",
   "version": "3.8.5"
  }
 },
 "nbformat": 4,
 "nbformat_minor": 4
}
