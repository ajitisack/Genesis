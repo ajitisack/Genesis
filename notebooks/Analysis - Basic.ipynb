{
 "cells": [
  {
   "cell_type": "code",
   "execution_count": 2,
   "metadata": {},
   "outputs": [],
   "source": [
    "from IPython.core.interactiveshell import InteractiveShell\n",
    "InteractiveShell.ast_node_interactivity = \"all\""
   ]
  },
  {
   "cell_type": "code",
   "execution_count": 3,
   "metadata": {},
   "outputs": [],
   "source": [
    "import stockdata as sd\n",
    "import pandas as pd"
   ]
  },
  {
   "cell_type": "markdown",
   "metadata": {},
   "source": [
    "#### Get weekly, monthly, yearly data from daily data"
   ]
  },
  {
   "cell_type": "code",
   "execution_count": 6,
   "metadata": {},
   "outputs": [],
   "source": [
    "dfwly = df.groupby(['symbol', 'year', 'wknr']).last().reset_index().set_index('date')\n",
    "dfmly = df.groupby(['symbol', 'year', 'month']).last().reset_index().set_index('date')\n",
    "dfyly = df.groupby(['symbol', 'year']).last().reset_index().set_index('date')"
   ]
  },
  {
   "cell_type": "markdown",
   "metadata": {},
   "source": [
    "#### Calculate Percent Change and Change Value"
   ]
  },
  {
   "cell_type": "code",
   "execution_count": null,
   "metadata": {},
   "outputs": [],
   "source": []
  },
  {
   "cell_type": "code",
   "execution_count": 6,
   "metadata": {},
   "outputs": [
    {
     "name": "stdout",
     "output_type": "stream",
     "text": [
      "Wall time: 263 ms\n"
     ]
    }
   ],
   "source": [
    "%%time\n",
    "df = sd.getdata(\"select * from nsehistprice where symbol in('INDUSINDBK', 'AXISBANK', 'HDFCBANK', 'SBIN')\")\n",
    "df['date'] = pd.to_datetime(df['date'])\n",
    "df = df[['date', 'symbol', 'close']]"
   ]
  },
  {
   "cell_type": "code",
   "execution_count": null,
   "metadata": {},
   "outputs": [],
   "source": [
    "df.set_index(['symbol', 'date'])"
   ]
  },
  {
   "cell_type": "code",
   "execution_count": 7,
   "metadata": {},
   "outputs": [
    {
     "data": {
      "text/plain": [
       "(21813, 3)"
      ]
     },
     "execution_count": 7,
     "metadata": {},
     "output_type": "execute_result"
    }
   ],
   "source": [
    "df.shape"
   ]
  },
  {
   "cell_type": "code",
   "execution_count": 10,
   "metadata": {},
   "outputs": [
    {
     "name": "stdout",
     "output_type": "stream",
     "text": [
      "Wall time: 100 ms\n"
     ]
    }
   ],
   "source": [
    "%%time\n",
    "df['prev_close'] = df.groupby('symbol').close.transform(lambda x: x.shift(1))\n",
    "df['pct_change'] = df.groupby('symbol').close.transform(lambda x: round(x.pct_change(1) * 100,2))\n",
    "df['prev_5d_close'] = df.groupby('symbol').close.transform(lambda x: x.shift(5))\n",
    "df['5d_pct_change'] = df.groupby('symbol').close.transform(lambda x: round(x.pct_change(5) * 100,2))\n",
    "df['prev_70d_close'] = df.groupby('symbol').close.transform(lambda x: x.shift(70))\n",
    "df['70d_pct_change'] = df.groupby('symbol').close.transform(lambda x: round(x.pct_change(70) * 100,2))\n",
    "df.fillna(0, inplace=True)"
   ]
  },
  {
   "cell_type": "code",
   "execution_count": 11,
   "metadata": {},
   "outputs": [
    {
     "data": {
      "text/html": [
       "<div>\n",
       "<style scoped>\n",
       "    .dataframe tbody tr th:only-of-type {\n",
       "        vertical-align: middle;\n",
       "    }\n",
       "\n",
       "    .dataframe tbody tr th {\n",
       "        vertical-align: top;\n",
       "    }\n",
       "\n",
       "    .dataframe thead th {\n",
       "        text-align: right;\n",
       "    }\n",
       "</style>\n",
       "<table border=\"1\" class=\"dataframe\">\n",
       "  <thead>\n",
       "    <tr style=\"text-align: right;\">\n",
       "      <th></th>\n",
       "      <th>date</th>\n",
       "      <th>symbol</th>\n",
       "      <th>close</th>\n",
       "      <th>prev_close</th>\n",
       "      <th>pct_change</th>\n",
       "      <th>prev_5d_close</th>\n",
       "      <th>5d_pct_change</th>\n",
       "      <th>prev_70d_close</th>\n",
       "      <th>70d_pct_change</th>\n",
       "    </tr>\n",
       "  </thead>\n",
       "  <tbody>\n",
       "    <tr>\n",
       "      <th>0</th>\n",
       "      <td>1998-11-27</td>\n",
       "      <td>AXISBANK</td>\n",
       "      <td>3.40</td>\n",
       "      <td>0.00</td>\n",
       "      <td>0.00</td>\n",
       "      <td>0.0</td>\n",
       "      <td>0.0</td>\n",
       "      <td>0.0</td>\n",
       "      <td>0.0</td>\n",
       "    </tr>\n",
       "    <tr>\n",
       "      <th>1</th>\n",
       "      <td>1998-11-30</td>\n",
       "      <td>AXISBANK</td>\n",
       "      <td>3.21</td>\n",
       "      <td>3.40</td>\n",
       "      <td>-5.59</td>\n",
       "      <td>0.0</td>\n",
       "      <td>0.0</td>\n",
       "      <td>0.0</td>\n",
       "      <td>0.0</td>\n",
       "    </tr>\n",
       "    <tr>\n",
       "      <th>2</th>\n",
       "      <td>1998-12-01</td>\n",
       "      <td>AXISBANK</td>\n",
       "      <td>3.39</td>\n",
       "      <td>3.21</td>\n",
       "      <td>5.61</td>\n",
       "      <td>0.0</td>\n",
       "      <td>0.0</td>\n",
       "      <td>0.0</td>\n",
       "      <td>0.0</td>\n",
       "    </tr>\n",
       "    <tr>\n",
       "      <th>3</th>\n",
       "      <td>1998-12-02</td>\n",
       "      <td>AXISBANK</td>\n",
       "      <td>3.39</td>\n",
       "      <td>3.39</td>\n",
       "      <td>0.00</td>\n",
       "      <td>0.0</td>\n",
       "      <td>0.0</td>\n",
       "      <td>0.0</td>\n",
       "      <td>0.0</td>\n",
       "    </tr>\n",
       "    <tr>\n",
       "      <th>4</th>\n",
       "      <td>1998-12-03</td>\n",
       "      <td>AXISBANK</td>\n",
       "      <td>3.39</td>\n",
       "      <td>3.39</td>\n",
       "      <td>0.00</td>\n",
       "      <td>0.0</td>\n",
       "      <td>0.0</td>\n",
       "      <td>0.0</td>\n",
       "      <td>0.0</td>\n",
       "    </tr>\n",
       "  </tbody>\n",
       "</table>\n",
       "</div>"
      ],
      "text/plain": [
       "        date    symbol  close  prev_close  pct_change  prev_5d_close  \\\n",
       "0 1998-11-27  AXISBANK   3.40        0.00        0.00            0.0   \n",
       "1 1998-11-30  AXISBANK   3.21        3.40       -5.59            0.0   \n",
       "2 1998-12-01  AXISBANK   3.39        3.21        5.61            0.0   \n",
       "3 1998-12-02  AXISBANK   3.39        3.39        0.00            0.0   \n",
       "4 1998-12-03  AXISBANK   3.39        3.39        0.00            0.0   \n",
       "\n",
       "   5d_pct_change  prev_70d_close  70d_pct_change  \n",
       "0            0.0             0.0             0.0  \n",
       "1            0.0             0.0             0.0  \n",
       "2            0.0             0.0             0.0  \n",
       "3            0.0             0.0             0.0  \n",
       "4            0.0             0.0             0.0  "
      ]
     },
     "execution_count": 11,
     "metadata": {},
     "output_type": "execute_result"
    }
   ],
   "source": [
    "df.head()"
   ]
  },
  {
   "cell_type": "code",
   "execution_count": 12,
   "metadata": {},
   "outputs": [
    {
     "data": {
      "text/html": [
       "<div>\n",
       "<style scoped>\n",
       "    .dataframe tbody tr th:only-of-type {\n",
       "        vertical-align: middle;\n",
       "    }\n",
       "\n",
       "    .dataframe tbody tr th {\n",
       "        vertical-align: top;\n",
       "    }\n",
       "\n",
       "    .dataframe thead th {\n",
       "        text-align: right;\n",
       "    }\n",
       "</style>\n",
       "<table border=\"1\" class=\"dataframe\">\n",
       "  <thead>\n",
       "    <tr style=\"text-align: right;\">\n",
       "      <th></th>\n",
       "      <th>date</th>\n",
       "      <th>symbol</th>\n",
       "      <th>close</th>\n",
       "      <th>prev_close</th>\n",
       "      <th>pct_change</th>\n",
       "      <th>prev_5d_close</th>\n",
       "      <th>5d_pct_change</th>\n",
       "      <th>prev_70d_close</th>\n",
       "      <th>70d_pct_change</th>\n",
       "    </tr>\n",
       "  </thead>\n",
       "  <tbody>\n",
       "    <tr>\n",
       "      <th>15774</th>\n",
       "      <td>2020-06-04</td>\n",
       "      <td>INDUSINDBK</td>\n",
       "      <td>415.05</td>\n",
       "      <td>432.35</td>\n",
       "      <td>-4.00</td>\n",
       "      <td>386.85</td>\n",
       "      <td>7.29</td>\n",
       "      <td>1172.95</td>\n",
       "      <td>-64.61</td>\n",
       "    </tr>\n",
       "    <tr>\n",
       "      <th>15775</th>\n",
       "      <td>2020-06-05</td>\n",
       "      <td>INDUSINDBK</td>\n",
       "      <td>422.35</td>\n",
       "      <td>415.05</td>\n",
       "      <td>1.76</td>\n",
       "      <td>393.65</td>\n",
       "      <td>7.29</td>\n",
       "      <td>1140.70</td>\n",
       "      <td>-62.97</td>\n",
       "    </tr>\n",
       "    <tr>\n",
       "      <th>15776</th>\n",
       "      <td>2020-06-08</td>\n",
       "      <td>INDUSINDBK</td>\n",
       "      <td>451.60</td>\n",
       "      <td>422.35</td>\n",
       "      <td>6.93</td>\n",
       "      <td>410.10</td>\n",
       "      <td>10.12</td>\n",
       "      <td>1142.15</td>\n",
       "      <td>-60.46</td>\n",
       "    </tr>\n",
       "    <tr>\n",
       "      <th>15777</th>\n",
       "      <td>2020-06-09</td>\n",
       "      <td>INDUSINDBK</td>\n",
       "      <td>463.90</td>\n",
       "      <td>451.60</td>\n",
       "      <td>2.72</td>\n",
       "      <td>434.70</td>\n",
       "      <td>6.72</td>\n",
       "      <td>1182.20</td>\n",
       "      <td>-60.76</td>\n",
       "    </tr>\n",
       "    <tr>\n",
       "      <th>15778</th>\n",
       "      <td>2020-06-10</td>\n",
       "      <td>INDUSINDBK</td>\n",
       "      <td>499.60</td>\n",
       "      <td>463.90</td>\n",
       "      <td>7.70</td>\n",
       "      <td>432.35</td>\n",
       "      <td>15.55</td>\n",
       "      <td>1170.25</td>\n",
       "      <td>-57.31</td>\n",
       "    </tr>\n",
       "  </tbody>\n",
       "</table>\n",
       "</div>"
      ],
      "text/plain": [
       "            date      symbol   close  prev_close  pct_change  prev_5d_close  \\\n",
       "15774 2020-06-04  INDUSINDBK  415.05      432.35       -4.00         386.85   \n",
       "15775 2020-06-05  INDUSINDBK  422.35      415.05        1.76         393.65   \n",
       "15776 2020-06-08  INDUSINDBK  451.60      422.35        6.93         410.10   \n",
       "15777 2020-06-09  INDUSINDBK  463.90      451.60        2.72         434.70   \n",
       "15778 2020-06-10  INDUSINDBK  499.60      463.90        7.70         432.35   \n",
       "\n",
       "       5d_pct_change  prev_70d_close  70d_pct_change  \n",
       "15774           7.29         1172.95          -64.61  \n",
       "15775           7.29         1140.70          -62.97  \n",
       "15776          10.12         1142.15          -60.46  \n",
       "15777           6.72         1182.20          -60.76  \n",
       "15778          15.55         1170.25          -57.31  "
      ]
     },
     "execution_count": 12,
     "metadata": {},
     "output_type": "execute_result"
    }
   ],
   "source": [
    "df[df.symbol == 'INDUSINDBK'].tail()"
   ]
  },
  {
   "cell_type": "code",
   "execution_count": 175,
   "metadata": {},
   "outputs": [],
   "source": [
    "df[df.date=='2020-06-09'].to_csv('a.csv', index='False')"
   ]
  }
 ],
 "metadata": {
  "kernelspec": {
   "display_name": "Python 3",
   "language": "python",
   "name": "python3"
  },
  "language_info": {
   "codemirror_mode": {
    "name": "ipython",
    "version": 3
   },
   "file_extension": ".py",
   "mimetype": "text/x-python",
   "name": "python",
   "nbconvert_exporter": "python",
   "pygments_lexer": "ipython3",
   "version": "3.8.3"
  }
 },
 "nbformat": 4,
 "nbformat_minor": 4
}
