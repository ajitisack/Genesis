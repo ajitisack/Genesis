{
 "cells": [
  {
   "cell_type": "markdown",
   "metadata": {},
   "source": [
    "### **NSE Stockdata Downloader**"
   ]
  },
  {
   "cell_type": "code",
   "execution_count": 1,
   "metadata": {},
   "outputs": [],
   "source": [
    "from IPython.core.interactiveshell import InteractiveShell\n",
    "InteractiveShell.ast_node_interactivity = \"all\"\n",
    "\n",
    "import stockdata as sd"
   ]
  },
  {
   "cell_type": "markdown",
   "metadata": {},
   "source": [
    "**Download Symbols, Histprice & Calculate technicals**\n",
    "- NSE symbols\n",
    "- Indices and Symbols in each Index\n",
    "- Historical price & Events (Splits & Dividend) of FNO Symbols"
   ]
  },
  {
   "cell_type": "code",
   "execution_count": 2,
   "metadata": {},
   "outputs": [
    {
     "name": "stdout",
     "output_type": "stream",
     "text": [
      "************************************************************************\n",
      "Fetching list of all NSE Equities...Completed\n",
      "Refreshing table [NSE_EquitySymbols] with 1683 records...Completed\n",
      "Finished [download] in 1.1331 secs\n",
      "------------------------------------------------------------------------\n",
      "Downloading symbols of 36 NSE indices from nseindia.com...Completed\n",
      "Refreshing table [NSE_Indices] with 2749 records...Completed\n",
      "Finished [downloadindicessymbols] in 1.6167 secs\n",
      "------------------------------------------------------------------------\n",
      "Downloading historical prices(daily, weekly & monthly) and events from yahoo finance for 306 NSE symbols from 1900-01-01...Completed !\n",
      "Refreshing table [NSE_EquityHistoricalPricesDaily] with 1100182 records...Completed\n",
      "Refreshing table [NSE_EquityHistoricalPricesWeekly] with 232853 records...Completed\n",
      "Refreshing table [NSE_EquityHistoricalPricesMonthly] with 53980 records...Completed\n",
      "Refreshing table [NSE_EquityEvents] with 5968 records...Completed\n",
      "Finished [download] in 167.3586 secs\n",
      "------------------------------------------------------------------------\n",
      "Calculating technicals based on price values for NSE symbols as of 2021-05-16...Completed!\n",
      "Refreshing table [NSE_EquityTechnicals] with 306 records...Completed\n",
      "Finished [loadtechnicals] in 2.7783 secs\n",
      "************************************************************************\n"
     ]
    }
   ],
   "source": [
    "print(\"************************************************************************\")\n",
    "sd.downloadsymbols()\n",
    "print(\"------------------------------------------------------------------------\")\n",
    "sd.downloadnseindices()\n",
    "print(\"------------------------------------------------------------------------\")\n",
    "sd.downloadnsehistdata(startdt='1900-01-01')\n",
    "print(\"------------------------------------------------------------------------\")\n",
    "sd.loadtechnicals()\n",
    "print(\"************************************************************************\")"
   ]
  },
  {
   "cell_type": "markdown",
   "metadata": {},
   "source": [
    "**Download details from YahooFinance & MoneyControl**"
   ]
  },
  {
   "cell_type": "code",
   "execution_count": null,
   "metadata": {},
   "outputs": [],
   "source": [
    "sd.downloadnsesymboldetailsyf()\n",
    "sd.downloadnsesymboldetailsmc()"
   ]
  }
 ],
 "metadata": {
  "kernelspec": {
   "display_name": "Python 3",
   "language": "python",
   "name": "python3"
  },
  "language_info": {
   "codemirror_mode": {
    "name": "ipython",
    "version": 3
   },
   "file_extension": ".py",
   "mimetype": "text/x-python",
   "name": "python",
   "nbconvert_exporter": "python",
   "pygments_lexer": "ipython3",
   "version": "3.8.5"
  }
 },
 "nbformat": 4,
 "nbformat_minor": 4
}
