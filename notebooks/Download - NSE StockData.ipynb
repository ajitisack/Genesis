{
 "cells": [
  {
   "cell_type": "markdown",
   "metadata": {},
   "source": [
    "### **NSE Stockdata Downloader**"
   ]
  },
  {
   "cell_type": "code",
   "execution_count": 3,
   "metadata": {},
   "outputs": [],
   "source": [
    "from IPython.core.interactiveshell import InteractiveShell\n",
    "InteractiveShell.ast_node_interactivity = \"all\"\n",
    "\n",
    "import stockdata as sd"
   ]
  },
  {
   "cell_type": "markdown",
   "metadata": {},
   "source": [
    "**Download Symbols, Histprice & Calculate technicals**\n",
    "- NSE symbols\n",
    "- Indices and Symbols in each Index\n",
    "- Historical price & Events (Splits & Dividend) of FNO Symbols"
   ]
  },
  {
   "cell_type": "code",
   "execution_count": 6,
   "metadata": {},
   "outputs": [
    {
     "name": "stdout",
     "output_type": "stream",
     "text": [
      "************************************************************************\n",
      "Fetching list of all NSE Equities...Completed\n",
      "Refreshing table [NSE_EquitySymbols] with 1656 records...Completed\n",
      "Finished [download] in 0.8764 secs\n",
      "------------------------------------------------------------------------\n",
      "Downloading symbols of 36 NSE indices from nseindia.com...Completed\n",
      "Refreshing table [NSE_Indices] with 2759 records...Completed\n",
      "Finished [downloadindicessymbols] in 4.8500 secs\n",
      "------------------------------------------------------------------------\n",
      "Downloading historical prices and events from yahoo finance for 1656 NSE symbols from 2020-09-15...Completed !\n",
      "Refreshing table [NSE_EquityHistoricalPrices] with 32708 records...Completed\n",
      "Refreshing table [NSE_EquityEvents] with 171 records...Completed\n",
      "Finished [download] in 169.7746 secs\n",
      "------------------------------------------------------------------------\n",
      "Calculating technicals based on price values for NSE symbols as of 2020-10-13...Completed!\n",
      "Refreshing table [NSE_EquityTechnicals_20201013] with 1655 records...Completed\n",
      "Finished [loadtechnicals] in 6.4401 secs\n",
      "************************************************************************\n"
     ]
    }
   ],
   "source": [
    "print(\"************************************************************************\")\n",
    "sd.downloadsymbols()\n",
    "print(\"------------------------------------------------------------------------\")\n",
    "sd.downloadnseindices()\n",
    "print(\"------------------------------------------------------------------------\")\n",
    "sd.downloadnsehistdata(startdt='2020-09-15')\n",
    "print(\"------------------------------------------------------------------------\")\n",
    "sd.loadtechnicals()\n",
    "print(\"************************************************************************\")"
   ]
  },
  {
   "cell_type": "markdown",
   "metadata": {},
   "source": [
    "**Download details from YahooFinance & MoneyControl**"
   ]
  },
  {
   "cell_type": "code",
   "execution_count": null,
   "metadata": {},
   "outputs": [],
   "source": [
    "sd.downloadnsesymboldetailsyf()\n",
    "sd.downloadnsesymboldetailsmc()"
   ]
  }
 ],
 "metadata": {
  "kernelspec": {
   "display_name": "Python 3",
   "language": "python",
   "name": "python3"
  },
  "language_info": {
   "codemirror_mode": {
    "name": "ipython",
    "version": 3
   },
   "file_extension": ".py",
   "mimetype": "text/x-python",
   "name": "python",
   "nbconvert_exporter": "python",
   "pygments_lexer": "ipython3",
   "version": "3.8.5"
  }
 },
 "nbformat": 4,
 "nbformat_minor": 4
}
