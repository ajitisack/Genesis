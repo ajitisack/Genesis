{
 "cells": [
  {
   "cell_type": "markdown",
   "metadata": {},
   "source": [
    "Download"
   ]
  },
  {
   "cell_type": "code",
   "execution_count": 1,
   "metadata": {},
   "outputs": [],
   "source": [
    "import stockdata as sd\n",
    "import shutil\n",
    "from glob import glob\n",
    "import pandas as pd\n",
    "from zipfile import ZipFile\n",
    "from zipfile import ZIP_DEFLATED"
   ]
  },
  {
   "cell_type": "markdown",
   "metadata": {},
   "source": [
    "***BSE***"
   ]
  },
  {
   "cell_type": "code",
   "execution_count": 3,
   "metadata": {},
   "outputs": [
    {
     "name": "stdout",
     "output_type": "stream",
     "text": [
      "Downloading intraday prices from yahoo finance for 2020-06-15 BSE 3916 symbols...Completed!\n",
      "Finished [download] in 139.8178 secs\n",
      "Downloading intraday prices from yahoo finance for 2020-06-16 BSE 3916 symbols...Completed!\n",
      "Finished [download] in 154.8989 secs\n",
      "Downloading intraday prices from yahoo finance for 2020-06-17 BSE 3916 symbols...Completed!\n",
      "Finished [download] in 159.2573 secs\n",
      "Downloading intraday prices from yahoo finance for 2020-06-18 BSE 3916 symbols...Completed!\n",
      "Finished [download] in 146.4226 secs\n",
      "Downloading intraday prices from yahoo finance for 2020-06-19 BSE 3916 symbols...Completed!\n",
      "Finished [download] in 143.1281 secs\n"
     ]
    }
   ],
   "source": [
    "sd.downloadbseintradaydata('2020-06-15')\n",
    "sd.downloadbseintradaydata('2020-06-16')\n",
    "sd.downloadbseintradaydata('2020-06-17')\n",
    "sd.downloadbseintradaydata('2020-06-18')\n",
    "sd.downloadbseintradaydata('2020-06-19')"
   ]
  },
  {
   "cell_type": "markdown",
   "metadata": {},
   "source": [
    "***NSE***"
   ]
  },
  {
   "cell_type": "code",
   "execution_count": 2,
   "metadata": {},
   "outputs": [
    {
     "name": "stdout",
     "output_type": "stream",
     "text": [
      "Downloading intraday prices from yahoo finance for 2020-06-15 NSE 1616 symbols...Completed!\n",
      "Finished [download] in 57.2517 secs\n",
      "Downloading intraday prices from yahoo finance for 2020-06-16 NSE 1616 symbols...Completed!\n",
      "Finished [download] in 57.4698 secs\n",
      "Downloading intraday prices from yahoo finance for 2020-06-17 NSE 1616 symbols...Completed!\n",
      "Finished [download] in 55.3176 secs\n",
      "Downloading intraday prices from yahoo finance for 2020-06-18 NSE 1616 symbols...Completed!\n",
      "Finished [download] in 58.2962 secs\n",
      "Downloading intraday prices from yahoo finance for 2020-06-19 NSE 1616 symbols...Completed!\n",
      "Finished [download] in 58.5444 secs\n"
     ]
    }
   ],
   "source": [
    "sd.downloadnseintradaydata('2020-06-15')\n",
    "sd.downloadnseintradaydata('2020-06-16')\n",
    "sd.downloadnseintradaydata('2020-06-17')\n",
    "sd.downloadnseintradaydata('2020-06-18')\n",
    "sd.downloadnseintradaydata('2020-06-19')"
   ]
  },
  {
   "cell_type": "code",
   "execution_count": null,
   "metadata": {},
   "outputs": [],
   "source": [
    "with open(outfile,'wb') as wfd:\n",
    "    for f in infiles:\n",
    "        with open(f,'rb') as fd:\n",
    "            shutil.copyfileobj(fd, wfd)"
   ]
  },
  {
   "cell_type": "code",
   "execution_count": null,
   "metadata": {},
   "outputs": [],
   "source": [
    "path = r'C:/ajit/stockanalysis/intradaydata'\n",
    "month = '202005'\n",
    "exchange = 'NSE'\n",
    "outfile = f'{path}/{exchange}_{month}.txt'\n",
    "outfile"
   ]
  },
  {
   "cell_type": "code",
   "execution_count": null,
   "metadata": {},
   "outputs": [],
   "source": [
    "infiles = glob(rf'{path}/{exchange}_{month}*')\n",
    "infiles"
   ]
  },
  {
   "cell_type": "code",
   "execution_count": null,
   "metadata": {},
   "outputs": [],
   "source": [
    "with open(outfile,'w') as outf:\n",
    "    outf.write('timestamp,symbol,open,low,high,close,volume\\n')\n",
    "    for file in infiles:\n",
    "        with open(file) as f:\n",
    "            for line in f:\n",
    "                outf.write(line)"
   ]
  },
  {
   "cell_type": "code",
   "execution_count": null,
   "metadata": {},
   "outputs": [],
   "source": [
    "files = glob(rf'{path}/*.txt')\n",
    "files"
   ]
  },
  {
   "cell_type": "code",
   "execution_count": null,
   "metadata": {},
   "outputs": [],
   "source": [
    "for file in files:\n",
    "    fname = f\"{file.split('.')[0]}.zip\"\n",
    "    with ZipFile(fname,'w') as newzip:\n",
    "        newzip.write(file, compress_type=ZIP_DEFLATED)"
   ]
  }
 ],
 "metadata": {
  "kernelspec": {
   "display_name": "Python 3",
   "language": "python",
   "name": "python3"
  },
  "language_info": {
   "codemirror_mode": {
    "name": "ipython",
    "version": 3
   },
   "file_extension": ".py",
   "mimetype": "text/x-python",
   "name": "python",
   "nbconvert_exporter": "python",
   "pygments_lexer": "ipython3",
   "version": "3.8.3"
  }
 },
 "nbformat": 4,
 "nbformat_minor": 4
}
