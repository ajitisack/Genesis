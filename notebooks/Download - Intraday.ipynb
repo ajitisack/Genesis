{
 "cells": [
  {
   "cell_type": "markdown",
   "metadata": {},
   "source": [
    "Download"
   ]
  },
  {
   "cell_type": "code",
   "execution_count": null,
   "metadata": {},
   "outputs": [],
   "source": [
    "import stockdata as sd\n",
    "import shutil\n",
    "from glob import glob\n",
    "import pandas as pd\n",
    "from zipfile import ZipFile\n",
    "from zipfile import ZIP_DEFLATED"
   ]
  },
  {
   "cell_type": "code",
   "execution_count": null,
   "metadata": {},
   "outputs": [],
   "source": [
    "sd.downloadintradaydata('2020-06-03')"
   ]
  },
  {
   "cell_type": "code",
   "execution_count": null,
   "metadata": {},
   "outputs": [],
   "source": [
    "with open(outfile,'wb') as wfd:\n",
    "    for f in infiles:\n",
    "        with open(f,'rb') as fd:\n",
    "            shutil.copyfileobj(fd, wfd)"
   ]
  },
  {
   "cell_type": "code",
   "execution_count": null,
   "metadata": {},
   "outputs": [],
   "source": [
    "path = r'C:/ajit/stockanalysis/intradaydata'\n",
    "month = '202005'\n",
    "exchange = 'NSE'\n",
    "outfile = f'{path}/{exchange}_{month}.txt'\n",
    "outfile"
   ]
  },
  {
   "cell_type": "code",
   "execution_count": null,
   "metadata": {},
   "outputs": [],
   "source": [
    "infiles = glob(rf'{path}/{exchange}_{month}*')\n",
    "infiles"
   ]
  },
  {
   "cell_type": "code",
   "execution_count": null,
   "metadata": {},
   "outputs": [],
   "source": [
    "with open(outfile,'w') as outf:\n",
    "    outf.write('timestamp,symbol,open,low,high,close,volume\\n')\n",
    "    for file in infiles:\n",
    "        with open(file) as f:\n",
    "            for line in f:\n",
    "                outf.write(line)"
   ]
  },
  {
   "cell_type": "code",
   "execution_count": null,
   "metadata": {},
   "outputs": [],
   "source": [
    "files = glob(rf'{path}/*.txt')\n",
    "files"
   ]
  },
  {
   "cell_type": "code",
   "execution_count": null,
   "metadata": {},
   "outputs": [],
   "source": [
    "for file in files:\n",
    "    fname = f\"{file.split('.')[0]}.zip\"\n",
    "    with ZipFile(fname,'w') as newzip:\n",
    "        newzip.write(file, compress_type=ZIP_DEFLATED)"
   ]
  }
 ],
 "metadata": {
  "kernelspec": {
   "display_name": "Python 3",
   "language": "python",
   "name": "python3"
  },
  "language_info": {
   "codemirror_mode": {
    "name": "ipython",
    "version": 3
   },
   "file_extension": ".py",
   "mimetype": "text/x-python",
   "name": "python",
   "nbconvert_exporter": "python",
   "pygments_lexer": "ipython3",
   "version": "3.8.3"
  }
 },
 "nbformat": 4,
 "nbformat_minor": 4
}
