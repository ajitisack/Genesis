{
 "cells": [
  {
   "cell_type": "markdown",
   "metadata": {},
   "source": [
    "### **Download NSE Intraday Files**"
   ]
  },
  {
   "cell_type": "code",
   "execution_count": 5,
   "metadata": {},
   "outputs": [],
   "source": [
    "from IPython.core.interactiveshell import InteractiveShell\n",
    "InteractiveShell.ast_node_interactivity = \"all\"\n",
    "\n",
    "import stockdata as sd\n",
    "import pandas as pd"
   ]
  },
  {
   "cell_type": "markdown",
   "metadata": {},
   "source": [
    "**Download NSE symbols**"
   ]
  },
  {
   "cell_type": "code",
   "execution_count": 6,
   "metadata": {},
   "outputs": [
    {
     "name": "stdout",
     "output_type": "stream",
     "text": [
      "Fetching list of all NSE Equities...Completed\n",
      "Refreshing table [NSE_EquitySymbols] with 1683 records...Completed\n",
      "Finished [download] in 2.7948 secs\n"
     ]
    }
   ],
   "source": [
    "sd.downloadsymbols()"
   ]
  },
  {
   "cell_type": "markdown",
   "metadata": {},
   "source": [
    "**Download intraday file**"
   ]
  },
  {
   "cell_type": "code",
   "execution_count": 15,
   "metadata": {},
   "outputs": [
    {
     "name": "stdout",
     "output_type": "stream",
     "text": [
      "Downloading intraday prices from yahoo finance for 2021-05-14 NSE 166 symbols...Completed!\n",
      "Finished [downloadallfiles] in 79.5264 secs\n"
     ]
    }
   ],
   "source": [
    "sd.downloadnseintradaydata('2021-05-14')"
   ]
  },
  {
   "cell_type": "code",
   "execution_count": 14,
   "metadata": {},
   "outputs": [
    {
     "name": "stdout",
     "output_type": "stream",
     "text": [
      "(81955, 18)\n",
      "freq  symbol \n",
      "1m    NSEI       375\n",
      "      NSEBANK    375\n",
      "5m    NSEI        75\n",
      "      NSEBANK     75\n",
      "15m   NSEI        25\n",
      "      NSEBANK     25\n",
      "30m   NSEI        13\n",
      "      NSEBANK     13\n",
      "1h    NSEI         7\n",
      "      NSEBANK      7\n",
      "dtype: int64\n",
      "(315, 18)\n",
      "Series([], dtype: int64)\n"
     ]
    }
   ],
   "source": [
    "def checkvaluecounts(dt):\n",
    "    df = pd.read_csv(f\"/Users/ajit/Projects/stockanalysis/intradaydata/NSE_{dt.replace('-', '')}.zip\")\n",
    "    print(df.shape)\n",
    "    print(df[(df.symbol.isin(['NSEI', 'NSEBANK']))][['freq', 'symbol']].value_counts())\n",
    "\n",
    "# checkvaluecounts('2021-05-10')\n",
    "# checkvaluecounts('2021-05-11')\n",
    "# checkvaluecounts('2021-05-12')\n",
    "checkvaluecounts('2021-05-14')"
   ]
  },
  {
   "cell_type": "markdown",
   "metadata": {},
   "source": [
    "**Combine daily files into single file for a month**"
   ]
  },
  {
   "cell_type": "code",
   "execution_count": null,
   "metadata": {},
   "outputs": [],
   "source": [
    "sd.createnseintradaymonthlyfile('2021-04')"
   ]
  },
  {
   "cell_type": "markdown",
   "metadata": {},
   "source": [
    "**Load month end intraday file into table**"
   ]
  },
  {
   "cell_type": "code",
   "execution_count": null,
   "metadata": {},
   "outputs": [],
   "source": [
    "sd.loadnseintradayfile('2020-08')"
   ]
  }
 ],
 "metadata": {
  "kernelspec": {
   "display_name": "Python 3",
   "language": "python",
   "name": "python3"
  },
  "language_info": {
   "codemirror_mode": {
    "name": "ipython",
    "version": 3
   },
   "file_extension": ".py",
   "mimetype": "text/x-python",
   "name": "python",
   "nbconvert_exporter": "python",
   "pygments_lexer": "ipython3",
   "version": "3.8.5"
  }
 },
 "nbformat": 4,
 "nbformat_minor": 4
}
