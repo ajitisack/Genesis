{
 "cells": [
  {
   "cell_type": "markdown",
   "metadata": {},
   "source": [
    "### **NSE Stockdata Downloader**"
   ]
  },
  {
   "cell_type": "code",
   "execution_count": 1,
   "metadata": {},
   "outputs": [],
   "source": [
    "import stockdata as sd"
   ]
  },
  {
   "cell_type": "markdown",
   "metadata": {},
   "source": [
    "***1. Download Market Pre-Opne Data***"
   ]
  },
  {
   "cell_type": "code",
   "execution_count": 2,
   "metadata": {},
   "outputs": [
    {
     "name": "stdout",
     "output_type": "stream",
     "text": [
      "Downloading NSE Pre-open prices...- 20200619 Completed\n",
      "Finished [savensepreopendata] in 4.2007 secs\n"
     ]
    }
   ],
   "source": [
    "sd.downloadnsemarketpreopendata()"
   ]
  },
  {
   "cell_type": "markdown",
   "metadata": {},
   "source": [
    "***2. Download NSE and BSE symbols***"
   ]
  },
  {
   "cell_type": "code",
   "execution_count": 3,
   "metadata": {},
   "outputs": [
    {
     "name": "stdout",
     "output_type": "stream",
     "text": [
      "Fetching list of all BSE and NSE Equities...Completed\n",
      "Refreshing table [symbols] with 3982 records...Completed\n",
      "Creating index on symbols(symbol)...Completed\n",
      "Finished [download] in 5.8365 secs\n"
     ]
    }
   ],
   "source": [
    "sd.downloadsymbols()"
   ]
  },
  {
   "cell_type": "markdown",
   "metadata": {},
   "source": [
    "***3. Download historical prices and events***"
   ]
  },
  {
   "cell_type": "code",
   "execution_count": 4,
   "metadata": {},
   "outputs": [
    {
     "name": "stdout",
     "output_type": "stream",
     "text": [
      "Downloading historical prices and actions from yahoo finance for 1615 NSE symbols from 1970-01-01...Completed!\n",
      "Refreshing table [nsehistprice] with 4734290 records...Completed\n",
      "Creating index on nsehistprice(symbol)...Completed\n",
      "Refreshing table [nseevents] with 17598 records...Completed\n",
      "Creating index on nseevents(symbol)...Completed\n",
      "Finished [download] in 711.2604 secs\n"
     ]
    }
   ],
   "source": [
    "sd.downloadnsehistdata()"
   ]
  },
  {
   "cell_type": "markdown",
   "metadata": {},
   "source": [
    "***4. Download Indices and Symbols in each Index***"
   ]
  },
  {
   "cell_type": "code",
   "execution_count": 5,
   "metadata": {},
   "outputs": [
    {
     "name": "stdout",
     "output_type": "stream",
     "text": [
      "Downloading symbols of 56 NSE indices from niftyindices.com...Completed\n",
      "Refreshing table [nseindices] with 3462 records...Completed\n",
      "Finished [downloadindicessymbols] in 8.3044 secs\n"
     ]
    }
   ],
   "source": [
    "sd.downloadnseindices()"
   ]
  },
  {
   "cell_type": "markdown",
   "metadata": {},
   "source": [
    "***5. Download historical prices of Indices***"
   ]
  },
  {
   "cell_type": "code",
   "execution_count": 6,
   "metadata": {},
   "outputs": [
    {
     "name": "stdout",
     "output_type": "stream",
     "text": [
      "Downloading histprice of 39 NSE indices from YahooFinance...Completed\n",
      "Refreshing table [nseindiceshistprice] with 20391 records...Completed\n",
      "Finished [downloadindiceshistdata] in 8.3158 secs\n"
     ]
    }
   ],
   "source": [
    "sd.downloadnseindiceshistdata()"
   ]
  },
  {
   "cell_type": "markdown",
   "metadata": {},
   "source": [
    "***6. Download details from YahooFinance***"
   ]
  },
  {
   "cell_type": "code",
   "execution_count": 7,
   "metadata": {},
   "outputs": [
    {
     "name": "stdout",
     "output_type": "stream",
     "text": [
      "Downloading details and esg scores of 1615 NSE symbols from Yahoo Finance...Completed\n",
      "Refreshing table [nseprofileyf] with 1614 records...Completed\n",
      "Refreshing table [nseesgscores] with 63 records...Completed\n",
      "Finished [downloaddetails] in 187.5999 secs\n"
     ]
    }
   ],
   "source": [
    "sd.downloadnsesymboldetailsyf()"
   ]
  },
  {
   "cell_type": "markdown",
   "metadata": {},
   "source": [
    "***7. Download details from MoneyControl***"
   ]
  },
  {
   "cell_type": "code",
   "execution_count": 8,
   "metadata": {},
   "outputs": [
    {
     "name": "stdout",
     "output_type": "stream",
     "text": [
      "Downloading details of 1615 NSE symbols from Money Control...Completed\n",
      "Refreshing table [nseprofilemc] with 1609 records...Completed\n",
      "Finished [downloaddetails] in 51.5788 secs\n"
     ]
    }
   ],
   "source": [
    "sd.downloadnsesymboldetailsmc()"
   ]
  }
 ],
 "metadata": {
  "kernelspec": {
   "display_name": "Python 3",
   "language": "python",
   "name": "python3"
  },
  "language_info": {
   "codemirror_mode": {
    "name": "ipython",
    "version": 3
   },
   "file_extension": ".py",
   "mimetype": "text/x-python",
   "name": "python",
   "nbconvert_exporter": "python",
   "pygments_lexer": "ipython3",
   "version": "3.8.3"
  }
 },
 "nbformat": 4,
 "nbformat_minor": 4
}
