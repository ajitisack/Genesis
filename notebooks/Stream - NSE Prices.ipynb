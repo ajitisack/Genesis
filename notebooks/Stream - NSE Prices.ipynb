{
 "cells": [
  {
   "cell_type": "code",
   "execution_count": 1,
   "metadata": {},
   "outputs": [],
   "source": [
    "from IPython.core.interactiveshell import InteractiveShell\n",
    "InteractiveShell.ast_node_interactivity = \"all\"\n",
    "\n",
    "import stockdata as sd"
   ]
  },
  {
   "cell_type": "markdown",
   "metadata": {},
   "source": [
    "**Stream latest price of Intraday Watchlist Symbols as of today**"
   ]
  },
  {
   "cell_type": "code",
   "execution_count": 3,
   "metadata": {},
   "outputs": [
    {
     "name": "stdout",
     "output_type": "stream",
     "text": [
      "START TIME : Sun Oct-11-2020 18:12:43\n",
      "Downloading current price of intraday watchlist symbols for 2020-10-11...Completed !\n",
      "Refreshing table [NSE_MyWatchlistCurrentPrice] with 142 records...Completed\n",
      "Finished [download] in 10.8272 secs\n",
      "END TIME   : Sun Oct-11-2020 18:12:54\n",
      "----------------<DONE>----------------\n",
      "\n",
      "Next Run   @ Sun Oct-11-2020 18:13:04\n",
      "# Run Completed for Sun Oct-11-2020 #\n",
      "*****************<END*****************\n",
      "\n"
     ]
    }
   ],
   "source": [
    "sd.streamnseprices(10)"
   ]
  }
 ],
 "metadata": {
  "kernelspec": {
   "display_name": "Python 3",
   "language": "python",
   "name": "python3"
  },
  "language_info": {
   "codemirror_mode": {
    "name": "ipython",
    "version": 3
   },
   "file_extension": ".py",
   "mimetype": "text/x-python",
   "name": "python",
   "nbconvert_exporter": "python",
   "pygments_lexer": "ipython3",
   "version": "3.8.5"
  }
 },
 "nbformat": 4,
 "nbformat_minor": 4
}
