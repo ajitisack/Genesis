{
 "cells": [
  {
   "cell_type": "code",
   "execution_count": 5,
   "metadata": {},
   "outputs": [],
   "source": [
    "from IPython.core.interactiveshell import InteractiveShell\n",
    "InteractiveShell.ast_node_interactivity = \"all\"\n",
    "\n",
    "import stockdata as sd"
   ]
  },
  {
   "cell_type": "markdown",
   "metadata": {},
   "source": [
    "**Stream latest price of Intraday Watchlist Symbols as of today**"
   ]
  },
  {
   "cell_type": "code",
   "execution_count": 6,
   "metadata": {},
   "outputs": [
    {
     "name": "stdout",
     "output_type": "stream",
     "text": [
      "START TIME : Sat Oct-31-2020 10:23:52\n",
      "Downloading current price of intraday watchlist symbols for 2020-10-31...Completed !\n",
      "Refreshing table [NSE_MyWatchlistCurrentPrice] with 53 records...Completed\n",
      "Finished [download] in 7.2182 secs\n",
      "END TIME   : Sat Oct-31-2020 10:23:59\n",
      "----------------<DONE>----------------\n",
      "\n",
      "Next Run   @ Sat Oct-31-2020 10:24:04\n",
      "# Run Completed for Sat Oct-31-2020 #\n",
      "*****************<END*****************\n",
      "\n"
     ]
    }
   ],
   "source": [
    "sd.streamnseprices(5)"
   ]
  }
 ],
 "metadata": {
  "kernelspec": {
   "display_name": "Python 3",
   "language": "python",
   "name": "python3"
  },
  "language_info": {
   "codemirror_mode": {
    "name": "ipython",
    "version": 3
   },
   "file_extension": ".py",
   "mimetype": "text/x-python",
   "name": "python",
   "nbconvert_exporter": "python",
   "pygments_lexer": "ipython3",
   "version": "3.8.5"
  }
 },
 "nbformat": 4,
 "nbformat_minor": 4
}
