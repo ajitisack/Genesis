{
 "cells": [
  {
   "cell_type": "code",
   "execution_count": 2,
   "metadata": {},
   "outputs": [],
   "source": [
    "import stockdata as sd"
   ]
  },
  {
   "cell_type": "code",
   "execution_count": 34,
   "metadata": {},
   "outputs": [],
   "source": [
    "def createwatchlist(name):\n",
    "    outfile = f'{name}.txt'\n",
    "    query = f\"\"\"\n",
    "    select 'NSE:' || symbol as symbol\n",
    "    from nseeq_indices\n",
    "    where 1 = 1\n",
    "    and indexname = '{name}'\n",
    "    \"\"\"\n",
    "    df = sd.getdata(query)\n",
    "    str = ','.join(df.symbol)\n",
    "    str = str.replace('&', '_').replace('-', '_')\n",
    "    with open(outfile, \"w\") as f:\n",
    "        f.write(str)\n",
    "    return str"
   ]
  },
  {
   "cell_type": "code",
   "execution_count": 32,
   "metadata": {},
   "outputs": [
    {
     "data": {
      "text/plain": [
       "'NSE:AMARAJABAT,NSE:ASHOKLEY,NSE:BAJAJ_AUTO,NSE:BALKRISIND,NSE:BHARATFORG,NSE:BOSCHLTD,NSE:EICHERMOT,NSE:EXIDEIND,NSE:HEROMOTOCO,NSE:MRF,NSE:M_M,NSE:MARUTI,NSE:MOTHERSUMI,NSE:TVSMOTOR,NSE:TATAMOTORS'"
      ]
     },
     "execution_count": 32,
     "metadata": {},
     "output_type": "execute_result"
    }
   ],
   "source": [
    "createwatchlist('Nifty Auto')"
   ]
  },
  {
   "cell_type": "code",
   "execution_count": 41,
   "metadata": {},
   "outputs": [],
   "source": [
    "query = \"\"\"select distinct indexname\n",
    "from nseeq_indices\n",
    "where 1 = 1\n",
    "and indextype in ('Sector', 'Thematic')\"\"\"\n",
    "df = sd.getdata(query)\n",
    "indices_list = df.indexname.to_list()"
   ]
  },
  {
   "cell_type": "code",
   "execution_count": 40,
   "metadata": {},
   "outputs": [],
   "source": [
    "apply(createwatchlist, )"
   ]
  }
 ],
 "metadata": {
  "kernelspec": {
   "display_name": "Python 3",
   "language": "python",
   "name": "python3"
  },
  "language_info": {
   "codemirror_mode": {
    "name": "ipython",
    "version": 3
   },
   "file_extension": ".py",
   "mimetype": "text/x-python",
   "name": "python",
   "nbconvert_exporter": "python",
   "pygments_lexer": "ipython3",
   "version": "3.8.3"
  }
 },
 "nbformat": 4,
 "nbformat_minor": 4
}
