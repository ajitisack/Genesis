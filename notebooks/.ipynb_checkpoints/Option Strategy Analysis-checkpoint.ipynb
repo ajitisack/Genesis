{
 "cells": [
  {
   "cell_type": "code",
   "execution_count": 1,
   "metadata": {},
   "outputs": [],
   "source": [
    "from IPython.core.interactiveshell import InteractiveShell\n",
    "InteractiveShell.ast_node_interactivity = \"all\"\n",
    "\n",
    "import stockdata as sd\n",
    "import pandas as pd\n",
    "import requests\n",
    "import os\n",
    "import io\n",
    "import arrow\n",
    "import json\n",
    "import glob"
   ]
  },
  {
   "cell_type": "code",
   "execution_count": 12,
   "metadata": {},
   "outputs": [],
   "source": [
    "%%time\n",
    "files = glob.glob(\"/Users/ajit/Downloads/NSE Data/EOD Options Snapshot - Nifty/nifty_daily_options_snapshot_2021*.csv\")\n",
    "df = pd.concat([pd.read_csv(file) for file in files], ignore_index = True)\n",
    "df.Date     = df.Date.apply(lambda x: arrow.get(x, 'DD-MMM-YYYY').format('YYYY-MM-DD'))\n",
    "df.ExpiryDt = df.ExpiryDt.apply(lambda x: arrow.get(x, 'DD-MMM-YYYY').format('YYYY-MM-DD'))\n",
    "df = df.sort_values(by=['Date', 'ExpiryDt', 'StrikePrice']).reset_index(drop=True)"
   ]
  },
  {
   "cell_type": "code",
   "execution_count": 13,
   "metadata": {},
   "outputs": [
    {
     "data": {
      "text/html": [
       "<div>\n",
       "<style scoped>\n",
       "    .dataframe tbody tr th:only-of-type {\n",
       "        vertical-align: middle;\n",
       "    }\n",
       "\n",
       "    .dataframe tbody tr th {\n",
       "        vertical-align: top;\n",
       "    }\n",
       "\n",
       "    .dataframe thead th {\n",
       "        text-align: right;\n",
       "    }\n",
       "</style>\n",
       "<table border=\"1\" class=\"dataframe\">\n",
       "  <thead>\n",
       "    <tr style=\"text-align: right;\">\n",
       "      <th></th>\n",
       "      <th>Date</th>\n",
       "      <th>Symbol</th>\n",
       "      <th>ExpiryDt</th>\n",
       "      <th>StrikePrice</th>\n",
       "      <th>OptionTp</th>\n",
       "      <th>Open</th>\n",
       "      <th>High</th>\n",
       "      <th>Low</th>\n",
       "      <th>Close</th>\n",
       "      <th>SettlePrice</th>\n",
       "      <th>Contracts</th>\n",
       "      <th>ValueInLakhs</th>\n",
       "      <th>OI</th>\n",
       "      <th>OIChng</th>\n",
       "    </tr>\n",
       "  </thead>\n",
       "  <tbody>\n",
       "    <tr>\n",
       "      <th>0</th>\n",
       "      <td>2021-01-01</td>\n",
       "      <td>NIFTY</td>\n",
       "      <td>2021-01-07</td>\n",
       "      <td>10600.0</td>\n",
       "      <td>CE</td>\n",
       "      <td>0.0</td>\n",
       "      <td>0.00</td>\n",
       "      <td>0.0</td>\n",
       "      <td>1691.80</td>\n",
       "      <td>3425.90</td>\n",
       "      <td>0</td>\n",
       "      <td>0.00</td>\n",
       "      <td>0</td>\n",
       "      <td>0</td>\n",
       "    </tr>\n",
       "    <tr>\n",
       "      <th>1</th>\n",
       "      <td>2021-01-01</td>\n",
       "      <td>NIFTY</td>\n",
       "      <td>2021-01-07</td>\n",
       "      <td>10600.0</td>\n",
       "      <td>PE</td>\n",
       "      <td>0.8</td>\n",
       "      <td>0.85</td>\n",
       "      <td>0.3</td>\n",
       "      <td>0.35</td>\n",
       "      <td>0.35</td>\n",
       "      <td>5853</td>\n",
       "      <td>46533.92</td>\n",
       "      <td>202425</td>\n",
       "      <td>199575</td>\n",
       "    </tr>\n",
       "    <tr>\n",
       "      <th>2</th>\n",
       "      <td>2021-01-01</td>\n",
       "      <td>NIFTY</td>\n",
       "      <td>2021-01-07</td>\n",
       "      <td>10650.0</td>\n",
       "      <td>CE</td>\n",
       "      <td>0.0</td>\n",
       "      <td>0.00</td>\n",
       "      <td>0.0</td>\n",
       "      <td>1649.90</td>\n",
       "      <td>3375.95</td>\n",
       "      <td>0</td>\n",
       "      <td>0.00</td>\n",
       "      <td>0</td>\n",
       "      <td>0</td>\n",
       "    </tr>\n",
       "  </tbody>\n",
       "</table>\n",
       "</div>"
      ],
      "text/plain": [
       "         Date Symbol    ExpiryDt  StrikePrice OptionTp  Open  High  Low  \\\n",
       "0  2021-01-01  NIFTY  2021-01-07      10600.0       CE   0.0  0.00  0.0   \n",
       "1  2021-01-01  NIFTY  2021-01-07      10600.0       PE   0.8  0.85  0.3   \n",
       "2  2021-01-01  NIFTY  2021-01-07      10650.0       CE   0.0  0.00  0.0   \n",
       "\n",
       "     Close  SettlePrice  Contracts  ValueInLakhs      OI  OIChng  \n",
       "0  1691.80      3425.90          0          0.00       0       0  \n",
       "1     0.35         0.35       5853      46533.92  202425  199575  \n",
       "2  1649.90      3375.95          0          0.00       0       0  "
      ]
     },
     "execution_count": 13,
     "metadata": {},
     "output_type": "execute_result"
    },
    {
     "data": {
      "text/plain": [
       "(178388, 14)"
      ]
     },
     "execution_count": 13,
     "metadata": {},
     "output_type": "execute_result"
    }
   ],
   "source": [
    "df.head(3)\n",
    "df.shape"
   ]
  },
  {
   "cell_type": "code",
   "execution_count": 14,
   "metadata": {},
   "outputs": [],
   "source": [
    "a = df[(df.ExpiryDt == '2021-06-24') & (df.StrikePrice == 14000)]\n",
    "a.to_csv(\"/Users/ajit/Google Drive/Trading/14k_June_Straddle_Analysis.csv\", index=False)\n",
    "# b = df[(df.ExpiryDt == '2021-12-30') & (df.StrikePrice == 15000)]\n",
    "# b.to_csv(\"/Users/ajit/Google Drive/Trading/15k_Dec_Straddle_Analysis.csv\", index=False)"
   ]
  }
 ],
 "metadata": {
  "kernelspec": {
   "display_name": "Python 3",
   "language": "python",
   "name": "python3"
  },
  "language_info": {
   "codemirror_mode": {
    "name": "ipython",
    "version": 3
   },
   "file_extension": ".py",
   "mimetype": "text/x-python",
   "name": "python",
   "nbconvert_exporter": "python",
   "pygments_lexer": "ipython3",
   "version": "3.8.5"
  }
 },
 "nbformat": 4,
 "nbformat_minor": 4
}
