{
 "cells": [
  {
   "cell_type": "code",
   "execution_count": 1,
   "metadata": {},
   "outputs": [],
   "source": [
    "from IPython.core.interactiveshell import InteractiveShell\n",
    "InteractiveShell.ast_node_interactivity = \"all\"\n",
    "\n",
    "import stockdata as sd"
   ]
  },
  {
   "cell_type": "markdown",
   "metadata": {},
   "source": [
    "**Stream latest price of Intraday Watchlist Symbols as of today**"
   ]
  },
  {
   "cell_type": "code",
   "execution_count": 2,
   "metadata": {},
   "outputs": [
    {
     "name": "stdout",
     "output_type": "stream",
     "text": [
      "START TIME : Tue Sep-29-2020 15:35:43\n",
      "Downloading current price of intraday watchlist symbols for 2020-09-29...Completed !\n",
      "Refreshing table [NSE_MyWatchlistCurrentPrice] with 30 records...Completed\n",
      "Finished [download] in 19.9650 secs\n",
      "END TIME   : Tue Sep-29-2020 15:36:03\n",
      "----------------<DONE>----------------\n",
      "\n",
      "Next Run   @ Tue Sep-29-2020 15:36:08\n",
      "# Run Completed for Tue Sep-29-2020 #\n",
      "*****************<END*****************\n",
      "\n"
     ]
    }
   ],
   "source": [
    "sd.streamnseprices(5)"
   ]
  }
 ],
 "metadata": {
  "kernelspec": {
   "display_name": "Python 3",
   "language": "python",
   "name": "python3"
  },
  "language_info": {
   "codemirror_mode": {
    "name": "ipython",
    "version": 3
   },
   "file_extension": ".py",
   "mimetype": "text/x-python",
   "name": "python",
   "nbconvert_exporter": "python",
   "pygments_lexer": "ipython3",
   "version": "3.8.5"
  }
 },
 "nbformat": 4,
 "nbformat_minor": 4
}
