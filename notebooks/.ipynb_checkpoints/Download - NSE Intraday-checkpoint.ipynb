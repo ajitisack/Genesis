{
 "cells": [
  {
   "cell_type": "markdown",
   "metadata": {},
   "source": [
    "### **Download NSE Intraday data**"
   ]
  },
  {
   "cell_type": "code",
   "execution_count": 62,
   "metadata": {},
   "outputs": [],
   "source": [
    "from IPython.core.interactiveshell import InteractiveShell\n",
    "InteractiveShell.ast_node_interactivity = \"all\"\n",
    "\n",
    "import stockdata as sd\n",
    "import pandas as pd\n",
    "import arrow\n",
    "import requests\n",
    "import json"
   ]
  },
  {
   "cell_type": "code",
   "execution_count": 63,
   "metadata": {},
   "outputs": [
    {
     "name": "stdout",
     "output_type": "stream",
     "text": [
      "HDFCBANK\n",
      "Date from yahoofinance - 2020-07-24\n"
     ]
    },
    {
     "data": {
      "text/html": [
       "<div>\n",
       "<style scoped>\n",
       "    .dataframe tbody tr th:only-of-type {\n",
       "        vertical-align: middle;\n",
       "    }\n",
       "\n",
       "    .dataframe tbody tr th {\n",
       "        vertical-align: top;\n",
       "    }\n",
       "\n",
       "    .dataframe thead th {\n",
       "        text-align: right;\n",
       "    }\n",
       "</style>\n",
       "<table border=\"1\" class=\"dataframe\">\n",
       "  <thead>\n",
       "    <tr style=\"text-align: right;\">\n",
       "      <th></th>\n",
       "      <th>open</th>\n",
       "      <th>low</th>\n",
       "      <th>open</th>\n",
       "      <th>close</th>\n",
       "      <th>volume</th>\n",
       "    </tr>\n",
       "  </thead>\n",
       "  <tbody>\n",
       "    <tr>\n",
       "      <th>0</th>\n",
       "      <td>1122.900024</td>\n",
       "      <td>1101.25</td>\n",
       "      <td>1122.900024</td>\n",
       "      <td>1119.099976</td>\n",
       "      <td>9798318</td>\n",
       "    </tr>\n",
       "  </tbody>\n",
       "</table>\n",
       "</div>"
      ],
      "text/plain": [
       "          open      low         open        close   volume\n",
       "0  1122.900024  1101.25  1122.900024  1119.099976  9798318"
      ]
     },
     "execution_count": 63,
     "metadata": {},
     "output_type": "execute_result"
    }
   ],
   "source": [
    "symbol = 'HDFCBANK'\n",
    "print(f'{symbol}')\n",
    "ts = arrow.get(dt).timestamp\n",
    "params = {}\n",
    "params['interval'] = '1d'\n",
    "params['range']   = '1d'\n",
    "url = f'https://query1.finance.yahoo.com/v8/finance/chart/{symbol}.NS'\n",
    "response = requests.get(url, params=params)\n",
    "d = json.loads(response.text)\n",
    "print(f\"Date from yahoofinance - {arrow.get(d['chart']['result'][0]['timestamp'][0]).format('YYYY-MM-DD')}\")\n",
    "df = pd.DataFrame(d['chart']['result'][0]['indicators']['quote'][0])\n",
    "float_cols = df.select_dtypes(include=['float64', 'float32']).columns\n",
    "df[float_cols] = df[float_cols].apply(lambda x: round(x, 2))\n",
    "df[['open', 'low', 'open', 'close', 'volume']]"
   ]
  },
  {
   "cell_type": "markdown",
   "metadata": {},
   "source": [
    "**Stream intraday data for given date**"
   ]
  },
  {
   "cell_type": "code",
   "execution_count": 3,
   "metadata": {},
   "outputs": [
    {
     "name": "stdout",
     "output_type": "stream",
     "text": [
      "Downloading intraday prices from yahoo finance for 2020-07-24 NSE 141 symbols...Completed!\n",
      "Refreshing table [nseintraday] with 52772 records...Completed\n",
      "Finished [stream] in 18.5454 secs\n"
     ]
    }
   ],
   "source": [
    "sd.streamnseintraday('2020-07-24')"
   ]
  },
  {
   "cell_type": "markdown",
   "metadata": {},
   "source": [
    "**Download intraday file**"
   ]
  },
  {
   "cell_type": "code",
   "execution_count": null,
   "metadata": {},
   "outputs": [],
   "source": [
    "%%time\n",
    "sd.downloadnseintradaydata('2020-07-20')"
   ]
  },
  {
   "cell_type": "markdown",
   "metadata": {},
   "source": [
    "**Load month end intraday file into table**"
   ]
  },
  {
   "cell_type": "code",
   "execution_count": null,
   "metadata": {},
   "outputs": [],
   "source": [
    "sd.loadnseintradayfile('2020-07')"
   ]
  },
  {
   "cell_type": "markdown",
   "metadata": {},
   "source": [
    "**Combine daily files into single file for a month**"
   ]
  },
  {
   "cell_type": "code",
   "execution_count": null,
   "metadata": {},
   "outputs": [],
   "source": [
    "sd.createnseintradaymonthlyfile('2020-04')"
   ]
  }
 ],
 "metadata": {
  "kernelspec": {
   "display_name": "Python 3",
   "language": "python",
   "name": "python3"
  },
  "language_info": {
   "codemirror_mode": {
    "name": "ipython",
    "version": 3
   },
   "file_extension": ".py",
   "mimetype": "text/x-python",
   "name": "python",
   "nbconvert_exporter": "python",
   "pygments_lexer": "ipython3",
   "version": "3.8.3"
  }
 },
 "nbformat": 4,
 "nbformat_minor": 4
}
