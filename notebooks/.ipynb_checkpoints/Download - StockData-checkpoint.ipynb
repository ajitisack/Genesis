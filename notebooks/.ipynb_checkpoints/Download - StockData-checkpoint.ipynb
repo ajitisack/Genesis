{
 "cells": [
  {
   "cell_type": "markdown",
   "metadata": {},
   "source": [
    "### **Stockdata Downloader**"
   ]
  },
  {
   "cell_type": "code",
   "execution_count": 1,
   "metadata": {},
   "outputs": [],
   "source": [
    "import stockdata as sd"
   ]
  },
  {
   "cell_type": "markdown",
   "metadata": {},
   "source": [
    "***Download NSE and BSE symbols***"
   ]
  },
  {
   "cell_type": "code",
   "execution_count": 8,
   "metadata": {},
   "outputs": [
    {
     "name": "stdout",
     "output_type": "stream",
     "text": [
      "Fetching list of all BSE and NSE Equities...Completed\n",
      "Refreshing table [symbols] with 3983 records...Completed\n",
      "Creating index on symbols(symbol)...Completed\n",
      "Finished [download] in 6.8950 secs\n"
     ]
    }
   ],
   "source": [
    "sd.downloadsymbols()"
   ]
  },
  {
   "cell_type": "markdown",
   "metadata": {},
   "source": [
    "***Download Indices data from MoneyControl***"
   ]
  },
  {
   "cell_type": "code",
   "execution_count": 9,
   "metadata": {},
   "outputs": [
    {
     "name": "stdout",
     "output_type": "stream",
     "text": [
      "Downloading details and historical prices of BSE and NSE Indices from 1970-01-01...Completed\n",
      "Refreshing table [nseindices] with 2186 records...Completed\n",
      "Refreshing table [bseindices] with 5084 records...Completed\n",
      "Refreshing table [nseindiceshistprice] with 20301 records...Completed\n",
      "Refreshing table [bseindiceshistprice] with 28081 records...Completed\n",
      "Finished [loadindicesdata] in 37.4747 secs\n"
     ]
    }
   ],
   "source": [
    "sd.downloadindices()"
   ]
  },
  {
   "cell_type": "markdown",
   "metadata": {},
   "source": [
    "### **NSE**"
   ]
  },
  {
   "cell_type": "markdown",
   "metadata": {},
   "source": [
    "***Download historical prices and events***"
   ]
  },
  {
   "cell_type": "code",
   "execution_count": 10,
   "metadata": {},
   "outputs": [
    {
     "name": "stdout",
     "output_type": "stream",
     "text": [
      "Downloading historical prices and actions from yahoo finance for 1622 NSE symbols from 1970-01-01...Completed!\n",
      "Refreshing table [nsehistprice] with 4741703 records...Completed\n",
      "Creating index on nsehistprice(symbol)...Completed\n",
      "Refreshing table [nseevents] with 17670 records...Completed\n",
      "Creating index on nseevents(symbol)...Completed\n",
      "Finished [download] in 292.4987 secs\n"
     ]
    }
   ],
   "source": [
    "sd.downloadnsehistdata()"
   ]
  },
  {
   "cell_type": "markdown",
   "metadata": {},
   "source": [
    "***Download details from YahooFinance and MoneyControl***"
   ]
  },
  {
   "cell_type": "code",
   "execution_count": 11,
   "metadata": {},
   "outputs": [
    {
     "name": "stdout",
     "output_type": "stream",
     "text": [
      "Downloading details and esg scores of 1622 NSE symbols from Yahoo Finance...Completed\n",
      "Refreshing table [nseprofileyf] with 1622 records...Completed\n",
      "Creating index on nseprofileyf(symbol)...Completed\n",
      "Refreshing table [nseesgscores] with 63 records...Completed\n",
      "Creating index on nseesgscores(symbol)...Completed\n",
      "Finished [downloaddetails] in 222.2663 secs\n",
      "Downloading details of 1622 NSE symbols from Money Control...Completed\n",
      "Refreshing table [nseprofilemc] with 1617 records...Completed\n",
      "Finished [downloaddetails] in 123.7921 secs\n"
     ]
    }
   ],
   "source": [
    "sd.downloadnsesymboldetailsyf()\n",
    "sd.downloadnsesymboldetailsmc()"
   ]
  },
  {
   "cell_type": "markdown",
   "metadata": {},
   "source": [
    "### **BSE**"
   ]
  },
  {
   "cell_type": "markdown",
   "metadata": {},
   "source": [
    "***Download historical prices and events***"
   ]
  },
  {
   "cell_type": "code",
   "execution_count": 13,
   "metadata": {},
   "outputs": [
    {
     "name": "stdout",
     "output_type": "stream",
     "text": [
      "Downloading historical prices and actions from yahoo finance for 3918 BSE symbols from 1970-01-01...Completed!\n",
      "Refreshing table [bsehistprice] with 10636343 records...Completed\n",
      "Creating index on bsehistprice(symbol)...Completed\n",
      "Refreshing table [bseevents] with 25836 records...Completed\n",
      "Creating index on bseevents(symbol)...Completed\n",
      "Finished [download] in 2479.5689 secs\n"
     ]
    }
   ],
   "source": [
    "sd.downloadbsehistdata()"
   ]
  },
  {
   "cell_type": "markdown",
   "metadata": {},
   "source": [
    "***Download details from YahooFinance and MoneyControl***"
   ]
  },
  {
   "cell_type": "code",
   "execution_count": null,
   "metadata": {},
   "outputs": [
    {
     "name": "stdout",
     "output_type": "stream",
     "text": [
      "Downloading details and esg scores of 3918 BSE symbols from Yahoo Finance..."
     ]
    }
   ],
   "source": [
    "sd.downloadbsesymboldetailsyf()\n",
    "sd.downloadbsesymboldetailsmc()"
   ]
  }
 ],
 "metadata": {
  "kernelspec": {
   "display_name": "Python 3",
   "language": "python",
   "name": "python3"
  },
  "language_info": {
   "codemirror_mode": {
    "name": "ipython",
    "version": 3
   },
   "file_extension": ".py",
   "mimetype": "text/x-python",
   "name": "python",
   "nbconvert_exporter": "python",
   "pygments_lexer": "ipython3",
   "version": "3.8.3"
  }
 },
 "nbformat": 4,
 "nbformat_minor": 4
}
