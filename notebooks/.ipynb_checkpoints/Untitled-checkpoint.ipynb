{
 "cells": [
  {
   "cell_type": "code",
   "execution_count": 1,
   "metadata": {},
   "outputs": [],
   "source": [
    "import stockdata as sd"
   ]
  },
  {
   "cell_type": "code",
   "execution_count": 3,
   "metadata": {},
   "outputs": [
    {
     "name": "stdout",
     "output_type": "stream",
     "text": [
      "START TIME : Sun Aug-02-2020 11:31:29\n",
      "Downloading current prices from yahoo finance for NSE 141 symbols...Completed!\n",
      "Refreshing table [NSE_EquityCurrentPrice] with 141 records...Completed\n",
      "Finished [download] in 2.9376 secs\n",
      "Downloading current price of 30 NSE indices from YahooFinance...Completed!\n",
      "Refreshing table [NSE_IndicesCurrentPrice] with 37 records...Completed\n",
      "Finished [download] in 1.1008 secs\n",
      "Downloading intraday prices from yahoo finance for 2020-08-02 NSE 141 symbols...No data!\n",
      "Finished [stream] in 2.5923 secs\n",
      "END TIME   : Sun Aug-02-2020 11:31:36\n",
      "*********<DONE>*********\n",
      "\n",
      "Last run time       : Sun Aug-02-2020 11:31:36\n",
      "Next scheduled time : Sun Aug-02-2020 11:32:36\n",
      "\n"
     ]
    }
   ],
   "source": [
    "sd.streamnseprices()"
   ]
  }
 ],
 "metadata": {
  "kernelspec": {
   "display_name": "Python 3",
   "language": "python",
   "name": "python3"
  },
  "language_info": {
   "codemirror_mode": {
    "name": "ipython",
    "version": 3
   },
   "file_extension": ".py",
   "mimetype": "text/x-python",
   "name": "python",
   "nbconvert_exporter": "python",
   "pygments_lexer": "ipython3",
   "version": "3.8.3"
  }
 },
 "nbformat": 4,
 "nbformat_minor": 4
}
