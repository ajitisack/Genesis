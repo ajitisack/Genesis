{
 "cells": [
  {
   "cell_type": "markdown",
   "metadata": {
    "jupyter": {
     "source_hidden": true
    }
   },
   "source": [
    "***Ratios***\n",
    "- Standalone -> https://www.moneycontrol.com/financials/itc/ratiosVI/ITC#ITC\n",
    "- Consolidated -> https://www.moneycontrol.com/financials/itc/consolidated-ratiosVI/ITC#ITC\n",
    "\n",
    "***Balance Sheet***\n",
    "- Standalone -> https://www.moneycontrol.com/financials/itc/balance-sheetVI/ITC\n",
    "- Consolidated -> https://www.moneycontrol.com/financials/itc/consolidated-balance-sheetVI/ITC\n",
    "- for next page https://www.moneycontrol.com/financials/itc/profit-lossVI/ITC/2#ITC\n",
    "\n",
    "***Profit & Loss***- \n",
    "- Standalone -> https://www.moneycontrol.com/financials/itc/profit-lossVI/ITC\n",
    "- Consolidated ->https://www.moneycontrol.com/financials/itc/consolidated-balance-sheetVI/ITC#ITC\n",
    "\n",
    "***Quarterly Results***\n",
    "- Standalone -> https://www.moneycontrol.com/financials/itc/results/quarterly-results/ITC#ITC\n",
    "- Consolidated -> https://www.moneycontrol.com/financials/itc/results/consolidated-quarterly-results/ITC#ITC\n",
    "\n",
    "***Half Yearly Results***\n",
    "- Standalone -> https://www.moneycontrol.com/financials/itc/results/half-yearly/ITC#ITC\n",
    "- Consolidated -> https://www.moneycontrol.com/financials/itc/results/consolidated-half-yearly/ITC#ITC\n",
    "\n",
    "***Nine Months Results***\n",
    "- Standalone -> https://www.moneycontrol.com/financials/itc/results/nine-months/ITC#ITC\n",
    "- Consolidated -> https://www.moneycontrol.com/financials/itc/results/consolidated-nine-months/ITC#ITC\n",
    "\n",
    "***Yearly Results***\n",
    "- Standalone -> https://www.moneycontrol.com/financials/itc/results/yearly/ITC#ITC\n",
    "- Consolidated -> https://www.moneycontrol.com/financials/itc/results/consolidated-yearly/ITC#ITC\n",
    "\n",
    "***Cash Flow***\n",
    "- Standalone - https://www.moneycontrol.com/financials/itc/cash-flowVI/ITC#ITC\n",
    "- Consolidated - https://www.moneycontrol.com/financials/itc/consolidated-cash-flowVI/ITC#ITC\n",
    "\n",
    "***Capital Structure***\n",
    "- https://www.moneycontrol.com/financials/itc/capital-structure/ITC#ITC"
   ]
  },
  {
   "cell_type": "code",
   "execution_count": 1,
   "metadata": {},
   "outputs": [],
   "source": [
    "from IPython.core.interactiveshell import InteractiveShell\n",
    "InteractiveShell.ast_node_interactivity = \"all\""
   ]
  },
  {
   "cell_type": "code",
   "execution_count": 2,
   "metadata": {},
   "outputs": [],
   "source": [
    "import pandas as pd"
   ]
  },
  {
   "cell_type": "code",
   "execution_count": 5,
   "metadata": {},
   "outputs": [],
   "source": [
    "mc_fin_baseurl = 'https://www.moneycontrol.com/financials'"
   ]
  },
  {
   "cell_type": "markdown",
   "metadata": {},
   "source": [
    "***To download Financial ratios***"
   ]
  },
  {
   "cell_type": "code",
   "execution_count": 7,
   "metadata": {},
   "outputs": [],
   "source": [
    "def processfindf(df):\n",
    "    df.at[0,0] = 'item'\n",
    "    df = df.iloc[:, :-1]\n",
    "    df = df.rename(columns=df.iloc[0])\n",
    "    df = df.drop(df.index[0])\n",
    "    df.set_index('item', inplace=True)\n",
    "    return df\n",
    "\n",
    "# https://www.moneycontrol.com/financials/itc/consolidated-balance-sheetVI/ITC\n",
    "\n",
    "# fintp -> 'ratios', 'balance-sheet', 'profit-loss', 'yearly', 'quarterly-results', 'half-yearly', 'nine-months'\n",
    "def getfinancials(symbol, fintp='ratios'):\n",
    "    symbol = symbol.upper()\n",
    "    url = f'{mc_fin_baseurl}/{symbol}/consolidated-{fintp}VI/{symbol}'\n",
    "    if fintp in ['yearly', 'quarterly-results', 'half-yearly', 'nine-months']:\n",
    "        url = f'{mc_fin_baseurl}/{symbol}/results/consolidated-{fintp}/{symbol}'\n",
    "    lst = [pd.read_html(f'{url}/{i}') for i in range(2, 6)]\n",
    "    lst = [pd.read_html(url)] + lst\n",
    "    dfs = [processfindf(i[0]) for i in lst if i]\n",
    "    df = pd.concat(dfs, axis=1)\n",
    "    df = df.dropna(how='all') \n",
    "    df.fillna(0, inplace=True)\n",
    "    if fintp in ['balance-sheet', 'profit-loss']: df = df.iloc[1:]\n",
    "    return df"
   ]
  },
  {
   "cell_type": "code",
   "execution_count": null,
   "metadata": {},
   "outputs": [],
   "source": [
    "%%time\n",
    "# df = getfinancials('HDF01', 'ratios')\n",
    "# df = getfinancials('HDF01', 'balance-sheet')\n",
    "# df = getfinancials('HDF01', 'profit-loss')\n",
    "# df = getfinancials('HDF01', 'yearly')\n",
    "# df = getfinancials('HDF01', 'half-yearly')\n",
    "# df = getfinancials('HDF01', 'quarterly-results')\n",
    "# df = getfinancials('HDF01', 'nine-months')"
   ]
  },
  {
   "cell_type": "code",
   "execution_count": null,
   "metadata": {},
   "outputs": [
    {
     "name": "stdout",
     "output_type": "stream",
     "text": [
      "https://www.moneycontrol.com/financials/SBI/consolidated-profit-lossVI/SBI\n"
     ]
    }
   ],
   "source": [
    "df = getfinancials('sbi', 'profit-loss')"
   ]
  },
  {
   "cell_type": "code",
   "execution_count": null,
   "metadata": {},
   "outputs": [],
   "source": [
    "df"
   ]
  }
 ],
 "metadata": {
  "kernelspec": {
   "display_name": "Python 3",
   "language": "python",
   "name": "python3"
  },
  "language_info": {
   "codemirror_mode": {
    "name": "ipython",
    "version": 3
   },
   "file_extension": ".py",
   "mimetype": "text/x-python",
   "name": "python",
   "nbconvert_exporter": "python",
   "pygments_lexer": "ipython3",
   "version": "3.8.3"
  }
 },
 "nbformat": 4,
 "nbformat_minor": 4
}
