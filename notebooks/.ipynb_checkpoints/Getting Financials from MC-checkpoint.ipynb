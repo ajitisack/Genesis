{
 "cells": [
  {
   "cell_type": "markdown",
   "metadata": {
    "jupyter": {
     "source_hidden": true
    }
   },
   "source": [
    "***Ratios***\n",
    "- Standalone -> https://www.moneycontrol.com/financials/itc/ratiosVI/ITC#ITC\n",
    "- Consolidated -> https://www.moneycontrol.com/financials/itc/consolidated-ratiosVI/ITC#ITC\n",
    "\n",
    "***Balance Sheet***\n",
    "- Standalone -> https://www.moneycontrol.com/financials/itc/balance-sheetVI/ITC\n",
    "- Consolidated -> https://www.moneycontrol.com/financials/itc/consolidated-balance-sheetVI/ITC\n",
    "- for next page https://www.moneycontrol.com/financials/itc/profit-lossVI/ITC/2#ITC\n",
    "\n",
    "***Profit & Loss***- \n",
    "- Standalone -> https://www.moneycontrol.com/financials/itc/profit-lossVI/ITC\n",
    "- Consolidated ->https://www.moneycontrol.com/financials/itc/consolidated-balance-sheetVI/ITC#ITC\n",
    "\n",
    "***Quarterly Results***\n",
    "- Standalone -> https://www.moneycontrol.com/financials/itc/results/quarterly-results/ITC#ITC\n",
    "- Consolidated -> https://www.moneycontrol.com/financials/itc/results/consolidated-quarterly-results/ITC#ITC\n",
    "\n",
    "***Half Yearly Results***\n",
    "- Standalone -> https://www.moneycontrol.com/financials/itc/results/half-yearly/ITC#ITC\n",
    "- Consolidated -> https://www.moneycontrol.com/financials/itc/results/consolidated-half-yearly/ITC#ITC\n",
    "\n",
    "***Nine Months Results***\n",
    "- Standalone -> https://www.moneycontrol.com/financials/itc/results/nine-months/ITC#ITC\n",
    "- Consolidated -> https://www.moneycontrol.com/financials/itc/results/consolidated-nine-months/ITC#ITC\n",
    "\n",
    "***Yearly Results***\n",
    "- Standalone -> https://www.moneycontrol.com/financials/itc/results/yearly/ITC#ITC\n",
    "- Consolidated -> https://www.moneycontrol.com/financials/itc/results/consolidated-yearly/ITC#ITC\n",
    "\n",
    "***Cash Flow***\n",
    "- Standalone - https://www.moneycontrol.com/financials/itc/cash-flowVI/ITC#ITC\n",
    "- Consolidated - https://www.moneycontrol.com/financials/itc/consolidated-cash-flowVI/ITC#ITC\n",
    "\n",
    "***Capital Structure***\n",
    "- https://www.moneycontrol.com/financials/itc/capital-structure/ITC#ITC"
   ]
  },
  {
   "cell_type": "code",
   "execution_count": 1,
   "metadata": {},
   "outputs": [],
   "source": [
    "from IPython.core.interactiveshell import InteractiveShell\n",
    "InteractiveShell.ast_node_interactivity = \"all\""
   ]
  },
  {
   "cell_type": "markdown",
   "metadata": {},
   "source": [
    "***To download Financial ratios***"
   ]
  },
  {
   "cell_type": "code",
   "execution_count": 2,
   "metadata": {},
   "outputs": [],
   "source": [
    "import pandas as pd\n",
    "mc_fin_baseurl = 'https://www.moneycontrol.com/financials'\n",
    "\n",
    "def processfindf(df):\n",
    "    df.at[0,0] = 'Item'\n",
    "    df = df.iloc[:, :-1]\n",
    "    df = df.rename(columns=df.iloc[0])\n",
    "    df = df.drop(df.index[0])\n",
    "    df.set_index('Item', inplace=True)\n",
    "    return df\n",
    "\n",
    "# https://www.moneycontrol.com/financials/itc/consolidated-balance-sheetVI/ITC\n",
    "\n",
    "# fintp -> 'ratios', 'balance-sheet', 'profit-loss', 'yearly', 'quarterly-results', 'half-yearly', 'nine-months', 'cash-flow'\n",
    "def getfinancials(symbol, fintp='ratios'):\n",
    "    symbol = symbol.upper()\n",
    "    url = f'{mc_fin_baseurl}/{symbol}/consolidated-{fintp}VI/{symbol}'\n",
    "    if fintp in ['yearly', 'quarterly-results', 'half-yearly', 'nine-months']:\n",
    "        url = f'{mc_fin_baseurl}/{symbol}/results/consolidated-{fintp}/{symbol}'\n",
    "    lst = [pd.read_html(f'{url}/{i}') for i in range(2, 6)]\n",
    "    lst = [pd.read_html(url)] + lst\n",
    "    dfs = [processfindf(i[0]) for i in lst if i]\n",
    "    df = pd.concat(dfs, axis=1)\n",
    "    df = df.dropna(how='all') \n",
    "    df.fillna(0, inplace=True)\n",
    "    df = df[df.columns[::-1]]\n",
    "    if fintp in ['balance-sheet', 'profit-loss']: df = df.iloc[1:]\n",
    "    return df"
   ]
  },
  {
   "cell_type": "code",
   "execution_count": 52,
   "metadata": {},
   "outputs": [
    {
     "name": "stdout",
     "output_type": "stream",
     "text": [
      "CPU times: user 10.7 s, sys: 310 ms, total: 11 s\n",
      "Wall time: 1min 23s\n"
     ]
    }
   ],
   "source": [
    "%%time\n",
    "symbol = 'HDF01'\n",
    "ratios = getfinancials(symbol, 'ratios')\n",
    "bs = getfinancials(symbol, 'balance-sheet')\n",
    "pnl = getfinancials(symbol, 'profit-loss')\n",
    "cashflow = getfinancials(symbol, 'cash-flow')\n",
    "yearly = getfinancials(symbol, 'yearly')\n",
    "half_yearly = getfinancials(symbol, 'half-yearly')\n",
    "quarter = getfinancials(symbol, 'quarterly-results')\n",
    "# nine_mnths = getfinancials(symbol, 'nine-months')"
   ]
  },
  {
   "cell_type": "code",
   "execution_count": 53,
   "metadata": {},
   "outputs": [],
   "source": [
    "company = 'HDFCBank'\n",
    "excel_file = f'/Users/ajit/Google Drive/Fundemental Analysis/Financials_{company}.xlsx'\n",
    "with pd.ExcelWriter(excel_file) as writer:\n",
    "    pnl.to_excel(writer, sheet_name='Income Statement')\n",
    "    bs.to_excel(writer, sheet_name='Balance Sheet')\n",
    "    cashflow.to_excel(writer, sheet_name='Cash Flow')\n",
    "    ratios.to_excel(writer, sheet_name='Ratios')\n",
    "    yearly.to_excel(writer, sheet_name='Yearly Results')\n",
    "#     half_yearly.to_excel(writer, sheet_name='Half Yearly Results')\n",
    "    quarter.to_excel(writer, sheet_name='Quarterly Results')\n",
    "#     nine_mnths.to_excel(writer, sheet_name='9 Months Results')"
   ]
  },
  {
   "cell_type": "code",
   "execution_count": 45,
   "metadata": {},
   "outputs": [],
   "source": [
    "import requests, json\n",
    "response = requests.get('https://api.tickertape.in/stocks/financials/income/INFY/annual/normal?count=100')\n",
    "data = response.json()['data']\n",
    "df = pd.DataFrame(data)"
   ]
  },
  {
   "cell_type": "code",
   "execution_count": 46,
   "metadata": {},
   "outputs": [],
   "source": [
    "cols = ['displayPeriod', 'incTrev', 'incPbt', 'incNinc', 'incEps', 'incDps', 'incPyr']\n",
    "df = df[cols]\n",
    "df.columns = ['period', 'revenue', 'pbt', 'income', 'eps', 'dps', 'payout_ratio']"
   ]
  },
  {
   "cell_type": "code",
   "execution_count": 48,
   "metadata": {},
   "outputs": [
    {
     "data": {
      "text/html": [
       "<div>\n",
       "<style scoped>\n",
       "    .dataframe tbody tr th:only-of-type {\n",
       "        vertical-align: middle;\n",
       "    }\n",
       "\n",
       "    .dataframe tbody tr th {\n",
       "        vertical-align: top;\n",
       "    }\n",
       "\n",
       "    .dataframe thead th {\n",
       "        text-align: right;\n",
       "    }\n",
       "</style>\n",
       "<table border=\"1\" class=\"dataframe\">\n",
       "  <thead>\n",
       "    <tr style=\"text-align: right;\">\n",
       "      <th></th>\n",
       "      <th>period</th>\n",
       "      <th>revenue</th>\n",
       "      <th>pbt</th>\n",
       "      <th>income</th>\n",
       "      <th>eps</th>\n",
       "      <th>dps</th>\n",
       "      <th>payout_ratio</th>\n",
       "    </tr>\n",
       "  </thead>\n",
       "  <tbody>\n",
       "    <tr>\n",
       "      <th>0</th>\n",
       "      <td>FY 2012</td>\n",
       "      <td>35638</td>\n",
       "      <td>11699</td>\n",
       "      <td>8332</td>\n",
       "      <td>18.227345</td>\n",
       "      <td>5.875022</td>\n",
       "      <td>0.322319</td>\n",
       "    </tr>\n",
       "    <tr>\n",
       "      <th>1</th>\n",
       "      <td>FY 2013</td>\n",
       "      <td>42717</td>\n",
       "      <td>12799</td>\n",
       "      <td>9429</td>\n",
       "      <td>20.627104</td>\n",
       "      <td>5.250039</td>\n",
       "      <td>0.254521</td>\n",
       "    </tr>\n",
       "    <tr>\n",
       "      <th>2</th>\n",
       "      <td>FY 2014</td>\n",
       "      <td>52797</td>\n",
       "      <td>14728</td>\n",
       "      <td>10656</td>\n",
       "      <td>23.311250</td>\n",
       "      <td>7.875069</td>\n",
       "      <td>0.337823</td>\n",
       "    </tr>\n",
       "    <tr>\n",
       "      <th>3</th>\n",
       "      <td>FY 2015</td>\n",
       "      <td>56749</td>\n",
       "      <td>17284</td>\n",
       "      <td>12372</td>\n",
       "      <td>27.065100</td>\n",
       "      <td>14.875000</td>\n",
       "      <td>0.549601</td>\n",
       "    </tr>\n",
       "    <tr>\n",
       "      <th>4</th>\n",
       "      <td>FY 2016</td>\n",
       "      <td>65561</td>\n",
       "      <td>18740</td>\n",
       "      <td>13489</td>\n",
       "      <td>29.508608</td>\n",
       "      <td>12.125121</td>\n",
       "      <td>0.410901</td>\n",
       "    </tr>\n",
       "    <tr>\n",
       "      <th>5</th>\n",
       "      <td>FY 2017</td>\n",
       "      <td>71534</td>\n",
       "      <td>19951</td>\n",
       "      <td>14353</td>\n",
       "      <td>31.398391</td>\n",
       "      <td>12.875000</td>\n",
       "      <td>0.410053</td>\n",
       "    </tr>\n",
       "    <tr>\n",
       "      <th>6</th>\n",
       "      <td>FY 2018</td>\n",
       "      <td>73833</td>\n",
       "      <td>20270</td>\n",
       "      <td>16029</td>\n",
       "      <td>35.947784</td>\n",
       "      <td>21.750000</td>\n",
       "      <td>0.605044</td>\n",
       "    </tr>\n",
       "    <tr>\n",
       "      <th>7</th>\n",
       "      <td>FY 2019</td>\n",
       "      <td>85557</td>\n",
       "      <td>21041</td>\n",
       "      <td>15404</td>\n",
       "      <td>35.482545</td>\n",
       "      <td>21.500000</td>\n",
       "      <td>0.605932</td>\n",
       "    </tr>\n",
       "    <tr>\n",
       "      <th>8</th>\n",
       "      <td>FY 2020</td>\n",
       "      <td>93594</td>\n",
       "      <td>22007</td>\n",
       "      <td>16594</td>\n",
       "      <td>38.695501</td>\n",
       "      <td>17.500000</td>\n",
       "      <td>0.452249</td>\n",
       "    </tr>\n",
       "  </tbody>\n",
       "</table>\n",
       "</div>"
      ],
      "text/plain": [
       "    period  revenue    pbt  income        eps        dps  payout_ratio\n",
       "0  FY 2012    35638  11699    8332  18.227345   5.875022      0.322319\n",
       "1  FY 2013    42717  12799    9429  20.627104   5.250039      0.254521\n",
       "2  FY 2014    52797  14728   10656  23.311250   7.875069      0.337823\n",
       "3  FY 2015    56749  17284   12372  27.065100  14.875000      0.549601\n",
       "4  FY 2016    65561  18740   13489  29.508608  12.125121      0.410901\n",
       "5  FY 2017    71534  19951   14353  31.398391  12.875000      0.410053\n",
       "6  FY 2018    73833  20270   16029  35.947784  21.750000      0.605044\n",
       "7  FY 2019    85557  21041   15404  35.482545  21.500000      0.605932\n",
       "8  FY 2020    93594  22007   16594  38.695501  17.500000      0.452249"
      ]
     },
     "execution_count": 48,
     "metadata": {},
     "output_type": "execute_result"
    }
   ],
   "source": [
    "df"
   ]
  }
 ],
 "metadata": {
  "kernelspec": {
   "display_name": "Python 3",
   "language": "python",
   "name": "python3"
  },
  "language_info": {
   "codemirror_mode": {
    "name": "ipython",
    "version": 3
   },
   "file_extension": ".py",
   "mimetype": "text/x-python",
   "name": "python",
   "nbconvert_exporter": "python",
   "pygments_lexer": "ipython3",
   "version": "3.8.5"
  }
 },
 "nbformat": 4,
 "nbformat_minor": 4
}
