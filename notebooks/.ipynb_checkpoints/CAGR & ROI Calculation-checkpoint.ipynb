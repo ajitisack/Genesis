{
 "cells": [
  {
   "cell_type": "code",
   "execution_count": 1,
   "metadata": {},
   "outputs": [],
   "source": [
    "from IPython.core.interactiveshell import InteractiveShell\n",
    "InteractiveShell.ast_node_interactivity = \"all\"\n",
    "\n",
    "import stockdata as sd\n",
    "import pandas as pd\n",
    "import numpy as np"
   ]
  },
  {
   "cell_type": "code",
   "execution_count": 50,
   "metadata": {},
   "outputs": [],
   "source": [
    "sql = '''\n",
    "select * \n",
    "from histprice\n",
    "where 1 = 1\n",
    "and freq in ('d', 'w', 'm')\n",
    "and (symbol like '%ETF%' or symbol like '%100%' or symbol like '%BEES%')\n",
    "'''\n",
    "df = sd.getdata(sql)"
   ]
  },
  {
   "cell_type": "code",
   "execution_count": 299,
   "metadata": {
    "collapsed": true,
    "jupyter": {
     "outputs_hidden": true,
     "source_hidden": true
    }
   },
   "outputs": [
    {
     "data": {
      "text/plain": [
       "(3792, 16)"
      ]
     },
     "execution_count": 299,
     "metadata": {},
     "output_type": "execute_result"
    },
    {
     "data": {
      "text/html": [
       "<div>\n",
       "<style scoped>\n",
       "    .dataframe tbody tr th:only-of-type {\n",
       "        vertical-align: middle;\n",
       "    }\n",
       "\n",
       "    .dataframe tbody tr th {\n",
       "        vertical-align: top;\n",
       "    }\n",
       "\n",
       "    .dataframe thead th {\n",
       "        text-align: right;\n",
       "    }\n",
       "</style>\n",
       "<table border=\"1\" class=\"dataframe\">\n",
       "  <thead>\n",
       "    <tr style=\"text-align: right;\">\n",
       "      <th></th>\n",
       "      <th>freq</th>\n",
       "      <th>date</th>\n",
       "      <th>symbol</th>\n",
       "      <th>open</th>\n",
       "      <th>low</th>\n",
       "      <th>high</th>\n",
       "      <th>close</th>\n",
       "      <th>adjclose</th>\n",
       "      <th>volume</th>\n",
       "      <th>year</th>\n",
       "      <th>month</th>\n",
       "      <th>day</th>\n",
       "      <th>wkday</th>\n",
       "      <th>wknr</th>\n",
       "      <th>qrtr</th>\n",
       "      <th>runts</th>\n",
       "    </tr>\n",
       "  </thead>\n",
       "  <tbody>\n",
       "    <tr>\n",
       "      <th>0</th>\n",
       "      <td>w</td>\n",
       "      <td>2008-12-29</td>\n",
       "      <td>NIFTYBEES</td>\n",
       "      <td>29.90</td>\n",
       "      <td>29.76</td>\n",
       "      <td>31.37</td>\n",
       "      <td>31.17</td>\n",
       "      <td>31.17</td>\n",
       "      <td>4656630</td>\n",
       "      <td>2008</td>\n",
       "      <td>12</td>\n",
       "      <td>29</td>\n",
       "      <td>1</td>\n",
       "      <td>1</td>\n",
       "      <td>4</td>\n",
       "      <td>Tue Feb-23-2021 11:00</td>\n",
       "    </tr>\n",
       "    <tr>\n",
       "      <th>1</th>\n",
       "      <td>w</td>\n",
       "      <td>2009-01-05</td>\n",
       "      <td>NIFTYBEES</td>\n",
       "      <td>31.10</td>\n",
       "      <td>27.56</td>\n",
       "      <td>31.50</td>\n",
       "      <td>27.73</td>\n",
       "      <td>27.73</td>\n",
       "      <td>10809220</td>\n",
       "      <td>2009</td>\n",
       "      <td>1</td>\n",
       "      <td>5</td>\n",
       "      <td>1</td>\n",
       "      <td>2</td>\n",
       "      <td>1</td>\n",
       "      <td>Tue Feb-23-2021 11:00</td>\n",
       "    </tr>\n",
       "    <tr>\n",
       "      <th>2</th>\n",
       "      <td>w</td>\n",
       "      <td>2009-01-12</td>\n",
       "      <td>NIFTYBEES</td>\n",
       "      <td>27.70</td>\n",
       "      <td>27.30</td>\n",
       "      <td>28.80</td>\n",
       "      <td>28.45</td>\n",
       "      <td>28.45</td>\n",
       "      <td>5327900</td>\n",
       "      <td>2009</td>\n",
       "      <td>1</td>\n",
       "      <td>12</td>\n",
       "      <td>1</td>\n",
       "      <td>3</td>\n",
       "      <td>1</td>\n",
       "      <td>Tue Feb-23-2021 11:00</td>\n",
       "    </tr>\n",
       "    <tr>\n",
       "      <th>3</th>\n",
       "      <td>w</td>\n",
       "      <td>2009-01-19</td>\n",
       "      <td>NIFTYBEES</td>\n",
       "      <td>28.39</td>\n",
       "      <td>27.04</td>\n",
       "      <td>28.55</td>\n",
       "      <td>27.21</td>\n",
       "      <td>27.21</td>\n",
       "      <td>3815280</td>\n",
       "      <td>2009</td>\n",
       "      <td>1</td>\n",
       "      <td>19</td>\n",
       "      <td>1</td>\n",
       "      <td>4</td>\n",
       "      <td>1</td>\n",
       "      <td>Tue Feb-23-2021 11:00</td>\n",
       "    </tr>\n",
       "    <tr>\n",
       "      <th>4</th>\n",
       "      <td>w</td>\n",
       "      <td>2009-01-26</td>\n",
       "      <td>NIFTYBEES</td>\n",
       "      <td>27.30</td>\n",
       "      <td>27.25</td>\n",
       "      <td>29.10</td>\n",
       "      <td>28.17</td>\n",
       "      <td>28.17</td>\n",
       "      <td>4828900</td>\n",
       "      <td>2009</td>\n",
       "      <td>1</td>\n",
       "      <td>26</td>\n",
       "      <td>1</td>\n",
       "      <td>5</td>\n",
       "      <td>1</td>\n",
       "      <td>Tue Feb-23-2021 11:00</td>\n",
       "    </tr>\n",
       "  </tbody>\n",
       "</table>\n",
       "</div>"
      ],
      "text/plain": [
       "  freq        date     symbol   open    low   high  close  adjclose    volume  \\\n",
       "0    w  2008-12-29  NIFTYBEES  29.90  29.76  31.37  31.17     31.17   4656630   \n",
       "1    w  2009-01-05  NIFTYBEES  31.10  27.56  31.50  27.73     27.73  10809220   \n",
       "2    w  2009-01-12  NIFTYBEES  27.70  27.30  28.80  28.45     28.45   5327900   \n",
       "3    w  2009-01-19  NIFTYBEES  28.39  27.04  28.55  27.21     27.21   3815280   \n",
       "4    w  2009-01-26  NIFTYBEES  27.30  27.25  29.10  28.17     28.17   4828900   \n",
       "\n",
       "   year  month  day  wkday  wknr  qrtr                  runts  \n",
       "0  2008     12   29      1     1     4  Tue Feb-23-2021 11:00  \n",
       "1  2009      1    5      1     2     1  Tue Feb-23-2021 11:00  \n",
       "2  2009      1   12      1     3     1  Tue Feb-23-2021 11:00  \n",
       "3  2009      1   19      1     4     1  Tue Feb-23-2021 11:00  \n",
       "4  2009      1   26      1     5     1  Tue Feb-23-2021 11:00  "
      ]
     },
     "execution_count": 299,
     "metadata": {},
     "output_type": "execute_result"
    },
    {
     "data": {
      "text/plain": [
       "symbol     freq\n",
       "NIFTYBEES  w       635\n",
       "           m       147\n",
       "dtype: int64"
      ]
     },
     "execution_count": 299,
     "metadata": {},
     "output_type": "execute_result"
    },
    {
     "data": {
      "text/plain": [
       "symbol    freq\n",
       "BANKBEES  w       635\n",
       "          m       147\n",
       "dtype: int64"
      ]
     },
     "execution_count": 299,
     "metadata": {},
     "output_type": "execute_result"
    },
    {
     "data": {
      "text/plain": [
       "symbol      freq\n",
       "JUNIORBEES  w       635\n",
       "            m       147\n",
       "dtype: int64"
      ]
     },
     "execution_count": 299,
     "metadata": {},
     "output_type": "execute_result"
    },
    {
     "data": {
      "text/plain": [
       "symbol    freq\n",
       "GOLDBEES  w       635\n",
       "          m       147\n",
       "dtype: int64"
      ]
     },
     "execution_count": 299,
     "metadata": {},
     "output_type": "execute_result"
    },
    {
     "data": {
      "text/plain": [
       "symbol  freq\n",
       "NETFIT  w       23\n",
       "        m        6\n",
       "dtype: int64"
      ]
     },
     "execution_count": 299,
     "metadata": {},
     "output_type": "execute_result"
    },
    {
     "data": {
      "text/plain": [
       "symbol  freq\n",
       "N100    w       516\n",
       "        m       119\n",
       "dtype: int64"
      ]
     },
     "execution_count": 299,
     "metadata": {},
     "output_type": "execute_result"
    },
    {
     "data": {
      "text/plain": [
       "['w', 'm']"
      ]
     },
     "execution_count": 299,
     "metadata": {},
     "output_type": "execute_result"
    },
    {
     "data": {
      "text/plain": [
       "['NIFTYBEES', 'BANKBEES', 'GOLDBEES', 'NETFIT', 'N100', 'JUNIORBEES']"
      ]
     },
     "execution_count": 299,
     "metadata": {},
     "output_type": "execute_result"
    }
   ],
   "source": [
    "df.shape\n",
    "df.head()\n",
    "df[df.symbol == 'NIFTYBEES'][['symbol', 'freq']].value_counts()\n",
    "df[df.symbol == 'BANKBEES'][['symbol', 'freq']].value_counts()\n",
    "df[df.symbol == 'JUNIORBEES'][['symbol', 'freq']].value_counts()\n",
    "df[df.symbol == 'GOLDBEES'][['symbol', 'freq']].value_counts()\n",
    "df[df.symbol == 'NETFIT'][['symbol', 'freq']].value_counts()\n",
    "df[df.symbol == 'N100'][['symbol', 'freq']].value_counts()\n",
    "freq    = list(df.freq.unique())\n",
    "symbols = list(df.symbol.unique())\n",
    "freq\n",
    "symbols"
   ]
  },
  {
   "cell_type": "markdown",
   "metadata": {},
   "source": [
    "**CAGR Calculation**"
   ]
  },
  {
   "cell_type": "code",
   "execution_count": 66,
   "metadata": {},
   "outputs": [],
   "source": [
    "def CalculateCAGR(start, end, periods):\n",
    "    return np.round((((end/start)**(1/periods)) - 1)*100, 2)\n",
    "\n",
    "def CAGR(df, symbol, startyr, endyr):\n",
    "    df = df[(df.symbol == symbol) & (df.freq == 'd') & (df.year >= startyr) & (df.year <= endyr)]\n",
    "    start_price = df.open.iloc[0]\n",
    "    final_price = df.close.iloc[-1]\n",
    "    periods = endyr - startyr + 1\n",
    "    cagr = CalculateCAGR(start_price, final_price, periods)\n",
    "    return cagr"
   ]
  },
  {
   "cell_type": "code",
   "execution_count": 67,
   "metadata": {},
   "outputs": [
    {
     "data": {
      "text/plain": [
       "13.2"
      ]
     },
     "execution_count": 67,
     "metadata": {},
     "output_type": "execute_result"
    }
   ],
   "source": [
    "CAGR(df, 'NIFTYBEES', 2016, 2020)"
   ]
  },
  {
   "cell_type": "code",
   "execution_count": 73,
   "metadata": {},
   "outputs": [
    {
     "data": {
      "text/html": [
       "<div>\n",
       "<style scoped>\n",
       "    .dataframe tbody tr th:only-of-type {\n",
       "        vertical-align: middle;\n",
       "    }\n",
       "\n",
       "    .dataframe tbody tr th {\n",
       "        vertical-align: top;\n",
       "    }\n",
       "\n",
       "    .dataframe thead th {\n",
       "        text-align: right;\n",
       "    }\n",
       "</style>\n",
       "<table border=\"1\" class=\"dataframe\">\n",
       "  <thead>\n",
       "    <tr style=\"text-align: right;\">\n",
       "      <th></th>\n",
       "      <th>symbol</th>\n",
       "      <th>open</th>\n",
       "      <th>close</th>\n",
       "      <th>CAGR</th>\n",
       "    </tr>\n",
       "  </thead>\n",
       "  <tbody>\n",
       "    <tr>\n",
       "      <th>0</th>\n",
       "      <td>BANKBEES</td>\n",
       "      <td>170.20</td>\n",
       "      <td>313.54</td>\n",
       "      <td>13.00</td>\n",
       "    </tr>\n",
       "    <tr>\n",
       "      <th>1</th>\n",
       "      <td>GOLDBEES</td>\n",
       "      <td>22.85</td>\n",
       "      <td>43.75</td>\n",
       "      <td>13.87</td>\n",
       "    </tr>\n",
       "    <tr>\n",
       "      <th>2</th>\n",
       "      <td>JUNIORBEES</td>\n",
       "      <td>201.00</td>\n",
       "      <td>340.27</td>\n",
       "      <td>11.10</td>\n",
       "    </tr>\n",
       "    <tr>\n",
       "      <th>3</th>\n",
       "      <td>N100</td>\n",
       "      <td>305.99</td>\n",
       "      <td>926.68</td>\n",
       "      <td>24.81</td>\n",
       "    </tr>\n",
       "    <tr>\n",
       "      <th>4</th>\n",
       "      <td>NETFIT</td>\n",
       "      <td>20.98</td>\n",
       "      <td>24.54</td>\n",
       "      <td>3.18</td>\n",
       "    </tr>\n",
       "    <tr>\n",
       "      <th>5</th>\n",
       "      <td>NIFTYBEES</td>\n",
       "      <td>80.20</td>\n",
       "      <td>149.07</td>\n",
       "      <td>13.20</td>\n",
       "    </tr>\n",
       "  </tbody>\n",
       "</table>\n",
       "</div>"
      ],
      "text/plain": [
       "       symbol    open   close   CAGR\n",
       "0    BANKBEES  170.20  313.54  13.00\n",
       "1    GOLDBEES   22.85   43.75  13.87\n",
       "2  JUNIORBEES  201.00  340.27  11.10\n",
       "3        N100  305.99  926.68  24.81\n",
       "4      NETFIT   20.98   24.54   3.18\n",
       "5   NIFTYBEES   80.20  149.07  13.20"
      ]
     },
     "execution_count": 73,
     "metadata": {},
     "output_type": "execute_result"
    }
   ],
   "source": [
    "freq    = 'd'\n",
    "startyr = 2016\n",
    "endyr   = 2020\n",
    "period  = 5\n",
    "df1 = df[(df.freq == freq) & (df.year >= startyr) & (df.year <= endyr)]\n",
    "df1 = df1.groupby('symbol').agg({'open' : 'first', 'close' : 'last'}).reset_index()\n",
    "df1['CAGR'] = df1.apply(lambda x: CalculateCAGR(x['open'], x['close'], period), axis = 1)\n",
    "df1"
   ]
  },
  {
   "cell_type": "code",
   "execution_count": 69,
   "metadata": {},
   "outputs": [
    {
     "data": {
      "text/html": [
       "<div>\n",
       "<style scoped>\n",
       "    .dataframe tbody tr th:only-of-type {\n",
       "        vertical-align: middle;\n",
       "    }\n",
       "\n",
       "    .dataframe tbody tr th {\n",
       "        vertical-align: top;\n",
       "    }\n",
       "\n",
       "    .dataframe thead th {\n",
       "        text-align: right;\n",
       "    }\n",
       "</style>\n",
       "<table border=\"1\" class=\"dataframe\">\n",
       "  <thead>\n",
       "    <tr style=\"text-align: right;\">\n",
       "      <th></th>\n",
       "      <th>symbols</th>\n",
       "      <th>cagr_5y</th>\n",
       "      <th>cagr_10y</th>\n",
       "    </tr>\n",
       "  </thead>\n",
       "  <tbody>\n",
       "    <tr>\n",
       "      <th>0</th>\n",
       "      <td>NIFTYBEES</td>\n",
       "      <td>13.20</td>\n",
       "      <td>9.15</td>\n",
       "    </tr>\n",
       "    <tr>\n",
       "      <th>1</th>\n",
       "      <td>BANKBEES</td>\n",
       "      <td>13.00</td>\n",
       "      <td>10.10</td>\n",
       "    </tr>\n",
       "    <tr>\n",
       "      <th>2</th>\n",
       "      <td>JUNIORBEES</td>\n",
       "      <td>11.10</td>\n",
       "      <td>10.71</td>\n",
       "    </tr>\n",
       "    <tr>\n",
       "      <th>3</th>\n",
       "      <td>GOLDBEES</td>\n",
       "      <td>13.87</td>\n",
       "      <td>8.04</td>\n",
       "    </tr>\n",
       "    <tr>\n",
       "      <th>4</th>\n",
       "      <td>NETFIT</td>\n",
       "      <td>3.18</td>\n",
       "      <td>1.58</td>\n",
       "    </tr>\n",
       "    <tr>\n",
       "      <th>5</th>\n",
       "      <td>N100</td>\n",
       "      <td>24.81</td>\n",
       "      <td>24.33</td>\n",
       "    </tr>\n",
       "  </tbody>\n",
       "</table>\n",
       "</div>"
      ],
      "text/plain": [
       "      symbols  cagr_5y  cagr_10y\n",
       "0   NIFTYBEES    13.20      9.15\n",
       "1    BANKBEES    13.00     10.10\n",
       "2  JUNIORBEES    11.10     10.71\n",
       "3    GOLDBEES    13.87      8.04\n",
       "4      NETFIT     3.18      1.58\n",
       "5        N100    24.81     24.33"
      ]
     },
     "execution_count": 69,
     "metadata": {},
     "output_type": "execute_result"
    }
   ],
   "source": [
    "symbols = ['NIFTYBEES', 'BANKBEES', 'JUNIORBEES', 'GOLDBEES', 'NETFIT', 'N100']\n",
    "cagr_5y  = [CAGR(df, s, 2016, 2020) for s in symbols]\n",
    "cagr_10y = [CAGR(df, s, 2011, 2020) for s in symbols]\n",
    "x = pd.DataFrame({'symbols':symbols, 'cagr_5y':cagr_5y, 'cagr_10y':cagr_10y})\n",
    "x\n",
    "# x.to_csv('ETS_CAGR.csv')"
   ]
  },
  {
   "cell_type": "markdown",
   "metadata": {},
   "source": [
    "**ROI Calculation**"
   ]
  },
  {
   "cell_type": "code",
   "execution_count": 9,
   "metadata": {},
   "outputs": [
    {
     "data": {
      "text/html": [
       "<div>\n",
       "<style scoped>\n",
       "    .dataframe tbody tr th:only-of-type {\n",
       "        vertical-align: middle;\n",
       "    }\n",
       "\n",
       "    .dataframe tbody tr th {\n",
       "        vertical-align: top;\n",
       "    }\n",
       "\n",
       "    .dataframe thead th {\n",
       "        text-align: right;\n",
       "    }\n",
       "</style>\n",
       "<table border=\"1\" class=\"dataframe\">\n",
       "  <thead>\n",
       "    <tr style=\"text-align: right;\">\n",
       "      <th></th>\n",
       "      <th>freq</th>\n",
       "      <th>date</th>\n",
       "      <th>symbol</th>\n",
       "      <th>open</th>\n",
       "      <th>low</th>\n",
       "      <th>high</th>\n",
       "      <th>close</th>\n",
       "      <th>adjclose</th>\n",
       "      <th>volume</th>\n",
       "      <th>year</th>\n",
       "      <th>month</th>\n",
       "      <th>day</th>\n",
       "      <th>wkday</th>\n",
       "      <th>wknr</th>\n",
       "      <th>qrtr</th>\n",
       "      <th>runts</th>\n",
       "    </tr>\n",
       "  </thead>\n",
       "  <tbody>\n",
       "    <tr>\n",
       "      <th>0</th>\n",
       "      <td>w</td>\n",
       "      <td>2008-12-29</td>\n",
       "      <td>NIFTYBEES</td>\n",
       "      <td>29.90</td>\n",
       "      <td>29.76</td>\n",
       "      <td>31.37</td>\n",
       "      <td>31.17</td>\n",
       "      <td>31.17</td>\n",
       "      <td>4656630</td>\n",
       "      <td>2008</td>\n",
       "      <td>12</td>\n",
       "      <td>29</td>\n",
       "      <td>1</td>\n",
       "      <td>1</td>\n",
       "      <td>4</td>\n",
       "      <td>Tue Feb-23-2021 11:00</td>\n",
       "    </tr>\n",
       "    <tr>\n",
       "      <th>1</th>\n",
       "      <td>w</td>\n",
       "      <td>2009-01-05</td>\n",
       "      <td>NIFTYBEES</td>\n",
       "      <td>31.10</td>\n",
       "      <td>27.56</td>\n",
       "      <td>31.50</td>\n",
       "      <td>27.73</td>\n",
       "      <td>27.73</td>\n",
       "      <td>10809220</td>\n",
       "      <td>2009</td>\n",
       "      <td>1</td>\n",
       "      <td>5</td>\n",
       "      <td>1</td>\n",
       "      <td>2</td>\n",
       "      <td>1</td>\n",
       "      <td>Tue Feb-23-2021 11:00</td>\n",
       "    </tr>\n",
       "    <tr>\n",
       "      <th>2</th>\n",
       "      <td>w</td>\n",
       "      <td>2009-01-12</td>\n",
       "      <td>NIFTYBEES</td>\n",
       "      <td>27.70</td>\n",
       "      <td>27.30</td>\n",
       "      <td>28.80</td>\n",
       "      <td>28.45</td>\n",
       "      <td>28.45</td>\n",
       "      <td>5327900</td>\n",
       "      <td>2009</td>\n",
       "      <td>1</td>\n",
       "      <td>12</td>\n",
       "      <td>1</td>\n",
       "      <td>3</td>\n",
       "      <td>1</td>\n",
       "      <td>Tue Feb-23-2021 11:00</td>\n",
       "    </tr>\n",
       "    <tr>\n",
       "      <th>3</th>\n",
       "      <td>w</td>\n",
       "      <td>2009-01-19</td>\n",
       "      <td>NIFTYBEES</td>\n",
       "      <td>28.39</td>\n",
       "      <td>27.04</td>\n",
       "      <td>28.55</td>\n",
       "      <td>27.21</td>\n",
       "      <td>27.21</td>\n",
       "      <td>3815280</td>\n",
       "      <td>2009</td>\n",
       "      <td>1</td>\n",
       "      <td>19</td>\n",
       "      <td>1</td>\n",
       "      <td>4</td>\n",
       "      <td>1</td>\n",
       "      <td>Tue Feb-23-2021 11:00</td>\n",
       "    </tr>\n",
       "    <tr>\n",
       "      <th>4</th>\n",
       "      <td>w</td>\n",
       "      <td>2009-01-26</td>\n",
       "      <td>NIFTYBEES</td>\n",
       "      <td>27.30</td>\n",
       "      <td>27.25</td>\n",
       "      <td>29.10</td>\n",
       "      <td>28.17</td>\n",
       "      <td>28.17</td>\n",
       "      <td>4828900</td>\n",
       "      <td>2009</td>\n",
       "      <td>1</td>\n",
       "      <td>26</td>\n",
       "      <td>1</td>\n",
       "      <td>5</td>\n",
       "      <td>1</td>\n",
       "      <td>Tue Feb-23-2021 11:00</td>\n",
       "    </tr>\n",
       "  </tbody>\n",
       "</table>\n",
       "</div>"
      ],
      "text/plain": [
       "  freq        date     symbol   open    low   high  close  adjclose    volume  \\\n",
       "0    w  2008-12-29  NIFTYBEES  29.90  29.76  31.37  31.17     31.17   4656630   \n",
       "1    w  2009-01-05  NIFTYBEES  31.10  27.56  31.50  27.73     27.73  10809220   \n",
       "2    w  2009-01-12  NIFTYBEES  27.70  27.30  28.80  28.45     28.45   5327900   \n",
       "3    w  2009-01-19  NIFTYBEES  28.39  27.04  28.55  27.21     27.21   3815280   \n",
       "4    w  2009-01-26  NIFTYBEES  27.30  27.25  29.10  28.17     28.17   4828900   \n",
       "\n",
       "   year  month  day  wkday  wknr  qrtr                  runts  \n",
       "0  2008     12   29      1     1     4  Tue Feb-23-2021 11:00  \n",
       "1  2009      1    5      1     2     1  Tue Feb-23-2021 11:00  \n",
       "2  2009      1   12      1     3     1  Tue Feb-23-2021 11:00  \n",
       "3  2009      1   19      1     4     1  Tue Feb-23-2021 11:00  \n",
       "4  2009      1   26      1     5     1  Tue Feb-23-2021 11:00  "
      ]
     },
     "execution_count": 9,
     "metadata": {},
     "output_type": "execute_result"
    }
   ],
   "source": [
    "df.head()"
   ]
  },
  {
   "cell_type": "code",
   "execution_count": 474,
   "metadata": {},
   "outputs": [],
   "source": [
    "def calculateROI(df, freq, startyr, endyr):\n",
    "    df= df[(df.freq == freq) & (df.year >= startyr) & (df.year <= endyr)]\n",
    "    x = df.groupby('symbol').agg({'close' : ['max', 'mean', 'count']})\n",
    "    y = df.groupby('symbol').agg({'year' : ['min' , 'max']})\n",
    "    z = pd.merge(x, y, on=\"symbol\").reset_index()\n",
    "    period = endyr - startyr + 1\n",
    "    z.columns = ['symbol', 'ltp', 'avg price', 'qty', 'from', 'to']\n",
    "    z['period'] = z.apply(lambda x: f\"{x['from']}-{x['to']}\", axis = 1)\n",
    "    z.drop(['from', 'to'], axis = 1, inplace = True)\n",
    "    z['invested'] = z.apply(lambda x: x['avg price'] * x['qty'], axis = 1)\n",
    "    z[f'{period}y_{freq}_roi']  = z.apply(lambda x: x['ltp'] * x['qty'], axis = 1)\n",
    "    z[f'{period}y_{freq}_roi%'] = z.apply(lambda x: (x[f'{period}y_{freq}_roi']/x['invested']), axis = 1)\n",
    "    return z"
   ]
  },
  {
   "cell_type": "code",
   "execution_count": 475,
   "metadata": {},
   "outputs": [],
   "source": [
    "wroi_1y  = calculateROI(df, 'w', 2020, 2020)\n",
    "wroi_2y  = calculateROI(df, 'w', 2019, 2020)\n",
    "wroi_3y  = calculateROI(df, 'w', 2018, 2020)\n",
    "wroi_5y  = calculateROI(df, 'w', 2016, 2020)\n",
    "wroi_10y = calculateROI(df, 'w', 2011, 2020)\n",
    "mroi_1y  = calculateROI(df, 'm', 2020, 2020)\n",
    "mroi_2y  = calculateROI(df, 'm', 2019, 2020)\n",
    "mroi_3y  = calculateROI(df, 'm', 2018, 2020)\n",
    "mroi_5y  = calculateROI(df, 'm', 2016, 2020)\n",
    "mroi_10y = calculateROI(df, 'm', 2011, 2020)\n",
    "x = pd.concat([wroi_1y, wroi_2y, wroi_3y, wroi_5y, wroi_10y, mroi_1y, mroi_2y, mroi_3y, mroi_5y, mroi_10y], ignore_index=True)"
   ]
  },
  {
   "cell_type": "code",
   "execution_count": 477,
   "metadata": {},
   "outputs": [],
   "source": [
    "x.to_csv('roi.csv')"
   ]
  }
 ],
 "metadata": {
  "kernelspec": {
   "display_name": "Python 3",
   "language": "python",
   "name": "python3"
  },
  "language_info": {
   "codemirror_mode": {
    "name": "ipython",
    "version": 3
   },
   "file_extension": ".py",
   "mimetype": "text/x-python",
   "name": "python",
   "nbconvert_exporter": "python",
   "pygments_lexer": "ipython3",
   "version": "3.8.5"
  }
 },
 "nbformat": 4,
 "nbformat_minor": 4
}
