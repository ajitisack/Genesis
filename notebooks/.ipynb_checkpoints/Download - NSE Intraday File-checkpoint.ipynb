{
 "cells": [
  {
   "cell_type": "markdown",
   "metadata": {},
   "source": [
    "### **Download NSE Intraday Files**"
   ]
  },
  {
   "cell_type": "code",
   "execution_count": 1,
   "metadata": {},
   "outputs": [],
   "source": [
    "from IPython.core.interactiveshell import InteractiveShell\n",
    "InteractiveShell.ast_node_interactivity = \"all\"\n",
    "\n",
    "import nsedata as nse\n",
    "import pandas as pd"
   ]
  },
  {
   "cell_type": "markdown",
   "metadata": {},
   "source": [
    "**Download NSE symbols**"
   ]
  },
  {
   "cell_type": "code",
   "execution_count": 2,
   "metadata": {},
   "outputs": [
    {
     "name": "stdout",
     "output_type": "stream",
     "text": [
      "Fetching list of all NSE Equities...Completed\n",
      "Refreshing table [EquitySymbols] with 1720 records...Completed\n",
      "Finished [download] in 1.2352 secs\n"
     ]
    }
   ],
   "source": [
    "nse.downloadsymbols()"
   ]
  },
  {
   "cell_type": "markdown",
   "metadata": {},
   "source": [
    "**Download intraday file**"
   ]
  },
  {
   "cell_type": "code",
   "execution_count": null,
   "metadata": {},
   "outputs": [
    {
     "name": "stdout",
     "output_type": "stream",
     "text": [
      "Downloading equity intraday prices from yahoo finance for 2021-05-17 NSE FNO & Nifty 100 166 symbols..."
     ]
    }
   ],
   "source": [
    "nse.downloadequityintraday('2021-05-17')"
   ]
  },
  {
   "cell_type": "code",
   "execution_count": null,
   "metadata": {},
   "outputs": [],
   "source": [
    "def checkvaluecounts(dt):\n",
    "    df = pd.read_csv(f\"/Users/ajit/Projects/nsedata/data/Intraday/NSE_{dt.replace('-', '')}.zip\")\n",
    "    print(df.shape)\n",
    "    print(df[(df.symbol.isin(['NSEI', 'NSEBANK']))][['freq', 'symbol']].value_counts())\n",
    "\n",
    "# checkvaluecounts('2021-05-10')\n",
    "# checkvaluecounts('2021-05-11')\n",
    "# checkvaluecounts('2021-05-12')\n",
    "checkvaluecounts('2021-05-17')"
   ]
  },
  {
   "cell_type": "markdown",
   "metadata": {},
   "source": [
    "**Combine daily files into single file for a month**"
   ]
  },
  {
   "cell_type": "code",
   "execution_count": null,
   "metadata": {},
   "outputs": [],
   "source": [
    "nse.createequityintradaymonthlyfile('2021-04')"
   ]
  }
 ],
 "metadata": {
  "kernelspec": {
   "display_name": "Python 3",
   "language": "python",
   "name": "python3"
  },
  "language_info": {
   "codemirror_mode": {
    "name": "ipython",
    "version": 3
   },
   "file_extension": ".py",
   "mimetype": "text/x-python",
   "name": "python",
   "nbconvert_exporter": "python",
   "pygments_lexer": "ipython3",
   "version": "3.8.5"
  }
 },
 "nbformat": 4,
 "nbformat_minor": 4
}
