{
 "cells": [
  {
   "cell_type": "markdown",
   "metadata": {},
   "source": [
    "### **NSE Stockdata Downloader**"
   ]
  },
  {
   "cell_type": "code",
   "execution_count": 1,
   "metadata": {},
   "outputs": [],
   "source": [
    "from IPython.core.interactiveshell import InteractiveShell\n",
    "InteractiveShell.ast_node_interactivity = \"all\"\n",
    "\n",
    "import stockdata as sd"
   ]
  },
  {
   "cell_type": "markdown",
   "metadata": {},
   "source": [
    "**Download Symbols, Histprice & Calculate technicals**\n",
    "- NSE symbols\n",
    "- Indices and Symbols in each Index\n",
    "- Historical price & Events (Splits & Dividend) of FNO Symbols"
   ]
  },
  {
   "cell_type": "code",
   "execution_count": null,
   "metadata": {},
   "outputs": [],
   "source": [
    "print(\"************************************************************************\")\n",
    "sd.downloadsymbols()\n",
    "print(\"------------------------------------------------------------------------\")\n",
    "sd.downloadnseindices()\n",
    "print(\"------------------------------------------------------------------------\")\n",
    "sd.downloadnsehistdata(startdt='2020-08-01')\n",
    "print(\"------------------------------------------------------------------------\")\n",
    "sd.loadtechnicals()\n",
    "print(\"************************************************************************\")"
   ]
  },
  {
   "cell_type": "markdown",
   "metadata": {},
   "source": [
    "**Download details from YahooFinance & MoneyControl**"
   ]
  },
  {
   "cell_type": "code",
   "execution_count": null,
   "metadata": {},
   "outputs": [
    {
     "name": "stdout",
     "output_type": "stream",
     "text": [
      "Downloading details of 1629 NSE symbols from Money Control..."
     ]
    }
   ],
   "source": [
    "# sd.downloadnsesymboldetailsyf()\n",
    "sd.downloadnsesymboldetailsmc()"
   ]
  }
 ],
 "metadata": {
  "kernelspec": {
   "display_name": "Python 3",
   "language": "python",
   "name": "python3"
  },
  "language_info": {
   "codemirror_mode": {
    "name": "ipython",
    "version": 3
   },
   "file_extension": ".py",
   "mimetype": "text/x-python",
   "name": "python",
   "nbconvert_exporter": "python",
   "pygments_lexer": "ipython3",
   "version": "3.8.3"
  }
 },
 "nbformat": 4,
 "nbformat_minor": 4
}
