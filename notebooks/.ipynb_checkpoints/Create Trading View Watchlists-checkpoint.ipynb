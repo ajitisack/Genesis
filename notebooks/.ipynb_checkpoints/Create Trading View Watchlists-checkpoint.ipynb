{
 "cells": [
  {
   "cell_type": "code",
   "execution_count": 62,
   "metadata": {},
   "outputs": [],
   "source": [
    "import stockdata as sd\n",
    "import pandas as pd"
   ]
  },
  {
   "cell_type": "code",
   "execution_count": 57,
   "metadata": {},
   "outputs": [],
   "source": [
    "def createwatchlist(name):\n",
    "    outfile = f'{name}.txt'\n",
    "    query = f\"\"\"\n",
    "    select 'NSE:' || symbol as symbol\n",
    "    from nseeq_indices\n",
    "    where 1 = 1\n",
    "    and indexname = '{name}'\n",
    "    \"\"\"\n",
    "    df = sd.getdata(query)\n",
    "    str = ','.join(df.symbol)\n",
    "    str = str.replace('&', '_').replace('-', '_')\n",
    "    with open(outfile, \"w\") as f:\n",
    "        f.write(str)\n",
    "    print(f'Created watch list for {name}')"
   ]
  },
  {
   "cell_type": "code",
   "execution_count": 60,
   "metadata": {},
   "outputs": [],
   "source": [
    "def CreateTradingViewWatchLists():\n",
    "    query = \"\"\"select distinct indexname\n",
    "    from nseeq_indices\n",
    "    where 1 = 1\n",
    "    and (indextype = 'Sector' \n",
    "        or indexname in ('Nifty Energy', 'Nifty Infrastructure', 'Nifty Commodities'))\"\"\"\n",
    "    df = sd.getdata(query)\n",
    "    indices_list = df.indexname.to_list()\n",
    "    list(map(createwatchlist, indices_list))\n",
    "    createwatchlist('Nifty 50')\n",
    "    createwatchlist('Nifty 100')"
   ]
  },
  {
   "cell_type": "code",
   "execution_count": 61,
   "metadata": {},
   "outputs": [
    {
     "name": "stdout",
     "output_type": "stream",
     "text": [
      "Created watch list for Nifty Auto\n",
      "Created watch list for Nifty Bank\n",
      "Created watch list for Nifty Consumer Durables\n",
      "Created watch list for Nifty Financial Services\n",
      "Created watch list for Nifty FMCG\n",
      "Created watch list for Nifty IT\n",
      "Created watch list for Nifty Media\n",
      "Created watch list for Nifty Metal\n",
      "Created watch list for Nifty Oil & Gas\n",
      "Created watch list for Nifty Pharma\n",
      "Created watch list for Nifty Private Bank\n",
      "Created watch list for Nifty PSU Bank\n",
      "Created watch list for Nifty Commodities\n",
      "Created watch list for Nifty Energy\n",
      "Created watch list for Nifty Infrastructure\n",
      "Created watch list for Nifty 50\n",
      "Created watch list for Nifty 100\n"
     ]
    }
   ],
   "source": [
    "CreateTradingViewWatchLists()"
   ]
  },
  {
   "cell_type": "code",
   "execution_count": 96,
   "metadata": {},
   "outputs": [],
   "source": [
    "df = pd.read_excel('../excel/NSE_FNO_Symbols.xlsx', sheet_name='NSE_FNO_Symbols')"
   ]
  },
  {
   "cell_type": "code",
   "execution_count": 97,
   "metadata": {},
   "outputs": [
    {
     "data": {
      "text/plain": [
       "['BAJAJ-AUTO',\n",
       " 'HEROMOTOCO',\n",
       " 'TVSMOTOR',\n",
       " 'TATAMOTORS',\n",
       " 'EICHERMOT',\n",
       " 'M&M',\n",
       " 'MARUTI',\n",
       " 'ASHOKLEY',\n",
       " 'ESCORTS']"
      ]
     },
     "execution_count": 97,
     "metadata": {},
     "output_type": "execute_result"
    }
   ],
   "source": [
    "df[df.sector=='Auto'].symbol.to_list()"
   ]
  },
  {
   "cell_type": "code",
   "execution_count": 98,
   "metadata": {},
   "outputs": [],
   "source": [
    "sectors = df.groupby('sector')"
   ]
  },
  {
   "cell_type": "code",
   "execution_count": 111,
   "metadata": {},
   "outputs": [
    {
     "name": "stdout",
     "output_type": "stream",
     "text": [
      "Created watch list for FNO_Auto\n",
      "Created watch list for FNO_Auto Ancillaries\n",
      "Created watch list for FNO_Banks\n",
      "Created watch list for FNO_Cement\n",
      "Created watch list for FNO_Chemicals\n",
      "Created watch list for FNO_Consumer Durables\n",
      "Created watch list for FNO_FMCG\n",
      "Created watch list for FNO_Financial Services\n",
      "Created watch list for FNO_IT\n",
      "Created watch list for FNO_Infra\n",
      "Created watch list for FNO_Life Insurance\n",
      "Created watch list for FNO_Media\n",
      "Created watch list for FNO_Metal\n",
      "Created watch list for FNO_Oil & Gas\n",
      "Created watch list for FNO_Pharma\n",
      "Created watch list for FNO_Power\n",
      "Created watch list for FNO_Telecom\n",
      "Created watch list for FNO_Transportation\n"
     ]
    }
   ],
   "source": [
    "for name, sector in sectors:\n",
    "    symbols = sector.symbol.to_list()\n",
    "    symbols = map(lambda x: 'NSE:'+x, symbols)\n",
    "    str = ','.join(symbols)\n",
    "    str = str.replace('&', '_').replace('-', '_')\n",
    "    outfile = f'FNO_{name}.txt'\n",
    "    with open(outfile, \"w\") as f:\n",
    "        f.write(str)\n",
    "    print(f'Created watch list for {outfile}')"
   ]
  }
 ],
 "metadata": {
  "kernelspec": {
   "display_name": "Python 3",
   "language": "python",
   "name": "python3"
  },
  "language_info": {
   "codemirror_mode": {
    "name": "ipython",
    "version": 3
   },
   "file_extension": ".py",
   "mimetype": "text/x-python",
   "name": "python",
   "nbconvert_exporter": "python",
   "pygments_lexer": "ipython3",
   "version": "3.8.3"
  }
 },
 "nbformat": 4,
 "nbformat_minor": 4
}
