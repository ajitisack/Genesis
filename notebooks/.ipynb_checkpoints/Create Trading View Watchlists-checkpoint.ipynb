{
 "cells": [
  {
   "cell_type": "code",
   "execution_count": 1,
   "metadata": {},
   "outputs": [],
   "source": [
    "import stockdata as sd\n",
    "import pandas as pd\n",
    "excelfile = '../excel/Stock Selection & Watchlists.xlsx'"
   ]
  },
  {
   "cell_type": "markdown",
   "metadata": {},
   "source": [
    "**Create Nifty 50 Watchlist**"
   ]
  },
  {
   "cell_type": "code",
   "execution_count": 10,
   "metadata": {},
   "outputs": [
    {
     "name": "stdout",
     "output_type": "stream",
     "text": [
      "Created watch list for Nifty 50\n"
     ]
    }
   ],
   "source": [
    "def createnifty50watchlist():\n",
    "    outfile = '_Nifty 50.txt'\n",
    "    query = f\"\"\"\n",
    "    select 'NSE:' || symbol as symbol\n",
    "    from indices\n",
    "    where 1 = 1\n",
    "    and indexname = 'Nifty 50'\n",
    "    \"\"\"\n",
    "    df = sd.getdata(query)\n",
    "    str = ','.join(df.symbol)\n",
    "    str = str.replace('&', '_').replace('-', '_')\n",
    "    with open(outfile, \"w\") as f:\n",
    "        f.write(str)\n",
    "    print(f'Created watch list for Nifty 50')\n",
    "\n",
    "createnifty50watchlist()"
   ]
  },
  {
   "cell_type": "markdown",
   "metadata": {},
   "source": [
    "**Create FNO Symbols WatchList**"
   ]
  },
  {
   "cell_type": "code",
   "execution_count": 9,
   "metadata": {},
   "outputs": [
    {
     "name": "stdout",
     "output_type": "stream",
     "text": [
      "Created watch list for FNO Symbols\n"
     ]
    }
   ],
   "source": [
    "def createfnosymbolswatchlist():\n",
    "    outfile = '_FNO Symbols.txt'\n",
    "    query = 'select symbol from currentprice where infno = 1'\n",
    "    df = sd.getdata(query)\n",
    "    str = ','.join(df.symbol)\n",
    "    str = str.replace('&', '_').replace('-', '_')\n",
    "    with open(outfile, \"w\") as f:\n",
    "        f.write(str)\n",
    "    print(f'Created watch list for FNO Symbols')\n",
    "\n",
    "createfnosymbolswatchlist()"
   ]
  },
  {
   "cell_type": "markdown",
   "metadata": {},
   "source": [
    "**Create TradingView watchlists for Selected list of symbols**"
   ]
  },
  {
   "cell_type": "code",
   "execution_count": 11,
   "metadata": {},
   "outputs": [
    {
     "name": "stdout",
     "output_type": "stream",
     "text": [
      "Created watch list for Auto\n",
      "Created watch list for Banks\n",
      "Created watch list for FMCG\n",
      "Created watch list for IT\n",
      "Created watch list for Metal\n",
      "Created watch list for Oil & Gas\n",
      "Created watch list for Pharma\n",
      "Created watch list for _My Watchlist\n",
      "Created watch list for _Nifty Top 12\n",
      "Created watch list for _Sector Indices\n"
     ]
    }
   ],
   "source": [
    "def createmywatchlist():\n",
    "    df = pd.read_excel(excelfile, sheet_name='My Watchlists')\n",
    "    lists = df.groupby('listname')\n",
    "    for name, listname in lists:\n",
    "        symbols = listname.symbol.to_list()\n",
    "        symbols = map(lambda x: 'NSE:'+x, symbols)\n",
    "        str = ','.join(symbols)\n",
    "        str = str.replace('&', '_').replace('-', '_')\n",
    "        outfile = f'{name}.txt'\n",
    "        with open(outfile, \"w\") as f:\n",
    "            f.write(str)\n",
    "        print(f'Created watch list for {name}')\n",
    "\n",
    "createmywatchlist()"
   ]
  },
  {
   "cell_type": "markdown",
   "metadata": {},
   "source": [
    "**Create TradingView watchlists for FnO Symbols for each Sector**"
   ]
  },
  {
   "cell_type": "code",
   "execution_count": null,
   "metadata": {},
   "outputs": [],
   "source": [
    "df = pd.read_excel(excelfile, sheet_name='FNO Symbols')\n",
    "sectors = df.groupby('sector')\n",
    "for name, sector in sectors:\n",
    "    symbols = sector.symbol.to_list()\n",
    "    symbols = map(lambda x: 'NSE:'+x, symbols)\n",
    "    str = ','.join(symbols)\n",
    "    str = str.replace('&', '_').replace('-', '_')\n",
    "    outfile = f'FNO_{name}.txt'\n",
    "    with open(outfile, \"w\") as f:\n",
    "        f.write(str)\n",
    "    print(f'Created watch list for {outfile}')"
   ]
  },
  {
   "cell_type": "markdown",
   "metadata": {},
   "source": [
    "**Create TradingView watchlists for each Sector Indexes**"
   ]
  },
  {
   "cell_type": "code",
   "execution_count": null,
   "metadata": {},
   "outputs": [],
   "source": [
    "def createwatchlist(name):\n",
    "    outfile = f'{name}.txt'\n",
    "    query = f\"\"\"\n",
    "    select 'NSE:' || symbol as symbol\n",
    "    from indices\n",
    "    where 1 = 1\n",
    "    and indexname = '{name}'\n",
    "    \"\"\"\n",
    "    df = sd.getdata(query)\n",
    "    str = ','.join(df.symbol)\n",
    "    str = str.replace('&', '_').replace('-', '_')\n",
    "    with open(outfile, \"w\") as f:\n",
    "        f.write(str)\n",
    "    print(f'Created watch list for {name}')\n",
    "\n",
    "def CreateSectorIndexWatchLists():\n",
    "    query = \"\"\"select distinct indexname\n",
    "    from indices\n",
    "    where 1 = 1\n",
    "    and indextype = 'Sector'\"\"\"\n",
    "    df = sd.getdata(query)\n",
    "    indices_list = df.indexname.to_list()\n",
    "    list(map(createwatchlist, indices_list))\n",
    "\n",
    "CreateSectorIndexWatchLists()"
   ]
  }
 ],
 "metadata": {
  "kernelspec": {
   "display_name": "Python 3",
   "language": "python",
   "name": "python3"
  },
  "language_info": {
   "codemirror_mode": {
    "name": "ipython",
    "version": 3
   },
   "file_extension": ".py",
   "mimetype": "text/x-python",
   "name": "python",
   "nbconvert_exporter": "python",
   "pygments_lexer": "ipython3",
   "version": "3.8.3"
  }
 },
 "nbformat": 4,
 "nbformat_minor": 4
}
